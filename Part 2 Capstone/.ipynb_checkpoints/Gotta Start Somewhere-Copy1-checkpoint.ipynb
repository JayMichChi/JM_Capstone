{
 "cells": [
  {
   "cell_type": "markdown",
   "metadata": {},
   "source": [
    "### JayMichChi Part 2 Capstone\n",
    "### Goal: Jays summary notebook outlining my project's goals, methods, models, and EDA.\n",
    "\n",
    "This will be an overview of my approach with a well-articulated summary that includes your problem statement, outlines your proposed methods and models, defines any risks & assumptions, and includes any revisions from your initial goals & criteria, as needed.\n",
    "\n",
    "In addition, I will explain how I intend to store my data. \n",
    "\n",
    "You'll want to describe and create a data dictionary for your dataset(s), and perform your initial exploratory data analysis.\n"
   ]
  },
  {
   "cell_type": "markdown",
   "metadata": {},
   "source": [
    "### My hypothesis will attempt to:\n",
    "Reasonably predict the amount of annual deaths and property damage due to certain types of storm occurrences based on state and storm type past data.\n",
    "\n",
    "### Capstone Project\n",
    "My capstone will be gathering data from the National Centers for Environmental Information, particularly information from 2003 to 2013, and will look at unusual storm occurrences and unusual weather phenomena, and mores specifically, information on storm paths, deaths, injuries, and property damage.\n",
    "\n",
    "### Outline of Proposed Data Collection Methods \n",
    "National Centers for Environmental Information (NCEI) is responsible for hosting and providing access to one of the most significant archives on Earth, with comprehensive oceanic, atmospheric, and geophysical data. From the depths of the ocean to the surface of the sun and from million-year-old sediment records to near real-time satellite images, NCEI is the Nation’s leading authority for environmental information.  It is from this source that I will primarily ingest data on the following: https://www.ncdc.noaa.gov/stormevents/\n",
    "\n",
    "### Storm Events Database\n",
    "The Storm Events Database contains a chronological listing, by states, of storm occurrences and unusual weather phenomena. Reports contain information on storm paths, deaths, injuries, and property damage.s\n",
    "\n",
    "The Storm Events Database currently contains data from January 1950 to August 2016, as entered by NOAA's National Weather Service (NWS). Due to changes in the data collection and processing procedures over time, there are unique periods of record available depending on the event type. I have chosen to look at the data from 1996 to 2013.\n",
    "\n",
    "### Data base\n",
    "I was able to find the 10 years of data on the following NCDC website FTP server. \n",
    "ftp://ftp.ncdc.noaa.gov/pub/data/swdi/stormevents/csvfiles/legacy/\n",
    "\n",
    "    Index of /pub/data/swdi/stormevents/csvfiles/legacy/\n",
    "    Name\tSize\tDate Modified\n",
    "    ugc_areas.csv\t902 kB\t2/18/14, 12:00:00 AM\n",
    "    stormdata_2013.csv\t53.1 MB\t1/31/14, 12:00:00 AM\n",
    "    stormdata_2012.csv\t64.3 MB\t1/31/14, 12:00:00 AM\n",
    "    stormdata_2011.csv\t82.3 MB\t1/31/14, 12:00:00 AM\n",
    "    stormdata_2010.csv\t62.5 MB\t1/31/14, 12:00:00 AM\n",
    "    Stormdata_2009.csv\t49.9 MB\t9/19/13, 12:00:00 AM\n",
    "    Stormdata_2008.csv\t60.6 MB\t9/19/13, 12:00:00 AM\n",
    "    Stormdata_2007.csv\t49.7 MB\t9/19/13, 12:00:00 AM\n",
    "    Stormdata_2006.csv\t26.0 MB\t9/19/13, 12:00:00 AM\n",
    "    Stormdata_2005.csv\t34.9 MB\t9/19/13, 12:00:00 AM\n",
    "    Stormdata_2004.csv\t33.1 MB\t9/19/13, 12:00:00 AM\n",
    "    Stormdata_2003.csv\t32.1 MB\t9/19/13, 12:00:00 AM\n",
    "  \n",
    "I have successfully downloaded all 18 CSV files. My work will show that i merged the data via pandas concant processes. Additionally, I will have to clean the data, reformat dates, categorize certain feature series, and perhaps use dummy variables to allow me to model the data successfully. "
   ]
  },
  {
   "cell_type": "markdown",
   "metadata": {},
   "source": [
    "### Outline of Proposed Data Cleaning Methods"
   ]
  },
  {
   "cell_type": "markdown",
   "metadata": {},
   "source": [
    "### Risks & Assumptions\n",
    "\n",
    "There are some risks and assumptions that I need to incorporate into my capstone and the data. \n",
    "\n",
    "First, I will be looking at the dollar damage. Certainly inflation will come into play as the cost of crops and property replacement costs fluctuate. This is one of the primary reasons that I am reducing my data to just 10 years. \n",
    "\n",
    "(The other reason is the sheer size of the database) \n",
    "\n",
    "There are also confounding factors that will effect the results: For instance, absolutely/categorically attributing  fatalities to a weather event may not be completely correct, and may in fact occcur our of coincidence. Additionally, there are extenuating factors that could effect the cost or fatality number. For instance, the responsiveness of the National Guard, or massive federal funding may effect the amount of fatalities, or the extent of damage. \n",
    "\n",
    "In short, the assumption we make is that all these extenuating factors will not adversely effect the results because our dataset of over 600,000 instances is so large. \n"
   ]
  },
  {
   "cell_type": "markdown",
   "metadata": {},
   "source": [
    "### Outline of Proposed Data Modelling\n",
    "\n",
    "I expect that once i complete cleaning the data set, I will then fitting this data to a few modeles.\n",
    "\n",
    "My initial inclination is to see if I can find any coorelations in the 58 columns of data. \n",
    "\n",
    "I believe that Logistic Regression model and Linear Regression models will be the first two models I will run. \n",
    "\n",
    "\n",
    "I will perform a train test split on just a segment of random data I grab from my database. This will allow me to work with dataset that is more managable for my laptop. \n",
    "\n",
    "Once cleaned, tts, fit and run, I will attempt to graph the results."
   ]
  },
  {
   "cell_type": "markdown",
   "metadata": {},
   "source": [
    "### Create local database\n",
    "Below I grab my data from NOAA "
   ]
  },
  {
   "cell_type": "code",
   "execution_count": null,
   "metadata": {
    "collapsed": false
   },
   "outputs": [],
   "source": [
    "#here is my scroll. it works, but the database url_base changes in y2010, \n",
    "# so i will re-run this with the updated base_url\n",
    "import pandas as pd\n",
    "import time\n",
    "url_list = ['ftp://ftp.ncdc.noaa.gov/pub/data/swdi/stormevents/csvfiles/legacy/Stormdata_2003.csv']\n",
    "web_count= 2003\n",
    "for pages in range(1,7):\n",
    "    web_count= 1 + web_count\n",
    "    count_update=str(web_count)\n",
    "    base_url = 'ftp://ftp.ncdc.noaa.gov/pub/data/swdi/stormevents/csvfiles/legacy/Stormdata_' + count_update + '.csv'\n",
    "    url_list.append(base_url)\n",
    "url_list\n",
    "# This works wonderfully!"
   ]
  },
  {
   "cell_type": "code",
   "execution_count": null,
   "metadata": {
    "collapsed": false
   },
   "outputs": [],
   "source": [
    "# This is my one time function that will load, append\n",
    "# for url in url_list:\n",
    "data1 = []\n",
    "for url in url_list:\n",
    "    page = pd.read_csv((url)) \n",
    "    data1.append(page)\n",
    "    time.sleep(3.0)"
   ]
  },
  {
   "cell_type": "code",
   "execution_count": null,
   "metadata": {
    "collapsed": true
   },
   "outputs": [],
   "source": [
    "data1_all = pd.concat(data1, axis=0)"
   ]
  },
  {
   "cell_type": "code",
   "execution_count": null,
   "metadata": {
    "collapsed": false
   },
   "outputs": [],
   "source": [
    "print data1_all.shape"
   ]
  },
  {
   "cell_type": "code",
   "execution_count": null,
   "metadata": {
    "collapsed": false
   },
   "outputs": [],
   "source": [
    "#as above\n",
    "# so i will re-run this with the updated base_url\n",
    "\n",
    "import time\n",
    "url_list_2 = ['ftp://ftp.ncdc.noaa.gov/pub/data/swdi/stormevents/csvfiles/legacy/stormdata_2010.csv']\n",
    "web_count= 2010\n",
    "for pages in range(1,4):\n",
    "    web_count= 1 + web_count\n",
    "    count_update=str(web_count)\n",
    "    base_url_2 = 'ftp://ftp.ncdc.noaa.gov/pub/data/swdi/stormevents/csvfiles/legacy/stormdata_' + count_update + '.csv'\n",
    "    url_list_2.append(base_url_2)\n",
    "url_list_2\n",
    "# This works wonderfully!"
   ]
  },
  {
   "cell_type": "code",
   "execution_count": null,
   "metadata": {
    "collapsed": false
   },
   "outputs": [],
   "source": [
    "# This is my one time function that will load, append\n",
    "# for url in url_list:\n",
    "import pandas as pd\n",
    "data2 = []\n",
    "for url in url_list_2:\n",
    "    page = pd.read_csv((url)) \n",
    "    data2.append(page)\n",
    "    time.sleep(30.0)"
   ]
  },
  {
   "cell_type": "code",
   "execution_count": null,
   "metadata": {
    "collapsed": true
   },
   "outputs": [],
   "source": [
    "data2_all=pd.concat(data2, axis=0)"
   ]
  },
  {
   "cell_type": "code",
   "execution_count": null,
   "metadata": {
    "collapsed": false
   },
   "outputs": [],
   "source": [
    "data2_all.shape"
   ]
  },
  {
   "cell_type": "code",
   "execution_count": null,
   "metadata": {
    "collapsed": false
   },
   "outputs": [],
   "source": [
    "df_all = pd.concat([data1_all, data2_all], axis=0)"
   ]
  },
  {
   "cell_type": "code",
   "execution_count": null,
   "metadata": {
    "collapsed": false
   },
   "outputs": [],
   "source": [
    "df_all.shape"
   ]
  },
  {
   "cell_type": "code",
   "execution_count": null,
   "metadata": {
    "collapsed": false
   },
   "outputs": [],
   "source": [
    "print df_all.columns"
   ]
  },
  {
   "cell_type": "code",
   "execution_count": null,
   "metadata": {
    "collapsed": false
   },
   "outputs": [],
   "source": [
    "#convert dataframe to csv\n",
    "\n",
    "df_all.to_csv('jm_cap.csv')\n",
    "#This worked!  Thank God this was successful on Tuesday school!\n",
    "# 10 years worth of data (654313, 58)"
   ]
  },
  {
   "cell_type": "markdown",
   "metadata": {
    "collapsed": true
   },
   "source": [
    "### DONE DATABASE IS SUCCESSFULLY DOWNLOADED"
   ]
  },
  {
   "cell_type": "markdown",
   "metadata": {},
   "source": [
    "### Create a data dictionary\n",
    "\n",
    "    Storm Data Export Format, Field names\n",
    "\n",
    "    Event Details File (named event_details_YYYYMM.csv):\n",
    "    last_date_modified  Ex:  4/4/2012  11:05:44 PM, 5/3/2012  5:10:49 AM\n",
    "    MM/DD/YYYY  12 hour time AM/PM\n",
    "\n",
    "    The last date of modification by NWS.  Any corrections to the storm event/episode in question are made solely by NWS and the person that actually entered the event/episode.\n",
    "\n",
    "    last_date_certified  Ex:  5/10/2012  9:10:51 AM, 5/18/2012  12:21:15 AM \n",
    "    MM/DD/YYYY  12 hour time AM/PM\n",
    "\n",
    "    The last date of certification by NWS.  Any corrections to the storm event/episode in question are made solely by NWS and the person that actually entered the event/episode.\n",
    "\n",
    "    episode_id   Ex: 61280, 62777, 63250\n",
    "    (ID assigned by NWS to denote the storm episode; links the event details file with the information within location file)\n",
    "\n",
    "    The occurrence of storms and other significant weather phenomena having sufficient intensity to cause loss of life, injuries, significant property damage, and/or disruption to commerce.  Rare, unusual, weather phenomena that generate media attention, such as snow flurries in South Florida or the San Diego coastal area; and Other significant meteorological events, such as record maximum or minimum temperatures or precipitation that occur in connection with another event.\n",
    "\n",
    "    event_id  Ex: 383097, 374427, 364175\n",
    "\n",
    "    (Primary database key field)\n",
    "    (ID assigned by NWS to note a single, small part that goes into a specific storm episode; links the storm episode between the three files downloaded from SPC’s website)\n",
    "\n",
    "    state  Ex:  GEORGIA,  WYOMING, COLORADO\n",
    "    The state name where the event occurred (no State ID’s are included here; State Name is spelled out in ALL CAPS)\n",
    "\n",
    "    state_fips  Ex: 45, 30, 12\n",
    "    A unique number (State Federal Information Processing Standard) is assigned to the county by the National Institute for Standards and Technology (NIST).\n",
    "\n",
    "    year  Ex: 2000, 2006, 2012\n",
    "    Four digit year for the event in this record\n",
    "\n",
    "\n",
    "\n",
    "    month_name  Ex: January, February, March\n",
    "    Name of the month for the event in this record (spelled out; not abbreviated)\n",
    "\n",
    "    event_type  Ex: Hail, Thunderstorm Wind, Snow, Ice (spelled out; not abbreviated)\n",
    "\n",
    "    The only events permitted in Storm Data are listed in Table 1 of Section 2.1.1 of NWS Directive 10-1605 at http://www.nws.noaa.gov/directives/sym/pd01016005curr.pdf. The chosen event name should be the one that most accurately describes the meteorological event leading to fatalities, injuries, damage, etc. However, significant events, such as tornadoes, having no impact or causing no damage, should also be included in Storm Data.\n",
    "\n",
    "    From Section 2.1.1 of NWS Directive 10-1605:\n",
    "    Event Name / Designator (County or Zone and whether the event happened in a (C) county/parish,(Z)zone or(M) marine\n",
    "    Astronomical Low Tide\tZ \n",
    "    Avalanche    Z \n",
    "    Blizzard    Z \n",
    "    Coastal Flood   Z \n",
    "    Cold/Wind Chill   Z \n",
    "    Debris Flow    C \n",
    "    Dense Fog    Z \n",
    "    Dense Smoke   Z \n",
    "    Drought    Z \n",
    "    Dust Devil    C \n",
    "    Dust Storm    Z \n",
    "    Excessive Heat   Z \n",
    "    Extreme Cold/Wind Chill   Z \n",
    "    Flash Flood    C   \n",
    "    Flood     C \n",
    "    Frost/Freeze    Z \n",
    "    Funnel Cloud   C \n",
    "    Freezing Fog   Z \n",
    "    Hail     C \n",
    "    Heat      Z \n",
    "    Heavy Rain    C \n",
    "    Heavy Snow    Z \n",
    "    High Surf    Z \n",
    "    High Wind    Z \n",
    "    Hurricane (Typhoon)   Z \n",
    "    Ice Storm    Z \n",
    "    Lake-Effect Snow   Z \n",
    "    Lakeshore Flood   Z \n",
    "    Lightning    C \n",
    "    Marine Hail    M \n",
    "    Marine High Wind   M \n",
    "    Marine Strong Wind   M \n",
    "    Marine Thunderstorm Wind   M  \n",
    "    Rip Current    Z \n",
    "    Seiche     Z \n",
    "    Sleet      Z \n",
    "    Storm Surge/Tide   Z \n",
    "    Strong Wind    Z \n",
    "    Thunderstorm Wind   C \n",
    "    Tornado    C \n",
    "    Tropical Depression   Z \n",
    "    Tropical Storm   Z \n",
    "    Tsunami    Z \n",
    "    Volcanic Ash   Z \n",
    "    Waterspout    M \n",
    "    Wildfire    Z \n",
    "    Winter Storm   Z \n",
    "    Winter Weather   Z\n",
    "    cz_type  Ex: C, Z , M\n",
    "\n",
    "\n",
    "    cz_fips Ex: 245, 003, 155\n",
    "    The county FIPS number is a unique number assigned to the county by the National Institute for Standards and Technology (NIST) or NWS Forecast Zone Number (See addendum)\n",
    "\n",
    "    cz_name  Ex: AIKEN, RICHMOND, BAXTER (County/Parish, Zone or Marine Name assigned to the county FIPS number or NWS Forecast Zone)\n",
    "\n",
    "    wfo  Ex: CAE, BYZ, GJT (National Weather Service Forecast Office’s area of responsibility (County Warning Area) in which the event occurred)\n",
    "\n",
    "    begin_date_time  Ex: 4/1/2012  20:48\n",
    "    MM/DD/YYYY  24 hour time AM/PM\n",
    "\n",
    "    cz_timezone  Ex: EST-5, MST-7, CST-6\n",
    "    (Time Zone for the County/Parish, Zone or Marine Name)\n",
    "    Eastern Standard Time (EST), Central Standard Time (CST), Mountain Standard Time (MST), etc.\n",
    "\n",
    "    end_date_time  Ex: 4/1/2012  21:03\n",
    "    MM/DD/YYYY  24 hour time AM/PM\n",
    "\n",
    "    injuries_direct  Ex:  1, 0, 56\n",
    "    The number of injuries directly related to the weather event\n",
    "\n",
    "    injuries_indirect  Ex:  0, 15, 87\n",
    "    The number of injuries indirectly related to the weather event\n",
    "\n",
    "    deaths_direct  Ex: 0, 45, 23\n",
    "    The number of deaths directly related to the weather event.\n",
    "\n",
    "    deaths_indirect Ex: 0, 4, 6\n",
    "    The number of deaths indirectly related to the weather event\n",
    "\n",
    "    damage_property  Ex: 10.00K, 0.00K, 10.00M\n",
    "    The estimated amount of damage to property incurred by the weather event.  (e.g. 10.00K = $10,000; 10.00M = $10,000,000)\n",
    "\n",
    "    damage_crops  Ex: 0.00K, 500.00K, 15.00M\n",
    "    The estimated amount of damage to crops incurred by the weather event   (e.g. 10.00K = $10,000; 10.00M = $10,000,000)\n",
    "    source  Ex: Public, Newspaper, Law Enforcement, Broadcast Media, ASOS, Park and Forest Service, Trained Spotter, CoCoRaHS,  etc.  (can be any entry; isn’t restricted in what’s allowed)\n",
    "    Source reporting the weather event\n",
    "\n",
    "    magnitude  Ex: 0.75, 60, 0.88, 2.75\n",
    "    measured extent of the magnitude type ~ only used for wind speeds and hail size (e.g. 0.75” of hail; 60 mph winds)\n",
    "\n",
    "    magnitude_type   Ex: EG, MS, MG, ES\n",
    "    EG = Wind Estimated Gust; ES = Estimated Sustained Wind; MS = Measured Sustained Wind; MG = Measured Wind Gust (no magnitude is included for instances of hail)\n",
    "\n",
    "    flood_cause  Ex:  Ice Jam, Heavy Rain, Heavy Rain/Snow Melt\n",
    "    Reported or estimated cause of the flood\n",
    "\n",
    "    category  Ex: \n",
    "    Unknown (During the time of downloading this particular file, NCDC has never seen anything provided within this field.)\n",
    "\n",
    "    tor_f_scale  Ex: EF0, EF1, EF2, EF3, EF4, EF5\n",
    "    Enhanced Fujita Scale describes the strength of the tornado based on the amount and type of damage caused by the tornado.  The F-scale of damage will vary in the destruction area; therefore, the highest value of the F-scale is recorded for each event. \n",
    "    EF0 – Light Damage (40 – 72 mph)\n",
    "    EF1 – Moderate Damage (73 – 112 mph)\n",
    "    EF2 – Significant damage (113 – 157 mph)\n",
    "    EF3 – Severe Damage (158 – 206 mph)\n",
    "    EF4 – Devastating Damage (207 – 260 mph)\n",
    "    EF5 – Incredible Damage (261 – 318 mph)\n",
    "\n",
    "    tor_length  Ex: 0.66, 1.05, 0.48\n",
    "    Length of the tornado or tornado segment while on the ground (minimal of tenths of miles)\n",
    "\n",
    "    tor_width  Ex:  25, 50, 2640, 10\n",
    "    Width of the tornado or tornado segment while on the ground (in feet)\n",
    "\n",
    "    tor_other_wfo  Ex: DDC, ICT, TOP,OAX\n",
    "    Indicates the continuation of a tornado segment as it crossed from one National Weather Service Forecast Office to another.  The subsequent WFO identifier is provided within this field\n",
    "\n",
    "    tor_other_cz_state   Ex: KS, NE, OK\n",
    "    The two character representation for the state name of the continuing tornado segment as it crossed from one county or zone to another.  The subsequent 2-Letter State ID is provided within this field.\n",
    "\n",
    "    tor_other_cz_fips  Ex: 41, 127, 153\n",
    "    The FIPS number of the county entered by the continuing tornado segment as it crossed from one county to another.  The subsequent FIPS number is provided within this field.\n",
    "\n",
    "    tor_other_cz_name  Ex: DICKINSON, NEMAHA, SARPY\n",
    "    The FIPS name of the county entered by the continuing tornado segment as it crossed from one county to another.  The subsequent county or zone name is provided within this field in ALL CAPS.\n",
    "\n",
    "    episode_title  Ex: Severe weather outbreak on Saturday April 14 in eastern Nebraska\n",
    "    A short description of the episode.  (Short name for the episode itself as determined by NWS.)\n",
    "\n",
    "    episode_narrative  (The episode narrative depicting the general nature and overall activity of the episode.  The narrative is created by NWS.)  Ex: A strong upper level system over the southern Rockies lifted northeast across the plains causing an intense surface low pressure system and attendant warm front to lift into Nebraska.  \n",
    "\n",
    "    event_narrative  (The event narrative provides more specific details of the individual event .  The event narrative is provided by NWS.) Ex:  Heavy rain caused flash flooding across parts of Wilber.  Rainfall of 2 to 3 inches fell across the area. \n",
    "\n",
    "    Storm Data Location File (named event_locations_YYYYMM.csv):\n",
    "    episode_id   Ex: 60904 (ID assigned by NWS to denote the storm episode; links the storm episode with the information within the event details file) An Episode may contain several different events.\n",
    "    event_id     Ex: 364000, 364001, 364002, 364003 (ID assigned by NWS to note a single, small part that goes into a specific storm episode; links the storm episode between the three files downloaded from SPC’s website)\n",
    "    location_index   Ex: 1-x (Number assigned  by NWS to specific locations within the same Storm event. Each event’s sequentially increasing location index number will have a corresponding lat/lon point)\n",
    "    range   Ex: 0.59, 0.69, 4.84, 1.17 {A hydro-meteorological event will be referenced, minimally, to the nearest tenth of a mile, to the geographical center (not from the village/city boundaries or limits) of a particular village/city, airport, or inland lake, providing that the reference point is documented in the Storm Data software location database. }\n",
    "    azimuth  Ex: ENE, NW, WSW, S  {16-point compass direction from a particular village/city, airport, or inland lake, providing that the reference point is documented in the Storm Data software location database of > 130,000 locations.}\n",
    "    location  Ex:  PINELAND,  CENTER, ORRS, RUSK {center from which the range is calculated and the azimuth is determined}\n",
    "\n",
    "    lat  Ex: 31.25, 31.79, 32.76, 31.80\n",
    "    The latitude where the event occurred {rounded to the hundredths in decimal degrees; includes an ‘-‘ if it’s S of the Equator}\n",
    "\n",
    "    lon  Ex: -93.97, -94.18, -94.52, -95.13\n",
    "    The longitude where the event occurred {rounded to the hundredths in decimal degrees; includes an ‘-‘ if it’s W of the Prime Meridian}\n",
    "\n",
    "    Storm Data Fatality File (named event_fatalities_YYYYMM.csv):\n",
    "    fatality_id  Ex: 17582, 17590, 17597, 18222 (ID assigned by NWS to denote the individual fatality that occurred within a storm event)\n",
    "    event_id  Ex: 364302, 365560, 365945, 367330 (ID assigned by NWS to note a single, small part that goes into a specific storm episode; links the storm episode between the three files downloaded from SPC’s website)\n",
    "    fatality_type  Ex: D , I (D = Direct Fatality; I = Indirect Fatality; assignment of this is determined by NWS software; details below are from NWS Directve 10-1605 at http://www.nws.noaa.gov/directives/sym/pd01016005curr.pdf, Section 2.6)\n",
    "        •\tDirect Fatality:  “A direct fatality or injury is defined as a fatality or injury directly attributable to the hydro-meteorological event itself, or impact by airborne/falling/moving debris, i.e., missiles generated by wind, water, ice, lightning, tornado, etc. “\n",
    "        •\tIndirect Fatality:  “Fatalities and injuries, occurring in the vicinity of a hydrometeorological event, or after it has ended, but not directly caused by impact or debris from the event (weather event was a passive entity), are classified as indirect.”\n",
    "\n",
    "    fatality_date  Ex: 4/3/2012  12:00:00 AM, 4/11/2012  12:00:00 AM\n",
    "    MM/DD/YYYY  12 hour time AM/PM\n",
    "\n",
    "    fatality_age  Ex: 38, 25, 69, 54\n",
    "    The age of the fatalities\n",
    "\n",
    "    fatality_sex  Ex: M, F\n",
    "    The gender of the fatalities\n",
    "\n",
    "    fatality_location  Ex: Under Tree, Boating, Vehicle/Towed Trailer\n",
    "\n",
    "    Direct Fatality Location Table\n",
    "\n",
    "    BF Ball Field\n",
    "    BO Boating\n",
    "    BU Business\n",
    "    CA Camping\n",
    "    CH Church\n",
    "    EQ Heavy Equip/Construction\n",
    "    GF Golfing\n",
    "    IW In Water\n",
    "    LS Long Span Roof\n",
    "    MH Mobile/Trailer Home\n",
    "    OT Other/Unknown\n",
    "    OU Outside/Open Areas\n",
    "    PH Permanent Home\n",
    "    PS Permanent Structure\n",
    "    SC School\n",
    "    TE Telephone\n",
    "    UT Under Tree\n",
    "    VE Vehicle and/or Towed Trailer\n"
   ]
  },
  {
   "cell_type": "code",
   "execution_count": 5,
   "metadata": {
    "collapsed": false
   },
   "outputs": [
    {
     "data": {
      "text/plain": [
       "Thunderstorm Wind           239820\n",
       "Hail                        230213\n",
       "Flash Flood                  60548\n",
       "Winter Storm                 53098\n",
       "High Wind                    49553\n",
       "Heavy Snow                   47711\n",
       "Drought                      43316\n",
       "Flood                        36731\n",
       "Winter Weather               30065\n",
       "Tornado                      24920\n",
       "Heat                         16523\n",
       "Marine Thunderstorm Wind     15366\n",
       "Heavy Rain                   15217\n",
       "Strong Wind                  14704\n",
       "Lightning                    14229\n",
       "Cold/Wind Chill              10494\n",
       "Blizzard                     10299\n",
       "Ice Storm                     9317\n",
       "Dense Fog                     8478\n",
       "Frost/Freeze                  8349\n",
       "Funnel Cloud                  6648\n",
       "Extreme Cold/Wind Chill       6481\n",
       "High Surf                     5969\n",
       "Excessive Heat                5805\n",
       "WINTER WEATHER                5697\n",
       "Wildfire                      5233\n",
       "Tropical Storm                3933\n",
       "Waterspout                    3818\n",
       "Hurricane (Typhoon)           1758\n",
       "Coastal Flood                 1676\n",
       "Lake-Effect Snow              1371\n",
       "Storm Surge/Tide              1157\n",
       "Rip Current                    897\n",
       "Dust Storm                     701\n",
       "Marine Hail                    539\n",
       "Sleet                          505\n",
       "Avalanche                      460\n",
       "Debris Flow                    460\n",
       "Landslide                      362\n",
       "Tropical Depression            313\n",
       "Astronomical Low Tide          302\n",
       "Freezing Fog                   273\n",
       "Marine High Wind               236\n",
       "Dust Devil                     171\n",
       "Marine Strong Wind              76\n",
       "Volcanic Ash                    74\n",
       "Seiche                          42\n",
       "Lakeshore Flood                 41\n",
       "Tsunami                         29\n",
       "Hurricane                       19\n",
       "Dense Smoke                     18\n",
       "Northern Lights                  8\n",
       "Marine Tropical Storm            6\n",
       "Heavy Wind                       4\n",
       "Sneakerwave                      3\n",
       "Marine Dense Fog                 1\n",
       "High Snow                        1\n",
       "OTHER                            1\n",
       "Name: EVENT_TYPE, dtype: int64"
      ]
     },
     "execution_count": 5,
     "metadata": {},
     "output_type": "execute_result"
    }
   ],
   "source": [
    "df1.EVENT_TYPE.value_counts()"
   ]
  },
  {
   "cell_type": "markdown",
   "metadata": {},
   "source": [
    "### Data Cleaning....."
   ]
  },
  {
   "cell_type": "code",
   "execution_count": 31,
   "metadata": {
    "collapsed": false
   },
   "outputs": [
    {
     "data": {
      "text/plain": [
       "Index([u'Unnamed: 0', u'BEGIN_YEARMONTH', u'BEGIN_DAY', u'BEGIN_TIME',\n",
       "       u'END_YEARMONTH', u'END_DAY', u'END_TIME', u'EPISODE_ID', u'EVENT_ID',\n",
       "       u'STATE', u'STATE_FIPS', u'YEAR', u'MONTH_NAME', u'EVENT_TYPE',\n",
       "       u'CZ_TYPE', u'CZ_FIPS', u'CZ_NAME', u'WFO', u'BEGIN_DATE_TIME',\n",
       "       u'CZ_TIMEZONE', u'END_DATE_TIME', u'INJURIES_DIRECT',\n",
       "       u'INJURIES_INDIRECT', u'DEATHS_DIRECT', u'DEATHS_INDIRECT',\n",
       "       u'DAMAGE_PROPERTY', u'DAMAGE_CROPS', u'SOURCE', u'MAGNITUDE',\n",
       "       u'MAGNITUDE_TYPE', u'FLOOD_CAUSE', u'CATEGORY', u'TOR_F_SCALE',\n",
       "       u'TOR_LENGTH', u'TOR_WIDTH', u'TOR_OTHER_WFO', u'TOR_OTHER_CZ_STATE',\n",
       "       u'TOR_OTHER_CZ_FIPS', u'TOR_OTHER_CZ_NAME', u'BEGIN_RANGE',\n",
       "       u'BEGIN_AZIMUTH', u'BEGIN_LOCATION', u'END_RANGE', u'END_AZIMUTH',\n",
       "       u'END_LOCATION', u'BEGIN_LAT', u'BEGIN_LON', u'END_LAT', u'END_LON',\n",
       "       u'EPISODE_NARRATIVE', u'EVENT_NARRATIVE', u'LAST_MOD_DATE',\n",
       "       u'LAST_MOD_TIME', u'LAST_CERT_DATE', u'LAST_CERT_TIME', u'LAST_MOD',\n",
       "       u'LAST_CERT', u'ADDCORR_FLG', u'ADDCORR_DATE'],\n",
       "      dtype='object')"
      ]
     },
     "execution_count": 31,
     "metadata": {},
     "output_type": "execute_result"
    }
   ],
   "source": [
    "import pandas as pd\n",
    "df1 = pd.read_csv('jm_cap.csv')\n",
    "df1.columns"
   ]
  },
  {
   "cell_type": "code",
   "execution_count": 32,
   "metadata": {
    "collapsed": false
   },
   "outputs": [],
   "source": [
    "# Need to combine a few dataSeries to get a date\n",
    "df1['begin_date_full'] = pd.to_datetime(df1.BEGIN_YEARMONTH*100+df1.BEGIN_DAY,format='%Y%m%d',errors='ignore')"
   ]
  },
  {
   "cell_type": "code",
   "execution_count": 33,
   "metadata": {
    "collapsed": false
   },
   "outputs": [],
   "source": [
    "# Want to add a column with a combination of injuries and deaths called casualties\n",
    "df1['casualties'] = pd.DataFrame(df1.INJURIES_DIRECT + df1.INJURIES_INDIRECT + df1.DEATHS_DIRECT + df1.DEATHS_INDIRECT)"
   ]
  },
  {
   "cell_type": "code",
   "execution_count": 34,
   "metadata": {
    "collapsed": true
   },
   "outputs": [],
   "source": [
    "# I think I may dummy some of these columns\n",
    "df1['EVENT_TYPE'] = df1['EVENT_TYPE'].astype('category')\n",
    "df1['STATE'] = df1['STATE'].astype('category')"
   ]
  },
  {
   "cell_type": "code",
   "execution_count": 105,
   "metadata": {
    "collapsed": false
   },
   "outputs": [],
   "source": [
    "# I may want to extract just a few key columns that I will need\n",
    "data = df1[['begin_date_full', 'STATE', 'EVENT_TYPE', 'INJURIES_DIRECT', \n",
    "            'INJURIES_INDIRECT', 'DEATHS_DIRECT', 'DEATHS_INDIRECT',\n",
    "            'casualties','DAMAGE_PROPERTY', 'DAMAGE_CROPS']]"
   ]
  },
  {
   "cell_type": "code",
   "execution_count": 131,
   "metadata": {
    "collapsed": false,
    "scrolled": true
   },
   "outputs": [
    {
     "data": {
      "text/plain": [
       "begin_date_full      datetime64[ns]\n",
       "STATE                      category\n",
       "EVENT_TYPE                 category\n",
       "INJURIES_DIRECT               int64\n",
       "INJURIES_INDIRECT             int64\n",
       "DEATHS_DIRECT                 int64\n",
       "DEATHS_INDIRECT               int64\n",
       "casualties                    int64\n",
       "DAMAGE_PROPERTY             float64\n",
       "DAMAGE_CROPS                float64\n",
       "Combined_damage             float64\n",
       "dtype: object"
      ]
     },
     "execution_count": 131,
     "metadata": {},
     "output_type": "execute_result"
    }
   ],
   "source": [
    "data1.dtypes"
   ]
  },
  {
   "cell_type": "code",
   "execution_count": 109,
   "metadata": {
    "collapsed": false
   },
   "outputs": [
    {
     "data": {
      "text/plain": [
       "0             NaN\n",
       "1             NaN\n",
       "2             NaN\n",
       "3             NaN\n",
       "4             NaN\n",
       "5              5K\n",
       "6             25K\n",
       "7             25K\n",
       "8             50K\n",
       "9             33K\n",
       "10            NaN\n",
       "11            NaN\n",
       "12            NaN\n",
       "13            NaN\n",
       "14            NaN\n",
       "15            NaN\n",
       "16             5M\n",
       "17             5K\n",
       "18            NaN\n",
       "19            NaN\n",
       "20             5K\n",
       "21            10K\n",
       "22           .25M\n",
       "23            40K\n",
       "24             5K\n",
       "25            50K\n",
       "26            NaN\n",
       "27            NaN\n",
       "28            NaN\n",
       "29            NaN\n",
       "           ...   \n",
       "994009      0.50K\n",
       "994010      6.00K\n",
       "994011        NaN\n",
       "994012        NaN\n",
       "994013        NaN\n",
       "994014      0.00K\n",
       "994015      0.00K\n",
       "994016     10.00K\n",
       "994017     10.00K\n",
       "994018      0.00K\n",
       "994019      3.00K\n",
       "994020        NaN\n",
       "994021        NaN\n",
       "994022        NaN\n",
       "994023      3.50K\n",
       "994024        NaN\n",
       "994025      0.00K\n",
       "994026    100.00K\n",
       "994027     40.00K\n",
       "994028     70.00K\n",
       "994029      0.00K\n",
       "994030      1.00K\n",
       "994031      5.00K\n",
       "994032      0.00K\n",
       "994033      3.00K\n",
       "994034      4.00K\n",
       "994035      1.00K\n",
       "994036     10.00K\n",
       "994037      0.50K\n",
       "994038      1.50K\n",
       "Name: DAMAGE_PROPERTY, dtype: object"
      ]
     },
     "execution_count": 109,
     "metadata": {},
     "output_type": "execute_result"
    }
   ],
   "source": [
    "import numpy as np\n",
    "data['DAMAGE_CROPS'].replace('', np.NaN)\n",
    "data['DAMAGE_PROPERTY'].replace('', np.NaN)\n"
   ]
  },
  {
   "cell_type": "code",
   "execution_count": 115,
   "metadata": {
    "collapsed": false
   },
   "outputs": [],
   "source": [
    "data['DAMAGE_CROPS'].fillna('0.00K', inplace=True)\n",
    "data['DAMAGE_PROPERTY'].fillna('0.00K', inplace=True)"
   ]
  },
  {
   "cell_type": "code",
   "execution_count": 116,
   "metadata": {
    "collapsed": false
   },
   "outputs": [],
   "source": [
    "data1 = data[0:150000]"
   ]
  },
  {
   "cell_type": "code",
   "execution_count": 117,
   "metadata": {
    "collapsed": false,
    "scrolled": true
   },
   "outputs": [
    {
     "data": {
      "text/plain": [
       "<bound method Series.unique of 0         0.00K\n",
       "1         0.00K\n",
       "2         0.00K\n",
       "3         0.00K\n",
       "4         0.00K\n",
       "5         0.00K\n",
       "6         0.00K\n",
       "7         0.00K\n",
       "8         0.00K\n",
       "9         0.00K\n",
       "10        0.00K\n",
       "11        0.00K\n",
       "12        0.00K\n",
       "13        0.00K\n",
       "14        0.00K\n",
       "15        0.00K\n",
       "16        0.00K\n",
       "17        0.00K\n",
       "18        0.00K\n",
       "19        0.00K\n",
       "20        0.00K\n",
       "21        0.00K\n",
       "22        0.00K\n",
       "23        0.00K\n",
       "24        0.00K\n",
       "25        0.00K\n",
       "26        0.00K\n",
       "27        0.00K\n",
       "28        0.00K\n",
       "29        0.00K\n",
       "          ...  \n",
       "149970    0.00K\n",
       "149971    0.00K\n",
       "149972    0.00K\n",
       "149973    0.00K\n",
       "149974    0.00K\n",
       "149975    0.00K\n",
       "149976    0.00K\n",
       "149977    0.00K\n",
       "149978    0.00K\n",
       "149979    0.00K\n",
       "149980    0.00K\n",
       "149981    0.00K\n",
       "149982    0.00K\n",
       "149983    0.00K\n",
       "149984    0.00K\n",
       "149985    0.00K\n",
       "149986    0.00K\n",
       "149987    0.00K\n",
       "149988    0.00K\n",
       "149989    0.00K\n",
       "149990    0.00K\n",
       "149991    0.00K\n",
       "149992    0.00K\n",
       "149993    0.00K\n",
       "149994    0.00K\n",
       "149995    0.00K\n",
       "149996    0.00K\n",
       "149997    0.00K\n",
       "149998    0.00K\n",
       "149999    0.00K\n",
       "Name: DAMAGE_CROPS, dtype: object>"
      ]
     },
     "execution_count": 117,
     "metadata": {},
     "output_type": "execute_result"
    }
   ],
   "source": [
    "data1.DAMAGE_CROPS.unique"
   ]
  },
  {
   "cell_type": "code",
   "execution_count": 119,
   "metadata": {
    "collapsed": false
   },
   "outputs": [],
   "source": [
    "import numpy as np\n",
    "data1.DAMAGE_CROPS = (data1.DAMAGE_CROPS.replace(r'[KMBT]+$', '', regex=True).astype(float) * \\\n",
    "                        data1.DAMAGE_CROPS.str.extract(r'[\\d\\.]+([KMBT]+)', expand=False)\n",
    "                        .fillna(1)\n",
    "                        .replace(['K','M','B','T'], [10**3, 10**6, 10**9, 10**12]).astype(int))"
   ]
  },
  {
   "cell_type": "code",
   "execution_count": 120,
   "metadata": {
    "collapsed": true
   },
   "outputs": [],
   "source": [
    "import numpy as np\n",
    "data1.DAMAGE_PROPERTY = (data1.DAMAGE_PROPERTY.replace(r'[KMBT]+$', '', regex=True).astype(float) * \\\n",
    "                        data1.DAMAGE_PROPERTY.str.extract(r'[\\d\\.]+([KMBT]+)', expand=False)\n",
    "                        .fillna(1)\n",
    "                        .replace(['K','M','B','T'], [10**3, 10**6, 10**9, 10**12]).astype(int))"
   ]
  },
  {
   "cell_type": "code",
   "execution_count": 127,
   "metadata": {
    "collapsed": false
   },
   "outputs": [
    {
     "name": "stderr",
     "output_type": "stream",
     "text": [
      "/Users/ugp/anaconda2/lib/python2.7/site-packages/ipykernel/__main__.py:1: SettingWithCopyWarning: \n",
      "A value is trying to be set on a copy of a slice from a DataFrame.\n",
      "Try using .loc[row_indexer,col_indexer] = value instead\n",
      "\n",
      "See the caveats in the documentation: http://pandas.pydata.org/pandas-docs/stable/indexing.html#indexing-view-versus-copy\n",
      "  if __name__ == '__main__':\n"
     ]
    }
   ],
   "source": [
    "data1['Combined_damage'] = data1['DAMAGE_PROPERTY'] + data1['DAMAGE_CROPS']"
   ]
  },
  {
   "cell_type": "code",
   "execution_count": 128,
   "metadata": {
    "collapsed": false
   },
   "outputs": [
    {
     "data": {
      "text/plain": [
       "0               0.0\n",
       "1               0.0\n",
       "2               0.0\n",
       "3               0.0\n",
       "4               0.0\n",
       "5            5000.0\n",
       "6           25000.0\n",
       "7           25000.0\n",
       "8           50000.0\n",
       "9           33000.0\n",
       "10              0.0\n",
       "11              0.0\n",
       "12              0.0\n",
       "13              0.0\n",
       "14              0.0\n",
       "15              0.0\n",
       "16        5000000.0\n",
       "17           5000.0\n",
       "18              0.0\n",
       "19              0.0\n",
       "20           5000.0\n",
       "21          10000.0\n",
       "22         250000.0\n",
       "23          40000.0\n",
       "24           5000.0\n",
       "25          50000.0\n",
       "26              0.0\n",
       "27              0.0\n",
       "28              0.0\n",
       "29              0.0\n",
       "            ...    \n",
       "149970       5000.0\n",
       "149971       5000.0\n",
       "149972       5000.0\n",
       "149973       5000.0\n",
       "149974       5000.0\n",
       "149975       5000.0\n",
       "149976       5000.0\n",
       "149977       5000.0\n",
       "149978       5000.0\n",
       "149979       5000.0\n",
       "149980       5000.0\n",
       "149981       5000.0\n",
       "149982       5000.0\n",
       "149983       5000.0\n",
       "149984       5000.0\n",
       "149985          0.0\n",
       "149986          0.0\n",
       "149987          0.0\n",
       "149988          0.0\n",
       "149989          0.0\n",
       "149990          0.0\n",
       "149991          0.0\n",
       "149992          0.0\n",
       "149993          0.0\n",
       "149994          0.0\n",
       "149995          0.0\n",
       "149996          0.0\n",
       "149997          0.0\n",
       "149998          0.0\n",
       "149999          0.0\n",
       "Name: Combined_damage, dtype: float64"
      ]
     },
     "execution_count": 128,
     "metadata": {},
     "output_type": "execute_result"
    }
   ],
   "source": [
    "data1.Combined_damage"
   ]
  },
  {
   "cell_type": "code",
   "execution_count": 129,
   "metadata": {
    "collapsed": false
   },
   "outputs": [
    {
     "data": {
      "text/html": [
       "<div>\n",
       "<table border=\"1\" class=\"dataframe\">\n",
       "  <thead>\n",
       "    <tr style=\"text-align: right;\">\n",
       "      <th></th>\n",
       "      <th>INJURIES_DIRECT</th>\n",
       "      <th>INJURIES_INDIRECT</th>\n",
       "      <th>DEATHS_DIRECT</th>\n",
       "      <th>DEATHS_INDIRECT</th>\n",
       "      <th>casualties</th>\n",
       "      <th>DAMAGE_PROPERTY</th>\n",
       "      <th>DAMAGE_CROPS</th>\n",
       "      <th>Combined_damage</th>\n",
       "    </tr>\n",
       "  </thead>\n",
       "  <tbody>\n",
       "    <tr>\n",
       "      <th>count</th>\n",
       "      <td>150000.000000</td>\n",
       "      <td>150000.0</td>\n",
       "      <td>150000.000000</td>\n",
       "      <td>150000.0</td>\n",
       "      <td>150000.000000</td>\n",
       "      <td>1.500000e+05</td>\n",
       "      <td>1.500000e+05</td>\n",
       "      <td>1.500000e+05</td>\n",
       "    </tr>\n",
       "    <tr>\n",
       "      <th>mean</th>\n",
       "      <td>0.123187</td>\n",
       "      <td>0.0</td>\n",
       "      <td>0.012600</td>\n",
       "      <td>0.0</td>\n",
       "      <td>0.135787</td>\n",
       "      <td>1.819280e+05</td>\n",
       "      <td>4.922890e+04</td>\n",
       "      <td>2.311569e+05</td>\n",
       "    </tr>\n",
       "    <tr>\n",
       "      <th>std</th>\n",
       "      <td>4.494356</td>\n",
       "      <td>0.0</td>\n",
       "      <td>0.235092</td>\n",
       "      <td>0.0</td>\n",
       "      <td>4.555620</td>\n",
       "      <td>9.194223e+06</td>\n",
       "      <td>2.638414e+06</td>\n",
       "      <td>9.637981e+06</td>\n",
       "    </tr>\n",
       "    <tr>\n",
       "      <th>min</th>\n",
       "      <td>0.000000</td>\n",
       "      <td>0.0</td>\n",
       "      <td>0.000000</td>\n",
       "      <td>0.0</td>\n",
       "      <td>0.000000</td>\n",
       "      <td>0.000000e+00</td>\n",
       "      <td>0.000000e+00</td>\n",
       "      <td>0.000000e+00</td>\n",
       "    </tr>\n",
       "    <tr>\n",
       "      <th>25%</th>\n",
       "      <td>0.000000</td>\n",
       "      <td>0.0</td>\n",
       "      <td>0.000000</td>\n",
       "      <td>0.0</td>\n",
       "      <td>0.000000</td>\n",
       "      <td>0.000000e+00</td>\n",
       "      <td>0.000000e+00</td>\n",
       "      <td>0.000000e+00</td>\n",
       "    </tr>\n",
       "    <tr>\n",
       "      <th>50%</th>\n",
       "      <td>0.000000</td>\n",
       "      <td>0.0</td>\n",
       "      <td>0.000000</td>\n",
       "      <td>0.0</td>\n",
       "      <td>0.000000</td>\n",
       "      <td>0.000000e+00</td>\n",
       "      <td>0.000000e+00</td>\n",
       "      <td>0.000000e+00</td>\n",
       "    </tr>\n",
       "    <tr>\n",
       "      <th>75%</th>\n",
       "      <td>0.000000</td>\n",
       "      <td>0.0</td>\n",
       "      <td>0.000000</td>\n",
       "      <td>0.0</td>\n",
       "      <td>0.000000</td>\n",
       "      <td>2.000000e+02</td>\n",
       "      <td>0.000000e+00</td>\n",
       "      <td>1.000000e+03</td>\n",
       "    </tr>\n",
       "    <tr>\n",
       "      <th>max</th>\n",
       "      <td>800.000000</td>\n",
       "      <td>0.0</td>\n",
       "      <td>32.000000</td>\n",
       "      <td>0.0</td>\n",
       "      <td>802.000000</td>\n",
       "      <td>3.000000e+09</td>\n",
       "      <td>5.000000e+08</td>\n",
       "      <td>3.000000e+09</td>\n",
       "    </tr>\n",
       "  </tbody>\n",
       "</table>\n",
       "</div>"
      ],
      "text/plain": [
       "       INJURIES_DIRECT  INJURIES_INDIRECT  DEATHS_DIRECT  DEATHS_INDIRECT  \\\n",
       "count    150000.000000           150000.0  150000.000000         150000.0   \n",
       "mean          0.123187                0.0       0.012600              0.0   \n",
       "std           4.494356                0.0       0.235092              0.0   \n",
       "min           0.000000                0.0       0.000000              0.0   \n",
       "25%           0.000000                0.0       0.000000              0.0   \n",
       "50%           0.000000                0.0       0.000000              0.0   \n",
       "75%           0.000000                0.0       0.000000              0.0   \n",
       "max         800.000000                0.0      32.000000              0.0   \n",
       "\n",
       "          casualties  DAMAGE_PROPERTY  DAMAGE_CROPS  Combined_damage  \n",
       "count  150000.000000     1.500000e+05  1.500000e+05     1.500000e+05  \n",
       "mean        0.135787     1.819280e+05  4.922890e+04     2.311569e+05  \n",
       "std         4.555620     9.194223e+06  2.638414e+06     9.637981e+06  \n",
       "min         0.000000     0.000000e+00  0.000000e+00     0.000000e+00  \n",
       "25%         0.000000     0.000000e+00  0.000000e+00     0.000000e+00  \n",
       "50%         0.000000     0.000000e+00  0.000000e+00     0.000000e+00  \n",
       "75%         0.000000     2.000000e+02  0.000000e+00     1.000000e+03  \n",
       "max       802.000000     3.000000e+09  5.000000e+08     3.000000e+09  "
      ]
     },
     "execution_count": 129,
     "metadata": {},
     "output_type": "execute_result"
    }
   ],
   "source": [
    "data1.describe()"
   ]
  },
  {
   "cell_type": "code",
   "execution_count": 130,
   "metadata": {
    "collapsed": false
   },
   "outputs": [
    {
     "ename": "TypeError",
     "evalue": "data type not understood",
     "output_type": "error",
     "traceback": [
      "\u001b[0;31m---------------------------------------------------------------------------\u001b[0m",
      "\u001b[0;31mTypeError\u001b[0m                                 Traceback (most recent call last)",
      "\u001b[0;32m<ipython-input-130-5b77c5f8d327>\u001b[0m in \u001b[0;36m<module>\u001b[0;34m()\u001b[0m\n\u001b[0;32m----> 1\u001b[0;31m \u001b[0mdata\u001b[0m\u001b[0;34m.\u001b[0m\u001b[0mreplace\u001b[0m\u001b[0;34m(\u001b[0m\u001b[0;34mr'\\s+'\u001b[0m\u001b[0;34m,\u001b[0m \u001b[0mnp\u001b[0m\u001b[0;34m.\u001b[0m\u001b[0mnan\u001b[0m\u001b[0;34m,\u001b[0m \u001b[0mregex\u001b[0m\u001b[0;34m=\u001b[0m\u001b[0mTrue\u001b[0m\u001b[0;34m)\u001b[0m\u001b[0;34m\u001b[0m\u001b[0m\n\u001b[0m",
      "\u001b[0;32m/Users/ugp/anaconda2/lib/python2.7/site-packages/pandas/core/generic.pyc\u001b[0m in \u001b[0;36mreplace\u001b[0;34m(self, to_replace, value, inplace, limit, regex, method, axis)\u001b[0m\n\u001b[1;32m   3434\u001b[0m                     new_data = self._data.replace(to_replace=to_replace,\n\u001b[1;32m   3435\u001b[0m                                                   \u001b[0mvalue\u001b[0m\u001b[0;34m=\u001b[0m\u001b[0mvalue\u001b[0m\u001b[0;34m,\u001b[0m \u001b[0minplace\u001b[0m\u001b[0;34m=\u001b[0m\u001b[0minplace\u001b[0m\u001b[0;34m,\u001b[0m\u001b[0;34m\u001b[0m\u001b[0m\n\u001b[0;32m-> 3436\u001b[0;31m                                                   regex=regex)\n\u001b[0m\u001b[1;32m   3437\u001b[0m                 \u001b[0;32melse\u001b[0m\u001b[0;34m:\u001b[0m\u001b[0;34m\u001b[0m\u001b[0m\n\u001b[1;32m   3438\u001b[0m                     msg = ('Invalid \"to_replace\" type: '\n",
      "\u001b[0;32m/Users/ugp/anaconda2/lib/python2.7/site-packages/pandas/core/internals.pyc\u001b[0m in \u001b[0;36mreplace\u001b[0;34m(self, **kwargs)\u001b[0m\n\u001b[1;32m   2942\u001b[0m \u001b[0;34m\u001b[0m\u001b[0m\n\u001b[1;32m   2943\u001b[0m     \u001b[0;32mdef\u001b[0m \u001b[0mreplace\u001b[0m\u001b[0;34m(\u001b[0m\u001b[0mself\u001b[0m\u001b[0;34m,\u001b[0m \u001b[0;34m**\u001b[0m\u001b[0mkwargs\u001b[0m\u001b[0;34m)\u001b[0m\u001b[0;34m:\u001b[0m\u001b[0;34m\u001b[0m\u001b[0m\n\u001b[0;32m-> 2944\u001b[0;31m         \u001b[0;32mreturn\u001b[0m \u001b[0mself\u001b[0m\u001b[0;34m.\u001b[0m\u001b[0mapply\u001b[0m\u001b[0;34m(\u001b[0m\u001b[0;34m'replace'\u001b[0m\u001b[0;34m,\u001b[0m \u001b[0;34m**\u001b[0m\u001b[0mkwargs\u001b[0m\u001b[0;34m)\u001b[0m\u001b[0;34m\u001b[0m\u001b[0m\n\u001b[0m\u001b[1;32m   2945\u001b[0m \u001b[0;34m\u001b[0m\u001b[0m\n\u001b[1;32m   2946\u001b[0m     def replace_list(self, src_list, dest_list, inplace=False, regex=False,\n",
      "\u001b[0;32m/Users/ugp/anaconda2/lib/python2.7/site-packages/pandas/core/internals.pyc\u001b[0m in \u001b[0;36mapply\u001b[0;34m(self, f, axes, filter, do_integrity_check, consolidate, raw, **kwargs)\u001b[0m\n\u001b[1;32m   2888\u001b[0m \u001b[0;34m\u001b[0m\u001b[0m\n\u001b[1;32m   2889\u001b[0m             \u001b[0mkwargs\u001b[0m\u001b[0;34m[\u001b[0m\u001b[0;34m'mgr'\u001b[0m\u001b[0;34m]\u001b[0m \u001b[0;34m=\u001b[0m \u001b[0mself\u001b[0m\u001b[0;34m\u001b[0m\u001b[0m\n\u001b[0;32m-> 2890\u001b[0;31m             \u001b[0mapplied\u001b[0m \u001b[0;34m=\u001b[0m \u001b[0mgetattr\u001b[0m\u001b[0;34m(\u001b[0m\u001b[0mb\u001b[0m\u001b[0;34m,\u001b[0m \u001b[0mf\u001b[0m\u001b[0;34m)\u001b[0m\u001b[0;34m(\u001b[0m\u001b[0;34m**\u001b[0m\u001b[0mkwargs\u001b[0m\u001b[0;34m)\u001b[0m\u001b[0;34m\u001b[0m\u001b[0m\n\u001b[0m\u001b[1;32m   2891\u001b[0m             \u001b[0mresult_blocks\u001b[0m \u001b[0;34m=\u001b[0m \u001b[0m_extend_blocks\u001b[0m\u001b[0;34m(\u001b[0m\u001b[0mapplied\u001b[0m\u001b[0;34m,\u001b[0m \u001b[0mresult_blocks\u001b[0m\u001b[0;34m)\u001b[0m\u001b[0;34m\u001b[0m\u001b[0m\n\u001b[1;32m   2892\u001b[0m \u001b[0;34m\u001b[0m\u001b[0m\n",
      "\u001b[0;32m/Users/ugp/anaconda2/lib/python2.7/site-packages/pandas/core/internals.pyc\u001b[0m in \u001b[0;36mreplace\u001b[0;34m(self, to_replace, value, inplace, filter, regex, convert, mgr)\u001b[0m\n\u001b[1;32m   1812\u001b[0m         return self._replace_single(to_replace, value, inplace=inplace,\n\u001b[1;32m   1813\u001b[0m                                     \u001b[0mfilter\u001b[0m\u001b[0;34m=\u001b[0m\u001b[0mfilter\u001b[0m\u001b[0;34m,\u001b[0m \u001b[0mconvert\u001b[0m\u001b[0;34m=\u001b[0m\u001b[0mconvert\u001b[0m\u001b[0;34m,\u001b[0m\u001b[0;34m\u001b[0m\u001b[0m\n\u001b[0;32m-> 1814\u001b[0;31m                                     regex=regex, mgr=mgr)\n\u001b[0m\u001b[1;32m   1815\u001b[0m \u001b[0;34m\u001b[0m\u001b[0m\n\u001b[1;32m   1816\u001b[0m     def _replace_single(self, to_replace, value, inplace=False, filter=None,\n",
      "\u001b[0;32m/Users/ugp/anaconda2/lib/python2.7/site-packages/pandas/core/internals.pyc\u001b[0m in \u001b[0;36m_replace_single\u001b[0;34m(self, to_replace, value, inplace, filter, regex, convert, mgr)\u001b[0m\n\u001b[1;32m   1872\u001b[0m                     \u001b[0;32mreturn\u001b[0m \u001b[0ms\u001b[0m\u001b[0;34m\u001b[0m\u001b[0m\n\u001b[1;32m   1873\u001b[0m \u001b[0;34m\u001b[0m\u001b[0m\n\u001b[0;32m-> 1874\u001b[0;31m         \u001b[0mf\u001b[0m \u001b[0;34m=\u001b[0m \u001b[0mnp\u001b[0m\u001b[0;34m.\u001b[0m\u001b[0mvectorize\u001b[0m\u001b[0;34m(\u001b[0m\u001b[0mre_replacer\u001b[0m\u001b[0;34m,\u001b[0m \u001b[0motypes\u001b[0m\u001b[0;34m=\u001b[0m\u001b[0;34m[\u001b[0m\u001b[0mself\u001b[0m\u001b[0;34m.\u001b[0m\u001b[0mdtype\u001b[0m\u001b[0;34m]\u001b[0m\u001b[0;34m)\u001b[0m\u001b[0;34m\u001b[0m\u001b[0m\n\u001b[0m\u001b[1;32m   1875\u001b[0m \u001b[0;34m\u001b[0m\u001b[0m\n\u001b[1;32m   1876\u001b[0m         \u001b[0;32mif\u001b[0m \u001b[0mfilter\u001b[0m \u001b[0;32mis\u001b[0m \u001b[0mNone\u001b[0m\u001b[0;34m:\u001b[0m\u001b[0;34m\u001b[0m\u001b[0m\n",
      "\u001b[0;32m/Users/ugp/anaconda2/lib/python2.7/site-packages/numpy/lib/function_base.pyc\u001b[0m in \u001b[0;36m__init__\u001b[0;34m(self, pyfunc, otypes, doc, excluded, cache)\u001b[0m\n\u001b[1;32m   2178\u001b[0m                         \"Invalid otype specified: %s\" % (char,))\n\u001b[1;32m   2179\u001b[0m         \u001b[0;32melif\u001b[0m \u001b[0miterable\u001b[0m\u001b[0;34m(\u001b[0m\u001b[0motypes\u001b[0m\u001b[0;34m)\u001b[0m\u001b[0;34m:\u001b[0m\u001b[0;34m\u001b[0m\u001b[0m\n\u001b[0;32m-> 2180\u001b[0;31m             \u001b[0mself\u001b[0m\u001b[0;34m.\u001b[0m\u001b[0motypes\u001b[0m \u001b[0;34m=\u001b[0m \u001b[0;34m''\u001b[0m\u001b[0;34m.\u001b[0m\u001b[0mjoin\u001b[0m\u001b[0;34m(\u001b[0m\u001b[0;34m[\u001b[0m\u001b[0m_nx\u001b[0m\u001b[0;34m.\u001b[0m\u001b[0mdtype\u001b[0m\u001b[0;34m(\u001b[0m\u001b[0mx\u001b[0m\u001b[0;34m)\u001b[0m\u001b[0;34m.\u001b[0m\u001b[0mchar\u001b[0m \u001b[0;32mfor\u001b[0m \u001b[0mx\u001b[0m \u001b[0;32min\u001b[0m \u001b[0motypes\u001b[0m\u001b[0;34m]\u001b[0m\u001b[0;34m)\u001b[0m\u001b[0;34m\u001b[0m\u001b[0m\n\u001b[0m\u001b[1;32m   2181\u001b[0m         \u001b[0;32melse\u001b[0m\u001b[0;34m:\u001b[0m\u001b[0;34m\u001b[0m\u001b[0m\n\u001b[1;32m   2182\u001b[0m             raise ValueError(\n",
      "\u001b[0;31mTypeError\u001b[0m: data type not understood"
     ]
    }
   ],
   "source": [
    "data.replace(r'\\s+', np.nan, regex=True)"
   ]
  },
  {
   "cell_type": "code",
   "execution_count": null,
   "metadata": {
    "collapsed": false
   },
   "outputs": [],
   "source": []
  },
  {
   "cell_type": "code",
   "execution_count": null,
   "metadata": {
    "collapsed": true
   },
   "outputs": [],
   "source": []
  },
  {
   "cell_type": "code",
   "execution_count": null,
   "metadata": {
    "collapsed": true
   },
   "outputs": [],
   "source": []
  },
  {
   "cell_type": "code",
   "execution_count": null,
   "metadata": {
    "collapsed": true
   },
   "outputs": [],
   "source": []
  },
  {
   "cell_type": "code",
   "execution_count": null,
   "metadata": {
    "collapsed": true
   },
   "outputs": [],
   "source": []
  },
  {
   "cell_type": "code",
   "execution_count": null,
   "metadata": {
    "collapsed": true
   },
   "outputs": [],
   "source": []
  },
  {
   "cell_type": "code",
   "execution_count": null,
   "metadata": {
    "collapsed": true
   },
   "outputs": [],
   "source": []
  },
  {
   "cell_type": "code",
   "execution_count": null,
   "metadata": {
    "collapsed": true
   },
   "outputs": [],
   "source": []
  },
  {
   "cell_type": "markdown",
   "metadata": {
    "collapsed": true
   },
   "source": [
    "### Bonus: Explain how you intend to evaluate your results. \n",
    "What tuning metric and evaluation approaches do you intend to use?\n",
    "Clean> fit> run models, look at the results... \n",
    "\n",
    "Linear regression: Attempt to accurately predict the independent variable (casualities) by good fitting SSE / differential \n",
    "\n",
    "Logistic regression: Attempt to predict if I can say if a certain storm in a certain state, in a certain month would cause a causality. I would show classification accuracy score, confusion matrix coorelation number."
   ]
  },
  {
   "cell_type": "markdown",
   "metadata": {
    "collapsed": true
   },
   "source": [
    "### Bonus Identify 1-2 additional datasets that may help you triangulate your findings. \n",
    "How might these relate to your data?\n",
    "\n",
    "Could look at the aircraft incident reports from the NTSB site\n",
    "May get an idea of crop damage in current dollar basis, perhaps rebase for inflation or the proper crop price in todays dollars, crop price website"
   ]
  },
  {
   "cell_type": "markdown",
   "metadata": {},
   "source": [
    "### Useful Resources\n",
    "\n",
    "- [Exploratory Data Analysis](http://insightdatascience.com/blog/eda-and-graphics-eli-bressert.html)\n",
    "- [Best practices for data documentation](https://www.dataone.org/all-best-practices)"
   ]
  },
  {
   "cell_type": "code",
   "execution_count": null,
   "metadata": {
    "collapsed": true
   },
   "outputs": [],
   "source": []
  }
 ],
 "metadata": {
  "anaconda-cloud": {},
  "kernelspec": {
   "display_name": "Python [Root]",
   "language": "python",
   "name": "Python [Root]"
  },
  "language_info": {
   "codemirror_mode": {
    "name": "ipython",
    "version": 2
   },
   "file_extension": ".py",
   "mimetype": "text/x-python",
   "name": "python",
   "nbconvert_exporter": "python",
   "pygments_lexer": "ipython2",
   "version": "2.7.12"
  }
 },
 "nbformat": 4,
 "nbformat_minor": 0
}
