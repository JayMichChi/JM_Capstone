{
 "cells": [
  {
   "cell_type": "code",
   "execution_count": 63,
   "metadata": {
    "collapsed": false
   },
   "outputs": [
    {
     "data": {
      "text/plain": [
       "['https://www.petfinder.com/pet-search?query_id=F50F8720-B80D-11E6-A332-7FB7A27EC92C&page_number=1']"
      ]
     },
     "execution_count": 63,
     "metadata": {},
     "output_type": "execute_result"
    }
   ],
   "source": [
    "#here is my scroll. it works, but the database url_base changes in y2010, \n",
    "# so i will re-run this with the updated base_url\n",
    "import pandas as pd\n",
    "import time\n",
    "url_list = ['https://www.petfinder.com/pet-search?query_id=F50F8720-B80D-11E6-A332-7FB7A27EC92C&page_number=1']\n",
    "web_count= 1\n",
    "for pages in range(2,2):\n",
    "    web_count= 1 + web_count\n",
    "    count_update=str(web_count)\n",
    "    base_url = 'https://www.petfinder.com/pet-search?query_id=F50F8720-B80D-11E6-A332-7FB7A27EC92C&page_number=' + count_update \n",
    "    url_list.append(base_url)\n",
    "url_list\n",
    "# This works wonderfully!"
   ]
  },
  {
   "cell_type": "code",
   "execution_count": 64,
   "metadata": {
    "collapsed": true
   },
   "outputs": [],
   "source": [
    "data1 = [] #This is my list. my goal is to have a list of dictionaries"
   ]
  },
  {
   "cell_type": "code",
   "execution_count": 65,
   "metadata": {
    "collapsed": true
   },
   "outputs": [],
   "source": [
    "import requests\n",
    "import bs4\n",
    "from bs4 import BeautifulSoup\n",
    "import urllib2  "
   ]
  },
  {
   "cell_type": "code",
   "execution_count": 70,
   "metadata": {
    "collapsed": true
   },
   "outputs": [],
   "source": [
    "#This is my one time function that will run my scrape\n",
    "# for url in url_list:\n",
    "\n",
    "def get_page_results(url):\n",
    "    page = urllib2.urlopen(url).read() \n",
    "    soup = BeautifulSoup(page, 'html.parser')     \n",
    "    divtag = soup.find_all('div', {'class': 'adoptablePets-item'})\n",
    "   ]\n",
    "#     for row in divtag:\n",
    "#         row_values = {} #This is my dictionary that will be imbedded into my list 'data'\n",
    "#         row_values['name']= row.find_all(\"pet-name-container\",{\"p class\":\"breed\"})[0].text\n",
    "# #         row_values['company']= row.find_all(\"span\",{\"class\":\"company\"})[0].text\n",
    "# #         row_values['location'] = row.find_all(\"span\",{\"class\":\"location\"})[0].text\n",
    "# #         row_values['summary'] = row.find_all(\"span\",{\"class\":\"summary\"})[0].text\n",
    "\n",
    "#         data1.append(row_values)\n",
    "#     time.sleep(1.0)\n",
    "#     return data1\n",
    "    "
   ]
  },
  {
   "cell_type": "code",
   "execution_count": 67,
   "metadata": {
    "collapsed": false
   },
   "outputs": [
    {
     "name": "stdout",
     "output_type": "stream",
     "text": [
      "[]\n"
     ]
    }
   ],
   "source": [
    "for url in url_list:\n",
    "    get_page_results(url)"
   ]
  },
  {
   "cell_type": "code",
   "execution_count": 68,
   "metadata": {
    "collapsed": false
   },
   "outputs": [],
   "source": [
    "import pandas as pd\n",
    "df = pd.DataFrame(data1)"
   ]
  },
  {
   "cell_type": "code",
   "execution_count": 69,
   "metadata": {
    "collapsed": false
   },
   "outputs": [
    {
     "data": {
      "text/html": [
       "<div>\n",
       "<table border=\"1\" class=\"dataframe\">\n",
       "  <thead>\n",
       "    <tr style=\"text-align: right;\">\n",
       "      <th></th>\n",
       "    </tr>\n",
       "  </thead>\n",
       "  <tbody>\n",
       "  </tbody>\n",
       "</table>\n",
       "</div>"
      ],
      "text/plain": [
       "Empty DataFrame\n",
       "Columns: []\n",
       "Index: []"
      ]
     },
     "execution_count": 69,
     "metadata": {},
     "output_type": "execute_result"
    }
   ],
   "source": [
    "df.head()"
   ]
  },
  {
   "cell_type": "code",
   "execution_count": null,
   "metadata": {
    "collapsed": true
   },
   "outputs": [],
   "source": []
  }
 ],
 "metadata": {
  "anaconda-cloud": {},
  "kernelspec": {
   "display_name": "Python [Root]",
   "language": "python",
   "name": "Python [Root]"
  },
  "language_info": {
   "codemirror_mode": {
    "name": "ipython",
    "version": 2
   },
   "file_extension": ".py",
   "mimetype": "text/x-python",
   "name": "python",
   "nbconvert_exporter": "python",
   "pygments_lexer": "ipython2",
   "version": "2.7.12"
  }
 },
 "nbformat": 4,
 "nbformat_minor": 0
}
