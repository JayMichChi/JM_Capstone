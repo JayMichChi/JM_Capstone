{
 "cells": [
  {
   "cell_type": "markdown",
   "metadata": {},
   "source": [
    "### JayMichChi Part 2 Capstone\n",
    "### Goal: Jays summary notebook outlining my project's goals, methods, models, and EDA.\n",
    "\n",
    "This will be an overview of my approach with a well-articulated summary that includes your problem statement, outlines your proposed methods and models, defines any risks & assumptions, and includes any revisions from your initial goals & criteria, as needed.\n",
    "\n",
    "In addition, I will explain how I intend to store my data. \n",
    "\n",
    "You'll want to describe and create a data dictionary for your dataset(s), and perform your initial exploratory data analysis.\n"
   ]
  },
  {
   "cell_type": "markdown",
   "metadata": {},
   "source": [
    "### My hypothesis will attempt to:\n",
    "Reasonably predict the amount of annual deaths and property damage due to certain types of storm occurrences based on state and storm type past data.\n",
    "\n",
    "### Capstone Project\n",
    "My capstone will be gathering data from the National Centers for Environmental Information, particularly information from 2003 to 2013, and will look at unusual storm occurrences and unusual weather phenomena, and mores specifically, information on storm paths, deaths, injuries, and property damage.\n",
    "\n",
    "### Outline of Proposed Data Collection Methods \n",
    "National Centers for Environmental Information (NCEI) is responsible for hosting and providing access to one of the most significant archives on Earth, with comprehensive oceanic, atmospheric, and geophysical data. From the depths of the ocean to the surface of the sun and from million-year-old sediment records to near real-time satellite images, NCEI is the Nation’s leading authority for environmental information.  It is from this source that I will primarily ingest data on the following: https://www.ncdc.noaa.gov/stormevents/\n",
    "\n",
    "### Storm Events Database\n",
    "The Storm Events Database contains a chronological listing, by states, of storm occurrences and unusual weather phenomena. Reports contain information on storm paths, deaths, injuries, and property damage.s\n",
    "\n",
    "The Storm Events Database currently contains data from January 1950 to August 2016, as entered by NOAA's National Weather Service (NWS). Due to changes in the data collection and processing procedures over time, there are unique periods of record available depending on the event type. I have chosen to look at the data from 1996 to 2013.\n",
    "\n",
    "### Data base\n",
    "I was able to find the 10 years of data on the following NCDC website FTP server. \n",
    "ftp://ftp.ncdc.noaa.gov/pub/data/swdi/stormevents/csvfiles/legacy/\n",
    "\n",
    "    Index of /pub/data/swdi/stormevents/csvfiles/legacy/\n",
    "    Name\tSize\tDate Modified\n",
    "    ugc_areas.csv\t902 kB\t2/18/14, 12:00:00 AM\n",
    "    stormdata_2013.csv\t53.1 MB\t1/31/14, 12:00:00 AM\n",
    "    stormdata_2012.csv\t64.3 MB\t1/31/14, 12:00:00 AM\n",
    "    stormdata_2011.csv\t82.3 MB\t1/31/14, 12:00:00 AM\n",
    "    stormdata_2010.csv\t62.5 MB\t1/31/14, 12:00:00 AM\n",
    "    Stormdata_2009.csv\t49.9 MB\t9/19/13, 12:00:00 AM\n",
    "    Stormdata_2008.csv\t60.6 MB\t9/19/13, 12:00:00 AM\n",
    "    Stormdata_2007.csv\t49.7 MB\t9/19/13, 12:00:00 AM\n",
    "    Stormdata_2006.csv\t26.0 MB\t9/19/13, 12:00:00 AM\n",
    "    Stormdata_2005.csv\t34.9 MB\t9/19/13, 12:00:00 AM\n",
    "    Stormdata_2004.csv\t33.1 MB\t9/19/13, 12:00:00 AM\n",
    "    Stormdata_2003.csv\t32.1 MB\t9/19/13, 12:00:00 AM\n",
    "  \n",
    "I have successfully downloaded all 18 CSV files. My work will show that i merged the data via pandas concant processes. Additionally, I will have to clean the data, reformat dates, categorize certain feature series, and perhaps use dummy variables to allow me to model the data successfully. "
   ]
  },
  {
   "cell_type": "markdown",
   "metadata": {},
   "source": [
    "### Outline of Proposed Data Cleaning Methods"
   ]
  },
  {
   "cell_type": "markdown",
   "metadata": {},
   "source": [
    "### Risks & Assumptions\n",
    "\n",
    "There are some risks and assumptions that I need to incorporate into my capstone and the data. \n",
    "\n",
    "First, I will be looking at the dollar damage. Certainly inflation will come into play as the cost of crops and property replacement costs fluctuate. This is one of the primary reasons that I am reducing my data to just 10 years. \n",
    "\n",
    "(The other reason is the sheer size of the database) \n",
    "\n",
    "There are also confounding factors that will effect the results: For instance, absolutely/categorically attributing  fatalities to a weather event may not be completely correct, and may in fact occcur our of coincidence. Additionally, there are extenuating factors that could effect the cost or fatality number. For instance, the responsiveness of the National Guard, or massive federal funding may effect the amount of fatalities, or the extent of damage. \n",
    "\n",
    "In short, the assumption we make is that all these extenuating factors will not adversely effect the results because our dataset of over 600,000 instances is so large. \n"
   ]
  },
  {
   "cell_type": "markdown",
   "metadata": {},
   "source": [
    "### Outline of Proposed Data Modelling\n",
    "\n",
    "I expect that once i complete cleaning the data set, I will then fitting this data to a few modeles.\n",
    "\n",
    "My initial inclination is to see if I can find any coorelations in the 58 columns of data. \n",
    "\n",
    "I believe that Logistic Regression model and Linear Regression models will be the first two models I will run. \n",
    "\n",
    "\n",
    "I will perform a train test split on just a segment of random data I grab from my database. This will allow me to work with dataset that is more managable for my laptop. \n",
    "\n",
    "Once cleaned, tts, fit and run, I will attempt to graph the results."
   ]
  },
  {
   "cell_type": "markdown",
   "metadata": {},
   "source": [
    "### Create local database\n",
    "Below I grab my data from NOAA "
   ]
  },
  {
   "cell_type": "code",
   "execution_count": null,
   "metadata": {
    "collapsed": false
   },
   "outputs": [],
   "source": [
    "#here is my scroll. it works, but the database url_base changes in y2010, \n",
    "# so i will re-run this with the updated base_url\n",
    "import pandas as pd\n",
    "import time\n",
    "url_list = ['ftp://ftp.ncdc.noaa.gov/pub/data/swdi/stormevents/csvfiles/legacy/Stormdata_2003.csv']\n",
    "web_count= 2003\n",
    "for pages in range(1,7):\n",
    "    web_count= 1 + web_count\n",
    "    count_update=str(web_count)\n",
    "    base_url = 'ftp://ftp.ncdc.noaa.gov/pub/data/swdi/stormevents/csvfiles/legacy/Stormdata_' + count_update + '.csv'\n",
    "    url_list.append(base_url)\n",
    "url_list\n",
    "# This works wonderfully!"
   ]
  },
  {
   "cell_type": "code",
   "execution_count": null,
   "metadata": {
    "collapsed": false
   },
   "outputs": [],
   "source": [
    "# This is my one time function that will load, append\n",
    "# for url in url_list:\n",
    "data1 = []\n",
    "for url in url_list:\n",
    "    page = pd.read_csv((url)) \n",
    "    data1.append(page)\n",
    "    time.sleep(3.0)"
   ]
  },
  {
   "cell_type": "code",
   "execution_count": null,
   "metadata": {
    "collapsed": true
   },
   "outputs": [],
   "source": [
    "data1_all = pd.concat(data1, axis=0)"
   ]
  },
  {
   "cell_type": "code",
   "execution_count": null,
   "metadata": {
    "collapsed": false
   },
   "outputs": [],
   "source": [
    "print data1_all.shape"
   ]
  },
  {
   "cell_type": "code",
   "execution_count": null,
   "metadata": {
    "collapsed": false
   },
   "outputs": [],
   "source": [
    "#as above\n",
    "# so i will re-run this with the updated base_url\n",
    "\n",
    "import time\n",
    "url_list_2 = ['ftp://ftp.ncdc.noaa.gov/pub/data/swdi/stormevents/csvfiles/legacy/stormdata_2010.csv']\n",
    "web_count= 2010\n",
    "for pages in range(1,4):\n",
    "    web_count= 1 + web_count\n",
    "    count_update=str(web_count)\n",
    "    base_url_2 = 'ftp://ftp.ncdc.noaa.gov/pub/data/swdi/stormevents/csvfiles/legacy/stormdata_' + count_update + '.csv'\n",
    "    url_list_2.append(base_url_2)\n",
    "url_list_2\n",
    "# This works wonderfully!"
   ]
  },
  {
   "cell_type": "code",
   "execution_count": null,
   "metadata": {
    "collapsed": false
   },
   "outputs": [],
   "source": [
    "# This is my one time function that will load, append\n",
    "# for url in url_list:\n",
    "import pandas as pd\n",
    "data2 = []\n",
    "for url in url_list_2:\n",
    "    page = pd.read_csv((url)) \n",
    "    data2.append(page)\n",
    "    time.sleep(30.0)"
   ]
  },
  {
   "cell_type": "code",
   "execution_count": null,
   "metadata": {
    "collapsed": true
   },
   "outputs": [],
   "source": [
    "data2_all=pd.concat(data2, axis=0)"
   ]
  },
  {
   "cell_type": "code",
   "execution_count": null,
   "metadata": {
    "collapsed": false
   },
   "outputs": [],
   "source": [
    "data2_all.shape"
   ]
  },
  {
   "cell_type": "code",
   "execution_count": null,
   "metadata": {
    "collapsed": false
   },
   "outputs": [],
   "source": [
    "df_all = pd.concat([data1_all, data2_all], axis=0)"
   ]
  },
  {
   "cell_type": "code",
   "execution_count": null,
   "metadata": {
    "collapsed": false
   },
   "outputs": [],
   "source": [
    "df_all.shape"
   ]
  },
  {
   "cell_type": "code",
   "execution_count": null,
   "metadata": {
    "collapsed": false
   },
   "outputs": [],
   "source": [
    "print df_all.columns"
   ]
  },
  {
   "cell_type": "code",
   "execution_count": null,
   "metadata": {
    "collapsed": false
   },
   "outputs": [],
   "source": [
    "#convert dataframe to csv\n",
    "\n",
    "df_all.to_csv('jm_cap.csv')\n",
    "#This worked!  Thank God this was successful on Tuesday school!\n",
    "# 10 years worth of data (654313, 58)"
   ]
  },
  {
   "cell_type": "markdown",
   "metadata": {
    "collapsed": true
   },
   "source": [
    "### DONE DATABASE IS SUCCESSFULLY DOWNLOADED"
   ]
  },
  {
   "cell_type": "code",
   "execution_count": null,
   "metadata": {
    "collapsed": false,
    "scrolled": true
   },
   "outputs": [],
   "source": [
    "df1.head()"
   ]
  },
  {
   "cell_type": "code",
   "execution_count": null,
   "metadata": {
    "collapsed": false
   },
   "outputs": [],
   "source": []
  },
  {
   "cell_type": "markdown",
   "metadata": {},
   "source": [
    "### Create a data dictionary\n",
    "\n",
    "    Storm Data Export Format, Field names\n",
    "\n",
    "    Event Details File (named event_details_YYYYMM.csv):\n",
    "    last_date_modified  Ex:  4/4/2012  11:05:44 PM, 5/3/2012  5:10:49 AM\n",
    "    MM/DD/YYYY  12 hour time AM/PM\n",
    "\n",
    "    The last date of modification by NWS.  Any corrections to the storm event/episode in question are made solely by NWS and the person that actually entered the event/episode.\n",
    "\n",
    "    last_date_certified  Ex:  5/10/2012  9:10:51 AM, 5/18/2012  12:21:15 AM \n",
    "    MM/DD/YYYY  12 hour time AM/PM\n",
    "\n",
    "    The last date of certification by NWS.  Any corrections to the storm event/episode in question are made solely by NWS and the person that actually entered the event/episode.\n",
    "\n",
    "    episode_id   Ex: 61280, 62777, 63250\n",
    "    (ID assigned by NWS to denote the storm episode; links the event details file with the information within location file)\n",
    "\n",
    "    The occurrence of storms and other significant weather phenomena having sufficient intensity to cause loss of life, injuries, significant property damage, and/or disruption to commerce.  Rare, unusual, weather phenomena that generate media attention, such as snow flurries in South Florida or the San Diego coastal area; and Other significant meteorological events, such as record maximum or minimum temperatures or precipitation that occur in connection with another event.\n",
    "\n",
    "    event_id  Ex: 383097, 374427, 364175\n",
    "\n",
    "    (Primary database key field)\n",
    "    (ID assigned by NWS to note a single, small part that goes into a specific storm episode; links the storm episode between the three files downloaded from SPC’s website)\n",
    "\n",
    "    state  Ex:  GEORGIA,  WYOMING, COLORADO\n",
    "    The state name where the event occurred (no State ID’s are included here; State Name is spelled out in ALL CAPS)\n",
    "\n",
    "    state_fips  Ex: 45, 30, 12\n",
    "    A unique number (State Federal Information Processing Standard) is assigned to the county by the National Institute for Standards and Technology (NIST).\n",
    "\n",
    "    year  Ex: 2000, 2006, 2012\n",
    "    Four digit year for the event in this record\n",
    "\n",
    "\n",
    "\n",
    "    month_name  Ex: January, February, March\n",
    "    Name of the month for the event in this record (spelled out; not abbreviated)\n",
    "\n",
    "    event_type  Ex: Hail, Thunderstorm Wind, Snow, Ice (spelled out; not abbreviated)\n",
    "\n",
    "    The only events permitted in Storm Data are listed in Table 1 of Section 2.1.1 of NWS Directive 10-1605 at http://www.nws.noaa.gov/directives/sym/pd01016005curr.pdf. The chosen event name should be the one that most accurately describes the meteorological event leading to fatalities, injuries, damage, etc. However, significant events, such as tornadoes, having no impact or causing no damage, should also be included in Storm Data.\n",
    "\n",
    "    From Section 2.1.1 of NWS Directive 10-1605:\n",
    "    Event Name / Designator (County or Zone and whether the event happened in a (C) county/parish,(Z)zone or(M) marine\n",
    "    Astronomical Low Tide\tZ \n",
    "    Avalanche    Z \n",
    "    Blizzard    Z \n",
    "    Coastal Flood   Z \n",
    "    Cold/Wind Chill   Z \n",
    "    Debris Flow    C \n",
    "    Dense Fog    Z \n",
    "    Dense Smoke   Z \n",
    "    Drought    Z \n",
    "    Dust Devil    C \n",
    "    Dust Storm    Z \n",
    "    Excessive Heat   Z \n",
    "    Extreme Cold/Wind Chill   Z \n",
    "    Flash Flood    C   \n",
    "    Flood     C \n",
    "    Frost/Freeze    Z \n",
    "    Funnel Cloud   C \n",
    "    Freezing Fog   Z \n",
    "    Hail     C \n",
    "    Heat      Z \n",
    "    Heavy Rain    C \n",
    "    Heavy Snow    Z \n",
    "    High Surf    Z \n",
    "    High Wind    Z \n",
    "    Hurricane (Typhoon)   Z \n",
    "    Ice Storm    Z \n",
    "    Lake-Effect Snow   Z \n",
    "    Lakeshore Flood   Z \n",
    "    Lightning    C \n",
    "    Marine Hail    M \n",
    "    Marine High Wind   M \n",
    "    Marine Strong Wind   M \n",
    "    Marine Thunderstorm Wind   M  \n",
    "    Rip Current    Z \n",
    "    Seiche     Z \n",
    "    Sleet      Z \n",
    "    Storm Surge/Tide   Z \n",
    "    Strong Wind    Z \n",
    "    Thunderstorm Wind   C \n",
    "    Tornado    C \n",
    "    Tropical Depression   Z \n",
    "    Tropical Storm   Z \n",
    "    Tsunami    Z \n",
    "    Volcanic Ash   Z \n",
    "    Waterspout    M \n",
    "    Wildfire    Z \n",
    "    Winter Storm   Z \n",
    "    Winter Weather   Z\n",
    "    cz_type  Ex: C, Z , M\n",
    "\n",
    "\n",
    "    cz_fips Ex: 245, 003, 155\n",
    "    The county FIPS number is a unique number assigned to the county by the National Institute for Standards and Technology (NIST) or NWS Forecast Zone Number (See addendum)\n",
    "\n",
    "    cz_name  Ex: AIKEN, RICHMOND, BAXTER (County/Parish, Zone or Marine Name assigned to the county FIPS number or NWS Forecast Zone)\n",
    "\n",
    "    wfo  Ex: CAE, BYZ, GJT (National Weather Service Forecast Office’s area of responsibility (County Warning Area) in which the event occurred)\n",
    "\n",
    "    begin_date_time  Ex: 4/1/2012  20:48\n",
    "    MM/DD/YYYY  24 hour time AM/PM\n",
    "\n",
    "    cz_timezone  Ex: EST-5, MST-7, CST-6\n",
    "    (Time Zone for the County/Parish, Zone or Marine Name)\n",
    "    Eastern Standard Time (EST), Central Standard Time (CST), Mountain Standard Time (MST), etc.\n",
    "\n",
    "    end_date_time  Ex: 4/1/2012  21:03\n",
    "    MM/DD/YYYY  24 hour time AM/PM\n",
    "\n",
    "    injuries_direct  Ex:  1, 0, 56\n",
    "    The number of injuries directly related to the weather event\n",
    "\n",
    "    injuries_indirect  Ex:  0, 15, 87\n",
    "    The number of injuries indirectly related to the weather event\n",
    "\n",
    "    deaths_direct  Ex: 0, 45, 23\n",
    "    The number of deaths directly related to the weather event.\n",
    "\n",
    "    deaths_indirect Ex: 0, 4, 6\n",
    "    The number of deaths indirectly related to the weather event\n",
    "\n",
    "    damage_property  Ex: 10.00K, 0.00K, 10.00M\n",
    "    The estimated amount of damage to property incurred by the weather event.  (e.g. 10.00K = $10,000; 10.00M = $10,000,000)\n",
    "\n",
    "    damage_crops  Ex: 0.00K, 500.00K, 15.00M\n",
    "    The estimated amount of damage to crops incurred by the weather event   (e.g. 10.00K = $10,000; 10.00M = $10,000,000)\n",
    "    source  Ex: Public, Newspaper, Law Enforcement, Broadcast Media, ASOS, Park and Forest Service, Trained Spotter, CoCoRaHS,  etc.  (can be any entry; isn’t restricted in what’s allowed)\n",
    "    Source reporting the weather event\n",
    "\n",
    "    magnitude  Ex: 0.75, 60, 0.88, 2.75\n",
    "    measured extent of the magnitude type ~ only used for wind speeds and hail size (e.g. 0.75” of hail; 60 mph winds)\n",
    "\n",
    "    magnitude_type   Ex: EG, MS, MG, ES\n",
    "    EG = Wind Estimated Gust; ES = Estimated Sustained Wind; MS = Measured Sustained Wind; MG = Measured Wind Gust (no magnitude is included for instances of hail)\n",
    "\n",
    "    flood_cause  Ex:  Ice Jam, Heavy Rain, Heavy Rain/Snow Melt\n",
    "    Reported or estimated cause of the flood\n",
    "\n",
    "    category  Ex: \n",
    "    Unknown (During the time of downloading this particular file, NCDC has never seen anything provided within this field.)\n",
    "\n",
    "    tor_f_scale  Ex: EF0, EF1, EF2, EF3, EF4, EF5\n",
    "    Enhanced Fujita Scale describes the strength of the tornado based on the amount and type of damage caused by the tornado.  The F-scale of damage will vary in the destruction area; therefore, the highest value of the F-scale is recorded for each event. \n",
    "    EF0 – Light Damage (40 – 72 mph)\n",
    "    EF1 – Moderate Damage (73 – 112 mph)\n",
    "    EF2 – Significant damage (113 – 157 mph)\n",
    "    EF3 – Severe Damage (158 – 206 mph)\n",
    "    EF4 – Devastating Damage (207 – 260 mph)\n",
    "    EF5 – Incredible Damage (261 – 318 mph)\n",
    "\n",
    "    tor_length  Ex: 0.66, 1.05, 0.48\n",
    "    Length of the tornado or tornado segment while on the ground (minimal of tenths of miles)\n",
    "\n",
    "    tor_width  Ex:  25, 50, 2640, 10\n",
    "    Width of the tornado or tornado segment while on the ground (in feet)\n",
    "\n",
    "    tor_other_wfo  Ex: DDC, ICT, TOP,OAX\n",
    "    Indicates the continuation of a tornado segment as it crossed from one National Weather Service Forecast Office to another.  The subsequent WFO identifier is provided within this field\n",
    "\n",
    "    tor_other_cz_state   Ex: KS, NE, OK\n",
    "    The two character representation for the state name of the continuing tornado segment as it crossed from one county or zone to another.  The subsequent 2-Letter State ID is provided within this field.\n",
    "\n",
    "    tor_other_cz_fips  Ex: 41, 127, 153\n",
    "    The FIPS number of the county entered by the continuing tornado segment as it crossed from one county to another.  The subsequent FIPS number is provided within this field.\n",
    "\n",
    "    tor_other_cz_name  Ex: DICKINSON, NEMAHA, SARPY\n",
    "    The FIPS name of the county entered by the continuing tornado segment as it crossed from one county to another.  The subsequent county or zone name is provided within this field in ALL CAPS.\n",
    "\n",
    "    episode_title  Ex: Severe weather outbreak on Saturday April 14 in eastern Nebraska\n",
    "    A short description of the episode.  (Short name for the episode itself as determined by NWS.)\n",
    "\n",
    "    episode_narrative  (The episode narrative depicting the general nature and overall activity of the episode.  The narrative is created by NWS.)  Ex: A strong upper level system over the southern Rockies lifted northeast across the plains causing an intense surface low pressure system and attendant warm front to lift into Nebraska.  \n",
    "\n",
    "    event_narrative  (The event narrative provides more specific details of the individual event .  The event narrative is provided by NWS.) Ex:  Heavy rain caused flash flooding across parts of Wilber.  Rainfall of 2 to 3 inches fell across the area. \n",
    "\n",
    "    Storm Data Location File (named event_locations_YYYYMM.csv):\n",
    "    episode_id   Ex: 60904 (ID assigned by NWS to denote the storm episode; links the storm episode with the information within the event details file) An Episode may contain several different events.\n",
    "    event_id     Ex: 364000, 364001, 364002, 364003 (ID assigned by NWS to note a single, small part that goes into a specific storm episode; links the storm episode between the three files downloaded from SPC’s website)\n",
    "    location_index   Ex: 1-x (Number assigned  by NWS to specific locations within the same Storm event. Each event’s sequentially increasing location index number will have a corresponding lat/lon point)\n",
    "    range   Ex: 0.59, 0.69, 4.84, 1.17 {A hydro-meteorological event will be referenced, minimally, to the nearest tenth of a mile, to the geographical center (not from the village/city boundaries or limits) of a particular village/city, airport, or inland lake, providing that the reference point is documented in the Storm Data software location database. }\n",
    "    azimuth  Ex: ENE, NW, WSW, S  {16-point compass direction from a particular village/city, airport, or inland lake, providing that the reference point is documented in the Storm Data software location database of > 130,000 locations.}\n",
    "    location  Ex:  PINELAND,  CENTER, ORRS, RUSK {center from which the range is calculated and the azimuth is determined}\n",
    "\n",
    "    lat  Ex: 31.25, 31.79, 32.76, 31.80\n",
    "    The latitude where the event occurred {rounded to the hundredths in decimal degrees; includes an ‘-‘ if it’s S of the Equator}\n",
    "\n",
    "    lon  Ex: -93.97, -94.18, -94.52, -95.13\n",
    "    The longitude where the event occurred {rounded to the hundredths in decimal degrees; includes an ‘-‘ if it’s W of the Prime Meridian}\n",
    "\n",
    "    Storm Data Fatality File (named event_fatalities_YYYYMM.csv):\n",
    "    fatality_id  Ex: 17582, 17590, 17597, 18222 (ID assigned by NWS to denote the individual fatality that occurred within a storm event)\n",
    "    event_id  Ex: 364302, 365560, 365945, 367330 (ID assigned by NWS to note a single, small part that goes into a specific storm episode; links the storm episode between the three files downloaded from SPC’s website)\n",
    "    fatality_type  Ex: D , I (D = Direct Fatality; I = Indirect Fatality; assignment of this is determined by NWS software; details below are from NWS Directve 10-1605 at http://www.nws.noaa.gov/directives/sym/pd01016005curr.pdf, Section 2.6)\n",
    "        •\tDirect Fatality:  “A direct fatality or injury is defined as a fatality or injury directly attributable to the hydro-meteorological event itself, or impact by airborne/falling/moving debris, i.e., missiles generated by wind, water, ice, lightning, tornado, etc. “\n",
    "        •\tIndirect Fatality:  “Fatalities and injuries, occurring in the vicinity of a hydrometeorological event, or after it has ended, but not directly caused by impact or debris from the event (weather event was a passive entity), are classified as indirect.”\n",
    "\n",
    "    fatality_date  Ex: 4/3/2012  12:00:00 AM, 4/11/2012  12:00:00 AM\n",
    "    MM/DD/YYYY  12 hour time AM/PM\n",
    "\n",
    "    fatality_age  Ex: 38, 25, 69, 54\n",
    "    The age of the fatalities\n",
    "\n",
    "    fatality_sex  Ex: M, F\n",
    "    The gender of the fatalities\n",
    "\n",
    "    fatality_location  Ex: Under Tree, Boating, Vehicle/Towed Trailer\n",
    "\n",
    "    Direct Fatality Location Table\n",
    "\n",
    "    BF Ball Field\n",
    "    BO Boating\n",
    "    BU Business\n",
    "    CA Camping\n",
    "    CH Church\n",
    "    EQ Heavy Equip/Construction\n",
    "    GF Golfing\n",
    "    IW In Water\n",
    "    LS Long Span Roof\n",
    "    MH Mobile/Trailer Home\n",
    "    OT Other/Unknown\n",
    "    OU Outside/Open Areas\n",
    "    PH Permanent Home\n",
    "    PS Permanent Structure\n",
    "    SC School\n",
    "    TE Telephone\n",
    "    UT Under Tree\n",
    "    VE Vehicle and/or Towed Trailer\n"
   ]
  },
  {
   "cell_type": "markdown",
   "metadata": {},
   "source": [
    "### EDA\n",
    "I am going to explore my data using a variety of tools to reduce the computational lift."
   ]
  },
  {
   "cell_type": "code",
   "execution_count": 351,
   "metadata": {
    "collapsed": false,
    "scrolled": true
   },
   "outputs": [
    {
     "data": {
      "text/plain": [
       "Index([u'BEGIN_YEARMONTH', u'BEGIN_DAY', u'BEGIN_TIME', u'END_YEARMONTH',\n",
       "       u'END_DAY', u'END_TIME', u'EPISODE_ID', u'EVENT_ID', u'STATE',\n",
       "       u'STATE_FIPS', u'YEAR', u'MONTH_NAME', u'EVENT_TYPE', u'CZ_TYPE',\n",
       "       u'CZ_FIPS', u'CZ_NAME', u'WFO', u'BEGIN_DATE_TIME', u'CZ_TIMEZONE',\n",
       "       u'END_DATE_TIME', u'INJURIES_DIRECT', u'INJURIES_INDIRECT',\n",
       "       u'DEATHS_DIRECT', u'DEATHS_INDIRECT', u'DAMAGE_PROPERTY',\n",
       "       u'DAMAGE_CROPS', u'SOURCE', u'MAGNITUDE', u'MAGNITUDE_TYPE',\n",
       "       u'FLOOD_CAUSE', u'CATEGORY', u'TOR_F_SCALE', u'TOR_LENGTH',\n",
       "       u'TOR_WIDTH', u'TOR_OTHER_WFO', u'TOR_OTHER_CZ_STATE',\n",
       "       u'TOR_OTHER_CZ_FIPS', u'TOR_OTHER_CZ_NAME', u'BEGIN_RANGE',\n",
       "       u'BEGIN_AZIMUTH', u'BEGIN_LOCATION', u'END_RANGE', u'END_AZIMUTH',\n",
       "       u'END_LOCATION', u'BEGIN_LAT', u'BEGIN_LON', u'END_LAT', u'END_LON',\n",
       "       u'EPISODE_NARRATIVE', u'EVENT_NARRATIVE', u'LAST_MOD_DATE',\n",
       "       u'LAST_MOD_TIME', u'LAST_CERT_DATE', u'LAST_CERT_TIME', u'LAST_MOD',\n",
       "       u'LAST_CERT', u'ADDCORR_FLG', u'ADDCORR_DATE'],\n",
       "      dtype='object')"
      ]
     },
     "execution_count": 351,
     "metadata": {},
     "output_type": "execute_result"
    }
   ],
   "source": [
    "# Loading 700MB dataset from my hard drive\n",
    "\n",
    "import pandas as pd\n",
    "df1 = pd.read_csv('jm_cap.csv', index_col=0)\n",
    "df1.columns"
   ]
  },
  {
   "cell_type": "code",
   "execution_count": 354,
   "metadata": {
    "collapsed": false
   },
   "outputs": [
    {
     "data": {
      "text/plain": [
       "array(['Winter Storm', 'Winter Weather', 'Blizzard', 'Flood', 'Heavy Snow',\n",
       "       'High Wind', 'Thunderstorm Wind', 'Hail', 'Flash Flood',\n",
       "       'Cold/Wind Chill', 'Ice Storm', 'Coastal Flood', 'Tornado',\n",
       "       'Frost/Freeze', 'Lightning', 'Funnel Cloud', 'Waterspout',\n",
       "       'Dust Storm', 'Dense Fog', 'Heavy Rain', 'Heat', 'High Surf',\n",
       "       'Avalanche', 'Debris Flow', 'Drought', 'Wildfire', 'Strong Wind',\n",
       "       'Dust Devil', 'Rip Current', 'Tropical Storm',\n",
       "       'Hurricane (Typhoon)', 'Storm Surge/Tide', 'Freezing Fog',\n",
       "       'Marine High Wind', 'Sleet', 'Lake-Effect Snow',\n",
       "       'Astronomical Low Tide', 'Volcanic Ash', 'Seiche',\n",
       "       'Extreme Cold/Wind Chill', 'Excessive Heat', 'High Snow',\n",
       "       'Heavy Wind', 'OTHER', 'Marine Thunderstorm Wind',\n",
       "       'Northern Lights', 'Marine Hail', 'WINTER WEATHER', 'Dense Smoke',\n",
       "       'Tsunami', 'Landslide', 'Marine Strong Wind', 'Lakeshore Flood',\n",
       "       'Tropical Depression', 'Hurricane', 'Marine Tropical Storm',\n",
       "       'Sneakerwave', 'Marine Dense Fog'], dtype=object)"
      ]
     },
     "execution_count": 354,
     "metadata": {},
     "output_type": "execute_result"
    }
   ],
   "source": [
    "from sklearn.preprocessing import LabelEncoder\n",
    "LabelEncoder().fit_transform(df1['EVENT_TYPE'])\n",
    "df1['EVENT_TYPE'].unique()"
   ]
  },
  {
   "cell_type": "markdown",
   "metadata": {},
   "source": [
    "## For the purposes of this project, I have over 900,000 rows of data and 62 unique columns.  After some EDA on the data performed earlier, i have been able to identify reduce some features that will allow me to run my models more efficiently without hitting my CPU. \n",
    "\n",
    "## For the primary feature series \"Event Types\", there are 58 different events, ranging from Tornado's, to Seiche's (which if you didn't know is \"a temporary disturbance or oscillation in the water level of a lake or partially enclosed body of water, especially one caused by changes in atmospheric pressure.\".   \n",
    "\n",
    "## I will be running models for top key event types, with the goal of predicting the absolute and probability of costs, damage, fatalities or injuries for selected event types.  \n",
    "\n",
    "## Time to consolidate this feature set. There are far to many subclassifications (e.g. Hurricane, and Hurricane Typhoon, and Winter Weather, Blizzard,  WINTER WEATHER)\n",
    "\n"
   ]
  },
  {
   "cell_type": "code",
   "execution_count": 355,
   "metadata": {
    "collapsed": false
   },
   "outputs": [],
   "source": [
    "#1 Drought Dataset\n",
    "data1=df1[(df1.EVENT_TYPE == 'Heat') | (df1.EVENT_TYPE == 'Excessive Heat') | (df1.EVENT_TYPE == 'Drought')]\n",
    "\n",
    "data1.EVENT_TYPE = data1.EVENT_TYPE.str.replace('Excessive Heat','Drought') \n",
    "data1.EVENT_TYPE = data1.EVENT_TYPE.str.replace('Heat','Drought') \n",
    "data1.EVENT_TYPE.unique()\n",
    "data1.to_csv('data1.csv')"
   ]
  },
  {
   "cell_type": "code",
   "execution_count": 356,
   "metadata": {
    "collapsed": false
   },
   "outputs": [],
   "source": [
    "#2 TOrnado Dataset\n",
    "\n",
    "data2=df1[(df1.EVENT_TYPE == 'Tornado') | (df1.EVENT_TYPE == 'Funnel Cloud') ]\n",
    "data2.EVENT_TYPE = data2.EVENT_TYPE.str.replace('Funnel Cloud','Tornado')\n",
    "data2.EVENT_TYPE.unique()\n",
    "data2.to_csv('data2.csv')"
   ]
  },
  {
   "cell_type": "code",
   "execution_count": 357,
   "metadata": {
    "collapsed": false
   },
   "outputs": [],
   "source": [
    "#3 Flood Dataset\n",
    "data3=df1[(df1.EVENT_TYPE == 'Flash Flood') | (df1.EVENT_TYPE == 'Flood') | (df1.EVENT_TYPE == 'Coastal Flood') ]\n",
    "data3.EVENT_TYPE = data3.EVENT_TYPE.str.replace('Flash Flood','Flood')\n",
    "data3.EVENT_TYPE = data3.EVENT_TYPE.str.replace('Coastal Flood','Flood')\n",
    "data3.EVENT_TYPE = data3.EVENT_TYPE.str.replace('Lakeshore Flood','Flood')\n",
    "data3.EVENT_TYPE.unique()\n",
    "data3.to_csv('data3.csv')"
   ]
  },
  {
   "cell_type": "code",
   "execution_count": 358,
   "metadata": {
    "collapsed": false
   },
   "outputs": [],
   "source": [
    "#6 Rename Winter Weather\n",
    "\n",
    "data6=df1[(df1.EVENT_TYPE == 'Cold/Wind Chill') | (df1.EVENT_TYPE == 'Avalanche') | (df1.EVENT_TYPE == 'Winter Storm') | \\\n",
    "           (df1.EVENT_TYPE == 'Heavy Snow') | (df1.EVENT_TYPE == 'Extreme Cold/Wind Chill') | (df1.EVENT_TYPE == 'Ice Storm') | \\\n",
    "           (df1.EVENT_TYPE == 'Winter Weather') | (df1.EVENT_TYPE == 'Blizzard') | (df1.EVENT_TYPE == 'WINTER WEATHER') | \\\n",
    "           (df1.EVENT_TYPE == 'Hail') | (df1.EVENT_TYPE == 'Freezing Fog') | (df1.EVENT_TYPE == 'Frost/Freeze') | \\\n",
    "           (df1.EVENT_TYPE == 'Sleet') | (df1.EVENT_TYPE == 'Marine Hail') | (df1.EVENT_TYPE == 'High Snow') | \\\n",
    "           (df1.EVENT_TYPE == 'Lake-Effect Snow') \n",
    "         ]\n",
    "\n",
    "data6.EVENT_TYPE = data6.EVENT_TYPE.str.replace('Cold/Wind Chill','Winter Storm')\n",
    "data6.EVENT_TYPE = data6.EVENT_TYPE.str.replace('Winter Weather','Winter Storm')\n",
    "data6.EVENT_TYPE = data6.EVENT_TYPE.str.replace('Avalanche','Winter Storm')\n",
    "data6.EVENT_TYPE = data6.EVENT_TYPE.str.replace('Blizzard','Winter Storm')\n",
    "data6.EVENT_TYPE = data6.EVENT_TYPE.str.replace('Heavy Snow','Winter Storm')\n",
    "data6.EVENT_TYPE = data6.EVENT_TYPE.str.replace('Hail','Winter Storm')\n",
    "data6.EVENT_TYPE = data6.EVENT_TYPE.str.replace('Frost/Freeze','Winter Storm')\n",
    "data6.EVENT_TYPE = data6.EVENT_TYPE.str.replace('Freezing Fog','Winter Storm')\n",
    "data6.EVENT_TYPE = data6.EVENT_TYPE.str.replace('Ice Storm','Winter Storm')\n",
    "data6.EVENT_TYPE = data6.EVENT_TYPE.str.replace('Lake-Effect Snow','Winter Storm')\n",
    "data6.EVENT_TYPE = data6.EVENT_TYPE.str.replace('Sleet','Winter Storm')\n",
    "data6.EVENT_TYPE = data6.EVENT_TYPE.str.replace('Extreme Winter Storm','Winter Storm')\n",
    "data6.EVENT_TYPE = data6.EVENT_TYPE.str.replace('High Snow','Winter Storm')\n",
    "data6.EVENT_TYPE = data6.EVENT_TYPE.str.replace('WINTER WEATHER','Winter Storm')\n",
    "data6.EVENT_TYPE = data6.EVENT_TYPE.str.replace('Marine ','')\n",
    "\n",
    "data6.EVENT_TYPE.unique()\n",
    "\n",
    "data6.to_csv('data6.csv')"
   ]
  },
  {
   "cell_type": "code",
   "execution_count": 360,
   "metadata": {
    "collapsed": false
   },
   "outputs": [],
   "source": [
    "# 7 Hurricane Dataset\n",
    "data7=df1[(df1.EVENT_TYPE == 'Hurricane (Typhoon)') | (df1.EVENT_TYPE == 'Hurricane')]\n",
    "data7.EVENT_TYPE= data7.EVENT_TYPE.str.replace(\"Typhoon\",'')\n",
    "data7.EVENT_TYPE= data7.EVENT_TYPE.str.replace(\"(\",'')\n",
    "data7.EVENT_TYPE= data7.EVENT_TYPE.str.replace(\")\",'')\n",
    "data7.EVENT_TYPE= data7.EVENT_TYPE.str.replace(\" \",'')\n",
    "data7.EVENT_TYPE= data7.EVENT_TYPE.str.replace('High Rain','Hurricane')\n",
    "\n",
    "data7.EVENT_TYPE.unique()\n",
    "data7.to_csv('data7.csv')"
   ]
  },
  {
   "cell_type": "code",
   "execution_count": 361,
   "metadata": {
    "collapsed": false
   },
   "outputs": [],
   "source": [
    "# 9 Tropical Storm dataset\n",
    "data9=df1[(df1.EVENT_TYPE == 'Tropical Storm') | (df1.EVENT_TYPE == 'Marine Tropical Storm') | (df1.EVENT_TYPE == 'Tropical Depression')]\n",
    "data9.EVENT_TYPE = data9.EVENT_TYPE.str.replace('Marine ','')\n",
    "data9.EVENT_TYPE = data9.EVENT_TYPE.str.replace('Tropical Depression','Tropical Storm')\n",
    "data9.EVENT_TYPE.unique()\n",
    "data9.to_csv('data9.csv')"
   ]
  },
  {
   "cell_type": "code",
   "execution_count": 362,
   "metadata": {
    "collapsed": false
   },
   "outputs": [],
   "source": [
    "# 11 High Wind Datatset\n",
    "\n",
    "data11=df1[(df1.EVENT_TYPE == 'Thunderstorm Wind') | (df1.EVENT_TYPE == 'Marine Strong Wind') | (df1.EVENT_TYPE == 'Marine Thunderstorm Wind') | \\\n",
    "           (df1.EVENT_TYPE == 'Marine High Wind') | (df1.EVENT_TYPE == 'Strong Wind') | (df1.EVENT_TYPE == 'Heavy Wind') | \\\n",
    "           (df1.EVENT_TYPE == 'High Wind')]\n",
    "data11.EVENT_TYPE = data11.EVENT_TYPE.str.replace('Marine Strong Wind','High Wind')\n",
    "data11.EVENT_TYPE = data11.EVENT_TYPE.str.replace('Marine High Wind','High Wind')\n",
    "data11.EVENT_TYPE = data11.EVENT_TYPE.str.replace('Marine Thunderstorm Wind','High Wind')\n",
    "data11.EVENT_TYPE = data11.EVENT_TYPE.str.replace('Thunderstorm Wind','High Wind')\n",
    "data11.EVENT_TYPE = data11.EVENT_TYPE.str.replace('Strong Wind','High Wind')\n",
    "data11.EVENT_TYPE = data11.EVENT_TYPE.str.replace('Heavy Wind','High Wind')\n",
    "data11.EVENT_TYPE.unique()\n",
    "data11.to_csv('data11.csv')"
   ]
  },
  {
   "cell_type": "code",
   "execution_count": 363,
   "metadata": {
    "collapsed": false
   },
   "outputs": [],
   "source": [
    "# 14 Rip Current Dataset\n",
    "\n",
    "data14=df1[(df1.EVENT_TYPE == 'High Surf') | (df1.EVENT_TYPE == 'Storm Surge/Tide') | (df1.EVENT_TYPE == 'Rip Current')| (df1.EVENT_TYPE == 'Astronomical Low Tide') ]\n",
    "data14.EVENT_TYPE = data14.EVENT_TYPE.str.replace('Storm Surge/Tide','Rip Current')\n",
    "data14.EVENT_TYPE = data14.EVENT_TYPE.str.replace('High Surf','Rip Current')\n",
    "data14.EVENT_TYPE = data14.EVENT_TYPE.str.replace('Astronomical Low Tide','Rip Current')\n",
    "data14.EVENT_TYPE.unique()\n",
    "data14.to_csv('data14.csv')"
   ]
  },
  {
   "cell_type": "markdown",
   "metadata": {},
   "source": [
    "## Now I am going to clean up my 900,000 row dataframe "
   ]
  },
  {
   "cell_type": "code",
   "execution_count": 364,
   "metadata": {
    "collapsed": false
   },
   "outputs": [
    {
     "data": {
      "text/plain": [
       "array(['Winter Storm', 'Flood', 'High Wind', 'Tornado', 'Lightning',\n",
       "       'Waterspout', 'OTHER', 'Heavy Rain', 'Drought', 'Rip Current',\n",
       "       'Wildfire', 'Tropical Storm', 'Hurricane', 'Tsunami', 'Landslide'], dtype=object)"
      ]
     },
     "execution_count": 364,
     "metadata": {},
     "output_type": "execute_result"
    }
   ],
   "source": [
    "df1.EVENT_TYPE = df1.EVENT_TYPE.str.replace('Excessive Heat','Drought') \n",
    "df1.EVENT_TYPE = df1.EVENT_TYPE.str.replace('Heat','Drought') \n",
    "\n",
    "df1.EVENT_TYPE = df1.EVENT_TYPE.str.replace('Funnel Cloud','Tornado')\n",
    "\n",
    "df1.EVENT_TYPE = df1.EVENT_TYPE.str.replace('Flash Flood','Flood')\n",
    "df1.EVENT_TYPE = df1.EVENT_TYPE.str.replace('Coastal Flood','Flood')\n",
    "df1.EVENT_TYPE = df1.EVENT_TYPE.str.replace('Lakeshore Flood','Flood')\n",
    "\n",
    "df1.EVENT_TYPE = df1.EVENT_TYPE.str.replace('Cold/Wind Chill','Winter Storm')\n",
    "df1.EVENT_TYPE = df1.EVENT_TYPE.str.replace('Winter Weather','Winter Storm')\n",
    "df1.EVENT_TYPE = df1.EVENT_TYPE.str.replace('Avalanche','Winter Storm')\n",
    "df1.EVENT_TYPE = df1.EVENT_TYPE.str.replace('Blizzard','Winter Storm')\n",
    "df1.EVENT_TYPE = df1.EVENT_TYPE.str.replace('Heavy Snow','Winter Storm')\n",
    "df1.EVENT_TYPE = df1.EVENT_TYPE.str.replace('Hail','Winter Storm')\n",
    "df1.EVENT_TYPE = df1.EVENT_TYPE.str.replace('Frost/Freeze','Winter Storm')\n",
    "df1.EVENT_TYPE = df1.EVENT_TYPE.str.replace('Freezing Fog','Winter Storm')\n",
    "df1.EVENT_TYPE = df1.EVENT_TYPE.str.replace('Ice Storm','Winter Storm')\n",
    "df1.EVENT_TYPE = df1.EVENT_TYPE.str.replace('Lake-Effect Snow','Winter Storm')\n",
    "df1.EVENT_TYPE = df1.EVENT_TYPE.str.replace('Sleet','Winter Storm')\n",
    "df1.EVENT_TYPE = df1.EVENT_TYPE.str.replace('Extreme Winter Storm','Winter Storm')\n",
    "df1.EVENT_TYPE = df1.EVENT_TYPE.str.replace('High Snow','Winter Storm')\n",
    "df1.EVENT_TYPE = df1.EVENT_TYPE.str.replace('WINTER WEATHER','Winter Storm')\n",
    "\n",
    "df1.EVENT_TYPE = df1.EVENT_TYPE.str.replace('Dust Devil','Dust Storm')\n",
    "\n",
    "df1.EVENT_TYPE = df1.EVENT_TYPE.str.replace('Marine ','')\n",
    "df1.EVENT_TYPE = df1.EVENT_TYPE.str.replace('Tropical Depression','Tropical Storm')\n",
    "\n",
    "df1.EVENT_TYPE = df1.EVENT_TYPE.str.replace('Marine Strong Wind','High Wind')\n",
    "df1.EVENT_TYPE = df1.EVENT_TYPE.str.replace('Marine High Wind','High Wind')\n",
    "df1.EVENT_TYPE = df1.EVENT_TYPE.str.replace('Marine Thunderstorm Wind','High Wind')\n",
    "df1.EVENT_TYPE = df1.EVENT_TYPE.str.replace('Thunderstorm Wind','High Wind')\n",
    "df1.EVENT_TYPE = df1.EVENT_TYPE.str.replace('Strong Wind','High Wind')\n",
    "df1.EVENT_TYPE = df1.EVENT_TYPE.str.replace('Heavy Wind','High Wind')\n",
    "\n",
    "df1.EVENT_TYPE = df1.EVENT_TYPE.str.replace('Seiche','Flood')\n",
    "df1.EVENT_TYPE = df1.EVENT_TYPE.str.replace('Storm Surge/Tide','Rip Current')\n",
    "df1.EVENT_TYPE = df1.EVENT_TYPE.str.replace('High Surf','Rip Current')\n",
    "df1.EVENT_TYPE = df1.EVENT_TYPE.str.replace('Astronomical Low Tide','Rip Current')\n",
    "\n",
    "df1.EVENT_TYPE = df1.EVENT_TYPE.str.replace('Sneakerwave','OTHER')\n",
    "df1.EVENT_TYPE = df1.EVENT_TYPE.str.replace('Debris Flow','OTHER')\n",
    "df1.EVENT_TYPE = df1.EVENT_TYPE.str.replace('Dense Smoke','Wildfire')\n",
    "\n",
    "df1.EVENT_TYPE = df1.EVENT_TYPE.str.replace('()','')\n",
    "df1.EVENT_TYPE = df1.EVENT_TYPE.str.replace('Volcanic Ash','OTHER')\n",
    "df1.EVENT_TYPE = df1.EVENT_TYPE.str.replace('Dust Storm','OTHER')\n",
    "df1.EVENT_TYPE = df1.EVENT_TYPE.str.replace('Dust Devil','OTHER')\n",
    "df1.EVENT_TYPE = df1.EVENT_TYPE.str.replace('Northern Lights','OTHER')\n",
    "df1.EVENT_TYPE = df1.EVENT_TYPE.str.replace('Debris Flow','OTHER')\n",
    "df1.EVENT_TYPE = df1.EVENT_TYPE.str.replace('Dense Fog','OTHER')\n",
    "\n",
    "df1.EVENT_TYPE = df1.EVENT_TYPE.str.replace(\"Typhoon\",'')\n",
    "df1.EVENT_TYPE = df1.EVENT_TYPE.str.replace(\"(\",'')\n",
    "df1.EVENT_TYPE = df1.EVENT_TYPE.str.replace(\")\",'')\n",
    "df1.EVENT_TYPE = df1.EVENT_TYPE.str.replace('High Rain','Hurricane')\n",
    "df1.EVENT_TYPE = df1.EVENT_TYPE.str.replace('Hurricane ','Hurricane')\n",
    "\n",
    "df1.EVENT_TYPE.unique()\n"
   ]
  },
  {
   "cell_type": "code",
   "execution_count": 365,
   "metadata": {
    "collapsed": false
   },
   "outputs": [
    {
     "data": {
      "text/plain": [
       "array(['INDIANA', 'KENTUCKY', 'ILLINOIS', 'IOWA', 'NEW YORK', 'MAINE',\n",
       "       'VERMONT', 'VIRGINIA', 'WEST VIRGINIA', 'CONNECTICUT', 'MARYLAND',\n",
       "       'ALASKA', 'NEW MEXICO', 'TEXAS', 'MICHIGAN', 'WISCONSIN',\n",
       "       'MASSACHUSETTS', 'MINNESOTA', 'NEW HAMPSHIRE', 'COLORADO',\n",
       "       'OKLAHOMA', 'SOUTH DAKOTA', 'KANSAS', 'NORTH CAROLINA',\n",
       "       'PENNSYLVANIA', 'ARKANSAS', 'NEW JERSEY', 'NEBRASKA', 'OHIO',\n",
       "       'NORTH DAKOTA', 'DELAWARE', 'NEVADA', 'FLORIDA', 'ARIZONA',\n",
       "       'SOUTH CAROLINA', 'HAWAII', 'TENNESSEE', 'MISSOURI', 'MISSISSIPPI',\n",
       "       'WASHINGTON', 'OREGON', 'WYOMING', 'PUERTO RICO',\n",
       "       'DISTRICT OF COLUMBIA', 'RHODE ISLAND', 'LOUISIANA', 'CALIFORNIA',\n",
       "       'GEORGIA', 'ALABAMA', 'IDAHO', 'MONTANA', 'UTAH', 'VIRGIN ISLANDS',\n",
       "       'GUAM', 'AMERICAN SAMOA', 'ATLANTIC SOUTH', 'GULF OF MEXICO',\n",
       "       'LAKE ERIE', 'HAWAII WATERS', 'LAKE MICHIGAN', 'LAKE HURON',\n",
       "       'LAKE ST CLAIR', 'E PACIFIC', 'ATLANTIC NORTH', 'LAKE ONTARIO',\n",
       "       'ST LAWRENCE R', 'LAKE SUPERIOR', nan, 'GULF OF ALASKA'], dtype=object)"
      ]
     },
     "execution_count": 365,
     "metadata": {},
     "output_type": "execute_result"
    }
   ],
   "source": [
    "LabelEncoder().fit_transform(df1['STATE'])\n",
    "df1['STATE'].unique()"
   ]
  },
  {
   "cell_type": "code",
   "execution_count": 366,
   "metadata": {
    "collapsed": false
   },
   "outputs": [],
   "source": [
    "df1.TOR_F_SCALE = df1.TOR_F_SCALE.apply(lambda x: str(x))"
   ]
  },
  {
   "cell_type": "code",
   "execution_count": 367,
   "metadata": {
    "collapsed": false
   },
   "outputs": [],
   "source": [
    "df1['TOR_F_SCALE'] = df1['TOR_F_SCALE'].apply(lambda x: x.replace(' ', ''))"
   ]
  },
  {
   "cell_type": "code",
   "execution_count": 368,
   "metadata": {
    "collapsed": false
   },
   "outputs": [
    {
     "data": {
      "text/plain": [
       "array(['nan', 'F0', 'F1', 'F2', 'F3', '0', 'F4', 'F5', 'EF3', 'EF1', 'EF0',\n",
       "       'EF2', 'EF4', 'EF5'], dtype=object)"
      ]
     },
     "execution_count": 368,
     "metadata": {},
     "output_type": "execute_result"
    }
   ],
   "source": [
    "LabelEncoder().fit_transform(df1['TOR_F_SCALE'])\n",
    "df1['TOR_F_SCALE'].unique()"
   ]
  },
  {
   "cell_type": "markdown",
   "metadata": {},
   "source": [
    "##  Now going to do some further EDA on my EVENT_TYPE datasets to see of crop/property damage, casualities and fatalities."
   ]
  },
  {
   "cell_type": "code",
   "execution_count": 370,
   "metadata": {
    "collapsed": false
   },
   "outputs": [
    {
     "data": {
      "text/html": [
       "<div>\n",
       "<table border=\"1\" class=\"dataframe\">\n",
       "  <thead>\n",
       "    <tr style=\"text-align: right;\">\n",
       "      <th></th>\n",
       "      <th>EVENT_TYPE</th>\n",
       "      <th>count</th>\n",
       "      <th>min</th>\n",
       "      <th>max</th>\n",
       "      <th>mean</th>\n",
       "      <th>sum</th>\n",
       "    </tr>\n",
       "  </thead>\n",
       "  <tbody>\n",
       "    <tr>\n",
       "      <th>0</th>\n",
       "      <td>Tornado</td>\n",
       "      <td>31568</td>\n",
       "      <td>0</td>\n",
       "      <td>1150</td>\n",
       "      <td>0.665706</td>\n",
       "      <td>21015</td>\n",
       "    </tr>\n",
       "    <tr>\n",
       "      <th>1</th>\n",
       "      <td>Drought</td>\n",
       "      <td>65644</td>\n",
       "      <td>0</td>\n",
       "      <td>519</td>\n",
       "      <td>0.213790</td>\n",
       "      <td>14034</td>\n",
       "    </tr>\n",
       "    <tr>\n",
       "      <th>2</th>\n",
       "      <td>Flood</td>\n",
       "      <td>99038</td>\n",
       "      <td>0</td>\n",
       "      <td>800</td>\n",
       "      <td>0.086553</td>\n",
       "      <td>8572</td>\n",
       "    </tr>\n",
       "    <tr>\n",
       "      <th>3</th>\n",
       "      <td>High Wind</td>\n",
       "      <td>319759</td>\n",
       "      <td>0</td>\n",
       "      <td>100</td>\n",
       "      <td>0.022620</td>\n",
       "      <td>7233</td>\n",
       "    </tr>\n",
       "    <tr>\n",
       "      <th>4</th>\n",
       "      <td>Winter Storm</td>\n",
       "      <td>414873</td>\n",
       "      <td>0</td>\n",
       "      <td>177</td>\n",
       "      <td>0.012654</td>\n",
       "      <td>5250</td>\n",
       "    </tr>\n",
       "    <tr>\n",
       "      <th>5</th>\n",
       "      <td>Lightning</td>\n",
       "      <td>14229</td>\n",
       "      <td>0</td>\n",
       "      <td>51</td>\n",
       "      <td>0.310774</td>\n",
       "      <td>4422</td>\n",
       "    </tr>\n",
       "    <tr>\n",
       "      <th>6</th>\n",
       "      <td>Wildfire</td>\n",
       "      <td>5251</td>\n",
       "      <td>0</td>\n",
       "      <td>90</td>\n",
       "      <td>0.316892</td>\n",
       "      <td>1664</td>\n",
       "    </tr>\n",
       "    <tr>\n",
       "      <th>7</th>\n",
       "      <td>Hurricane</td>\n",
       "      <td>1777</td>\n",
       "      <td>0</td>\n",
       "      <td>700</td>\n",
       "      <td>0.749578</td>\n",
       "      <td>1332</td>\n",
       "    </tr>\n",
       "    <tr>\n",
       "      <th>8</th>\n",
       "      <td>OTHER</td>\n",
       "      <td>9897</td>\n",
       "      <td>0</td>\n",
       "      <td>56</td>\n",
       "      <td>0.134081</td>\n",
       "      <td>1327</td>\n",
       "    </tr>\n",
       "    <tr>\n",
       "      <th>9</th>\n",
       "      <td>Rip Current</td>\n",
       "      <td>8325</td>\n",
       "      <td>0</td>\n",
       "      <td>55</td>\n",
       "      <td>0.108589</td>\n",
       "      <td>904</td>\n",
       "    </tr>\n",
       "    <tr>\n",
       "      <th>10</th>\n",
       "      <td>Tropical Storm</td>\n",
       "      <td>4252</td>\n",
       "      <td>0</td>\n",
       "      <td>154</td>\n",
       "      <td>0.082785</td>\n",
       "      <td>352</td>\n",
       "    </tr>\n",
       "    <tr>\n",
       "      <th>11</th>\n",
       "      <td>Heavy Rain</td>\n",
       "      <td>15217</td>\n",
       "      <td>0</td>\n",
       "      <td>32</td>\n",
       "      <td>0.016955</td>\n",
       "      <td>258</td>\n",
       "    </tr>\n",
       "    <tr>\n",
       "      <th>12</th>\n",
       "      <td>Tsunami</td>\n",
       "      <td>29</td>\n",
       "      <td>0</td>\n",
       "      <td>129</td>\n",
       "      <td>4.517241</td>\n",
       "      <td>131</td>\n",
       "    </tr>\n",
       "    <tr>\n",
       "      <th>13</th>\n",
       "      <td>Landslide</td>\n",
       "      <td>362</td>\n",
       "      <td>0</td>\n",
       "      <td>5</td>\n",
       "      <td>0.033149</td>\n",
       "      <td>12</td>\n",
       "    </tr>\n",
       "    <tr>\n",
       "      <th>14</th>\n",
       "      <td>Waterspout</td>\n",
       "      <td>3818</td>\n",
       "      <td>0</td>\n",
       "      <td>1</td>\n",
       "      <td>0.000786</td>\n",
       "      <td>3</td>\n",
       "    </tr>\n",
       "  </tbody>\n",
       "</table>\n",
       "</div>"
      ],
      "text/plain": [
       "        EVENT_TYPE   count  min   max      mean    sum\n",
       "0          Tornado   31568    0  1150  0.665706  21015\n",
       "1          Drought   65644    0   519  0.213790  14034\n",
       "2            Flood   99038    0   800  0.086553   8572\n",
       "3        High Wind  319759    0   100  0.022620   7233\n",
       "4     Winter Storm  414873    0   177  0.012654   5250\n",
       "5        Lightning   14229    0    51  0.310774   4422\n",
       "6         Wildfire    5251    0    90  0.316892   1664\n",
       "7        Hurricane    1777    0   700  0.749578   1332\n",
       "8            OTHER    9897    0    56  0.134081   1327\n",
       "9      Rip Current    8325    0    55  0.108589    904\n",
       "10  Tropical Storm    4252    0   154  0.082785    352\n",
       "11      Heavy Rain   15217    0    32  0.016955    258\n",
       "12         Tsunami      29    0   129  4.517241    131\n",
       "13       Landslide     362    0     5  0.033149     12\n",
       "14      Waterspout    3818    0     1  0.000786      3"
      ]
     },
     "execution_count": 370,
     "metadata": {},
     "output_type": "execute_result"
    }
   ],
   "source": [
    "df1.groupby('EVENT_TYPE').INJURIES_DIRECT.agg(['count','min', 'max', 'mean', 'sum']).sort_values('sum', axis=0, ascending=False).reset_index()"
   ]
  },
  {
   "cell_type": "code",
   "execution_count": 371,
   "metadata": {
    "collapsed": false
   },
   "outputs": [
    {
     "data": {
      "text/html": [
       "<div>\n",
       "<table border=\"1\" class=\"dataframe\">\n",
       "  <thead>\n",
       "    <tr style=\"text-align: right;\">\n",
       "      <th></th>\n",
       "      <th>EVENT_TYPE</th>\n",
       "      <th>count</th>\n",
       "      <th>min</th>\n",
       "      <th>max</th>\n",
       "      <th>mean</th>\n",
       "      <th>sum</th>\n",
       "    </tr>\n",
       "  </thead>\n",
       "  <tbody>\n",
       "    <tr>\n",
       "      <th>0</th>\n",
       "      <td>Winter Storm</td>\n",
       "      <td>414873</td>\n",
       "      <td>0</td>\n",
       "      <td>300</td>\n",
       "      <td>0.009902</td>\n",
       "      <td>4108</td>\n",
       "    </tr>\n",
       "    <tr>\n",
       "      <th>1</th>\n",
       "      <td>Hurricane</td>\n",
       "      <td>1777</td>\n",
       "      <td>0</td>\n",
       "      <td>2400</td>\n",
       "      <td>1.355656</td>\n",
       "      <td>2409</td>\n",
       "    </tr>\n",
       "    <tr>\n",
       "      <th>2</th>\n",
       "      <td>OTHER</td>\n",
       "      <td>9897</td>\n",
       "      <td>0</td>\n",
       "      <td>62</td>\n",
       "      <td>0.067697</td>\n",
       "      <td>670</td>\n",
       "    </tr>\n",
       "    <tr>\n",
       "      <th>3</th>\n",
       "      <td>High Wind</td>\n",
       "      <td>319759</td>\n",
       "      <td>0</td>\n",
       "      <td>22</td>\n",
       "      <td>0.001060</td>\n",
       "      <td>339</td>\n",
       "    </tr>\n",
       "    <tr>\n",
       "      <th>4</th>\n",
       "      <td>Wildfire</td>\n",
       "      <td>5251</td>\n",
       "      <td>0</td>\n",
       "      <td>65</td>\n",
       "      <td>0.059036</td>\n",
       "      <td>310</td>\n",
       "    </tr>\n",
       "    <tr>\n",
       "      <th>5</th>\n",
       "      <td>Tornado</td>\n",
       "      <td>31568</td>\n",
       "      <td>0</td>\n",
       "      <td>90</td>\n",
       "      <td>0.007318</td>\n",
       "      <td>231</td>\n",
       "    </tr>\n",
       "    <tr>\n",
       "      <th>6</th>\n",
       "      <td>Drought</td>\n",
       "      <td>65644</td>\n",
       "      <td>0</td>\n",
       "      <td>60</td>\n",
       "      <td>0.003504</td>\n",
       "      <td>230</td>\n",
       "    </tr>\n",
       "    <tr>\n",
       "      <th>7</th>\n",
       "      <td>Lightning</td>\n",
       "      <td>14229</td>\n",
       "      <td>0</td>\n",
       "      <td>12</td>\n",
       "      <td>0.015532</td>\n",
       "      <td>221</td>\n",
       "    </tr>\n",
       "    <tr>\n",
       "      <th>8</th>\n",
       "      <td>Heavy Rain</td>\n",
       "      <td>15217</td>\n",
       "      <td>0</td>\n",
       "      <td>52</td>\n",
       "      <td>0.009989</td>\n",
       "      <td>152</td>\n",
       "    </tr>\n",
       "    <tr>\n",
       "      <th>9</th>\n",
       "      <td>Flood</td>\n",
       "      <td>99038</td>\n",
       "      <td>0</td>\n",
       "      <td>13</td>\n",
       "      <td>0.000535</td>\n",
       "      <td>53</td>\n",
       "    </tr>\n",
       "    <tr>\n",
       "      <th>10</th>\n",
       "      <td>Tsunami</td>\n",
       "      <td>29</td>\n",
       "      <td>0</td>\n",
       "      <td>19</td>\n",
       "      <td>0.655172</td>\n",
       "      <td>19</td>\n",
       "    </tr>\n",
       "    <tr>\n",
       "      <th>11</th>\n",
       "      <td>Tropical Storm</td>\n",
       "      <td>4252</td>\n",
       "      <td>0</td>\n",
       "      <td>4</td>\n",
       "      <td>0.002352</td>\n",
       "      <td>10</td>\n",
       "    </tr>\n",
       "    <tr>\n",
       "      <th>12</th>\n",
       "      <td>Rip Current</td>\n",
       "      <td>8325</td>\n",
       "      <td>0</td>\n",
       "      <td>2</td>\n",
       "      <td>0.000480</td>\n",
       "      <td>4</td>\n",
       "    </tr>\n",
       "    <tr>\n",
       "      <th>13</th>\n",
       "      <td>Landslide</td>\n",
       "      <td>362</td>\n",
       "      <td>0</td>\n",
       "      <td>1</td>\n",
       "      <td>0.002762</td>\n",
       "      <td>1</td>\n",
       "    </tr>\n",
       "    <tr>\n",
       "      <th>14</th>\n",
       "      <td>Waterspout</td>\n",
       "      <td>3818</td>\n",
       "      <td>0</td>\n",
       "      <td>0</td>\n",
       "      <td>0.000000</td>\n",
       "      <td>0</td>\n",
       "    </tr>\n",
       "  </tbody>\n",
       "</table>\n",
       "</div>"
      ],
      "text/plain": [
       "        EVENT_TYPE   count  min   max      mean   sum\n",
       "0     Winter Storm  414873    0   300  0.009902  4108\n",
       "1        Hurricane    1777    0  2400  1.355656  2409\n",
       "2            OTHER    9897    0    62  0.067697   670\n",
       "3        High Wind  319759    0    22  0.001060   339\n",
       "4         Wildfire    5251    0    65  0.059036   310\n",
       "5          Tornado   31568    0    90  0.007318   231\n",
       "6          Drought   65644    0    60  0.003504   230\n",
       "7        Lightning   14229    0    12  0.015532   221\n",
       "8       Heavy Rain   15217    0    52  0.009989   152\n",
       "9            Flood   99038    0    13  0.000535    53\n",
       "10         Tsunami      29    0    19  0.655172    19\n",
       "11  Tropical Storm    4252    0     4  0.002352    10\n",
       "12     Rip Current    8325    0     2  0.000480     4\n",
       "13       Landslide     362    0     1  0.002762     1\n",
       "14      Waterspout    3818    0     0  0.000000     0"
      ]
     },
     "execution_count": 371,
     "metadata": {},
     "output_type": "execute_result"
    }
   ],
   "source": [
    "df1.groupby('EVENT_TYPE').INJURIES_INDIRECT.agg(['count','min', 'max', 'mean', 'sum']).sort_values('sum', axis=0, ascending=False).reset_index()"
   ]
  },
  {
   "cell_type": "code",
   "execution_count": 372,
   "metadata": {
    "collapsed": false
   },
   "outputs": [
    {
     "data": {
      "text/html": [
       "<div>\n",
       "<table border=\"1\" class=\"dataframe\">\n",
       "  <thead>\n",
       "    <tr style=\"text-align: right;\">\n",
       "      <th></th>\n",
       "      <th>EVENT_TYPE</th>\n",
       "      <th>count</th>\n",
       "      <th>min</th>\n",
       "      <th>max</th>\n",
       "      <th>mean</th>\n",
       "      <th>sum</th>\n",
       "    </tr>\n",
       "  </thead>\n",
       "  <tbody>\n",
       "    <tr>\n",
       "      <th>0</th>\n",
       "      <td>Drought</td>\n",
       "      <td>65644</td>\n",
       "      <td>0</td>\n",
       "      <td>93</td>\n",
       "      <td>0.038785</td>\n",
       "      <td>2546</td>\n",
       "    </tr>\n",
       "    <tr>\n",
       "      <th>1</th>\n",
       "      <td>Tornado</td>\n",
       "      <td>31568</td>\n",
       "      <td>0</td>\n",
       "      <td>158</td>\n",
       "      <td>0.049924</td>\n",
       "      <td>1576</td>\n",
       "    </tr>\n",
       "    <tr>\n",
       "      <th>2</th>\n",
       "      <td>Flood</td>\n",
       "      <td>99038</td>\n",
       "      <td>0</td>\n",
       "      <td>23</td>\n",
       "      <td>0.014792</td>\n",
       "      <td>1465</td>\n",
       "    </tr>\n",
       "    <tr>\n",
       "      <th>3</th>\n",
       "      <td>Winter Storm</td>\n",
       "      <td>414873</td>\n",
       "      <td>0</td>\n",
       "      <td>14</td>\n",
       "      <td>0.003206</td>\n",
       "      <td>1330</td>\n",
       "    </tr>\n",
       "    <tr>\n",
       "      <th>4</th>\n",
       "      <td>High Wind</td>\n",
       "      <td>319759</td>\n",
       "      <td>0</td>\n",
       "      <td>8</td>\n",
       "      <td>0.002902</td>\n",
       "      <td>928</td>\n",
       "    </tr>\n",
       "    <tr>\n",
       "      <th>5</th>\n",
       "      <td>Rip Current</td>\n",
       "      <td>8325</td>\n",
       "      <td>0</td>\n",
       "      <td>12</td>\n",
       "      <td>0.099940</td>\n",
       "      <td>832</td>\n",
       "    </tr>\n",
       "    <tr>\n",
       "      <th>6</th>\n",
       "      <td>Lightning</td>\n",
       "      <td>14229</td>\n",
       "      <td>0</td>\n",
       "      <td>4</td>\n",
       "      <td>0.049336</td>\n",
       "      <td>702</td>\n",
       "    </tr>\n",
       "    <tr>\n",
       "      <th>7</th>\n",
       "      <td>OTHER</td>\n",
       "      <td>9897</td>\n",
       "      <td>0</td>\n",
       "      <td>14</td>\n",
       "      <td>0.013236</td>\n",
       "      <td>131</td>\n",
       "    </tr>\n",
       "    <tr>\n",
       "      <th>8</th>\n",
       "      <td>Wildfire</td>\n",
       "      <td>5251</td>\n",
       "      <td>0</td>\n",
       "      <td>19</td>\n",
       "      <td>0.022662</td>\n",
       "      <td>119</td>\n",
       "    </tr>\n",
       "    <tr>\n",
       "      <th>9</th>\n",
       "      <td>Hurricane</td>\n",
       "      <td>1777</td>\n",
       "      <td>0</td>\n",
       "      <td>10</td>\n",
       "      <td>0.061902</td>\n",
       "      <td>110</td>\n",
       "    </tr>\n",
       "    <tr>\n",
       "      <th>10</th>\n",
       "      <td>Heavy Rain</td>\n",
       "      <td>15217</td>\n",
       "      <td>0</td>\n",
       "      <td>19</td>\n",
       "      <td>0.006900</td>\n",
       "      <td>105</td>\n",
       "    </tr>\n",
       "    <tr>\n",
       "      <th>11</th>\n",
       "      <td>Tropical Storm</td>\n",
       "      <td>4252</td>\n",
       "      <td>0</td>\n",
       "      <td>22</td>\n",
       "      <td>0.017168</td>\n",
       "      <td>73</td>\n",
       "    </tr>\n",
       "    <tr>\n",
       "      <th>12</th>\n",
       "      <td>Tsunami</td>\n",
       "      <td>29</td>\n",
       "      <td>0</td>\n",
       "      <td>32</td>\n",
       "      <td>1.137931</td>\n",
       "      <td>33</td>\n",
       "    </tr>\n",
       "    <tr>\n",
       "      <th>13</th>\n",
       "      <td>Landslide</td>\n",
       "      <td>362</td>\n",
       "      <td>0</td>\n",
       "      <td>2</td>\n",
       "      <td>0.011050</td>\n",
       "      <td>4</td>\n",
       "    </tr>\n",
       "    <tr>\n",
       "      <th>14</th>\n",
       "      <td>Waterspout</td>\n",
       "      <td>3818</td>\n",
       "      <td>0</td>\n",
       "      <td>2</td>\n",
       "      <td>0.000524</td>\n",
       "      <td>2</td>\n",
       "    </tr>\n",
       "  </tbody>\n",
       "</table>\n",
       "</div>"
      ],
      "text/plain": [
       "        EVENT_TYPE   count  min  max      mean   sum\n",
       "0          Drought   65644    0   93  0.038785  2546\n",
       "1          Tornado   31568    0  158  0.049924  1576\n",
       "2            Flood   99038    0   23  0.014792  1465\n",
       "3     Winter Storm  414873    0   14  0.003206  1330\n",
       "4        High Wind  319759    0    8  0.002902   928\n",
       "5      Rip Current    8325    0   12  0.099940   832\n",
       "6        Lightning   14229    0    4  0.049336   702\n",
       "7            OTHER    9897    0   14  0.013236   131\n",
       "8         Wildfire    5251    0   19  0.022662   119\n",
       "9        Hurricane    1777    0   10  0.061902   110\n",
       "10      Heavy Rain   15217    0   19  0.006900   105\n",
       "11  Tropical Storm    4252    0   22  0.017168    73\n",
       "12         Tsunami      29    0   32  1.137931    33\n",
       "13       Landslide     362    0    2  0.011050     4\n",
       "14      Waterspout    3818    0    2  0.000524     2"
      ]
     },
     "execution_count": 372,
     "metadata": {},
     "output_type": "execute_result"
    }
   ],
   "source": [
    "df1.groupby('EVENT_TYPE').DEATHS_DIRECT.agg(['count','min', 'max', 'mean', 'sum']).sort_values('sum', axis=0, ascending=False).reset_index()"
   ]
  },
  {
   "cell_type": "code",
   "execution_count": 373,
   "metadata": {
    "collapsed": false,
    "scrolled": true
   },
   "outputs": [
    {
     "data": {
      "text/html": [
       "<div>\n",
       "<table border=\"1\" class=\"dataframe\">\n",
       "  <thead>\n",
       "    <tr style=\"text-align: right;\">\n",
       "      <th></th>\n",
       "      <th>EVENT_TYPE</th>\n",
       "      <th>count</th>\n",
       "      <th>min</th>\n",
       "      <th>max</th>\n",
       "      <th>mean</th>\n",
       "      <th>sum</th>\n",
       "    </tr>\n",
       "  </thead>\n",
       "  <tbody>\n",
       "    <tr>\n",
       "      <th>0</th>\n",
       "      <td>Drought</td>\n",
       "      <td>65644</td>\n",
       "      <td>0</td>\n",
       "      <td>10</td>\n",
       "      <td>0.001143</td>\n",
       "      <td>75</td>\n",
       "    </tr>\n",
       "    <tr>\n",
       "      <th>1</th>\n",
       "      <td>Flood</td>\n",
       "      <td>99038</td>\n",
       "      <td>0</td>\n",
       "      <td>5</td>\n",
       "      <td>0.000707</td>\n",
       "      <td>70</td>\n",
       "    </tr>\n",
       "    <tr>\n",
       "      <th>2</th>\n",
       "      <td>Heavy Rain</td>\n",
       "      <td>15217</td>\n",
       "      <td>0</td>\n",
       "      <td>5</td>\n",
       "      <td>0.003220</td>\n",
       "      <td>49</td>\n",
       "    </tr>\n",
       "    <tr>\n",
       "      <th>3</th>\n",
       "      <td>High Wind</td>\n",
       "      <td>319759</td>\n",
       "      <td>0</td>\n",
       "      <td>6</td>\n",
       "      <td>0.000472</td>\n",
       "      <td>151</td>\n",
       "    </tr>\n",
       "    <tr>\n",
       "      <th>4</th>\n",
       "      <td>Hurricane</td>\n",
       "      <td>1777</td>\n",
       "      <td>0</td>\n",
       "      <td>9</td>\n",
       "      <td>0.014069</td>\n",
       "      <td>25</td>\n",
       "    </tr>\n",
       "    <tr>\n",
       "      <th>5</th>\n",
       "      <td>Landslide</td>\n",
       "      <td>362</td>\n",
       "      <td>0</td>\n",
       "      <td>0</td>\n",
       "      <td>0.000000</td>\n",
       "      <td>0</td>\n",
       "    </tr>\n",
       "    <tr>\n",
       "      <th>6</th>\n",
       "      <td>Lightning</td>\n",
       "      <td>14229</td>\n",
       "      <td>0</td>\n",
       "      <td>3</td>\n",
       "      <td>0.002319</td>\n",
       "      <td>33</td>\n",
       "    </tr>\n",
       "    <tr>\n",
       "      <th>7</th>\n",
       "      <td>OTHER</td>\n",
       "      <td>9897</td>\n",
       "      <td>0</td>\n",
       "      <td>5</td>\n",
       "      <td>0.009094</td>\n",
       "      <td>90</td>\n",
       "    </tr>\n",
       "    <tr>\n",
       "      <th>8</th>\n",
       "      <td>Rip Current</td>\n",
       "      <td>8325</td>\n",
       "      <td>0</td>\n",
       "      <td>1</td>\n",
       "      <td>0.000721</td>\n",
       "      <td>6</td>\n",
       "    </tr>\n",
       "    <tr>\n",
       "      <th>9</th>\n",
       "      <td>Tornado</td>\n",
       "      <td>31568</td>\n",
       "      <td>0</td>\n",
       "      <td>8</td>\n",
       "      <td>0.000855</td>\n",
       "      <td>27</td>\n",
       "    </tr>\n",
       "    <tr>\n",
       "      <th>10</th>\n",
       "      <td>Tropical Storm</td>\n",
       "      <td>4252</td>\n",
       "      <td>0</td>\n",
       "      <td>3</td>\n",
       "      <td>0.003528</td>\n",
       "      <td>15</td>\n",
       "    </tr>\n",
       "    <tr>\n",
       "      <th>11</th>\n",
       "      <td>Tsunami</td>\n",
       "      <td>29</td>\n",
       "      <td>0</td>\n",
       "      <td>0</td>\n",
       "      <td>0.000000</td>\n",
       "      <td>0</td>\n",
       "    </tr>\n",
       "    <tr>\n",
       "      <th>12</th>\n",
       "      <td>Waterspout</td>\n",
       "      <td>3818</td>\n",
       "      <td>0</td>\n",
       "      <td>0</td>\n",
       "      <td>0.000000</td>\n",
       "      <td>0</td>\n",
       "    </tr>\n",
       "    <tr>\n",
       "      <th>13</th>\n",
       "      <td>Wildfire</td>\n",
       "      <td>5251</td>\n",
       "      <td>0</td>\n",
       "      <td>11</td>\n",
       "      <td>0.005332</td>\n",
       "      <td>28</td>\n",
       "    </tr>\n",
       "    <tr>\n",
       "      <th>14</th>\n",
       "      <td>Winter Storm</td>\n",
       "      <td>414873</td>\n",
       "      <td>0</td>\n",
       "      <td>7</td>\n",
       "      <td>0.001810</td>\n",
       "      <td>751</td>\n",
       "    </tr>\n",
       "  </tbody>\n",
       "</table>\n",
       "</div>"
      ],
      "text/plain": [
       "        EVENT_TYPE   count  min  max      mean  sum\n",
       "0          Drought   65644    0   10  0.001143   75\n",
       "1            Flood   99038    0    5  0.000707   70\n",
       "2       Heavy Rain   15217    0    5  0.003220   49\n",
       "3        High Wind  319759    0    6  0.000472  151\n",
       "4        Hurricane    1777    0    9  0.014069   25\n",
       "5        Landslide     362    0    0  0.000000    0\n",
       "6        Lightning   14229    0    3  0.002319   33\n",
       "7            OTHER    9897    0    5  0.009094   90\n",
       "8      Rip Current    8325    0    1  0.000721    6\n",
       "9          Tornado   31568    0    8  0.000855   27\n",
       "10  Tropical Storm    4252    0    3  0.003528   15\n",
       "11         Tsunami      29    0    0  0.000000    0\n",
       "12      Waterspout    3818    0    0  0.000000    0\n",
       "13        Wildfire    5251    0   11  0.005332   28\n",
       "14    Winter Storm  414873    0    7  0.001810  751"
      ]
     },
     "execution_count": 373,
     "metadata": {},
     "output_type": "execute_result"
    }
   ],
   "source": [
    "df1.groupby('EVENT_TYPE').DEATHS_INDIRECT.agg(['count','min', 'max', 'mean', 'sum']).reset_index()"
   ]
  },
  {
   "cell_type": "code",
   "execution_count": 374,
   "metadata": {
    "collapsed": false,
    "scrolled": true
   },
   "outputs": [],
   "source": [
    "torid1= df1[df1.EVENT_TYPE =='Tornado'].DEATHS_INDIRECT.sum()\n",
    "torid2= df1[df1.EVENT_TYPE =='Tornado'].DEATHS_DIRECT.sum()\n",
    "torid3= df1[df1.EVENT_TYPE =='Tornado'].INJURIES_DIRECT.sum()\n",
    "torid4= df1[df1.EVENT_TYPE =='Tornado'].INJURIES_INDIRECT.sum()"
   ]
  },
  {
   "cell_type": "code",
   "execution_count": 375,
   "metadata": {
    "collapsed": false
   },
   "outputs": [
    {
     "name": "stdout",
     "output_type": "stream",
     "text": [
      "22849\n"
     ]
    }
   ],
   "source": [
    "TORSUM = torid1 + torid2 + torid3 + torid4\n",
    "print TORSUM"
   ]
  },
  {
   "cell_type": "code",
   "execution_count": 376,
   "metadata": {
    "collapsed": false
   },
   "outputs": [],
   "source": [
    "# Want to add a column with a combination of injuries and deaths called casualties\n",
    "df1['CASUALTIES'] = pd.DataFrame(df1.INJURIES_DIRECT + df1.INJURIES_INDIRECT + df1.DEATHS_DIRECT + df1.DEATHS_INDIRECT)\n",
    "df1['TOTAL_DEATHS'] = pd.DataFrame(df1.DEATHS_DIRECT + df1.DEATHS_INDIRECT)\n",
    "df1['TOTAL_INJURIES'] = pd.DataFrame(df1.INJURIES_DIRECT + df1.INJURIES_INDIRECT)"
   ]
  },
  {
   "cell_type": "code",
   "execution_count": 377,
   "metadata": {
    "collapsed": false
   },
   "outputs": [
    {
     "data": {
      "text/html": [
       "<div>\n",
       "<table border=\"1\" class=\"dataframe\">\n",
       "  <thead>\n",
       "    <tr style=\"text-align: right;\">\n",
       "      <th></th>\n",
       "      <th>EVENT_TYPE</th>\n",
       "      <th>count</th>\n",
       "      <th>min</th>\n",
       "      <th>max</th>\n",
       "      <th>mean</th>\n",
       "      <th>sum</th>\n",
       "    </tr>\n",
       "  </thead>\n",
       "  <tbody>\n",
       "    <tr>\n",
       "      <th>0</th>\n",
       "      <td>Tornado</td>\n",
       "      <td>31568</td>\n",
       "      <td>0</td>\n",
       "      <td>1311</td>\n",
       "      <td>0.723803</td>\n",
       "      <td>22849</td>\n",
       "    </tr>\n",
       "    <tr>\n",
       "      <th>1</th>\n",
       "      <td>Drought</td>\n",
       "      <td>65644</td>\n",
       "      <td>0</td>\n",
       "      <td>521</td>\n",
       "      <td>0.257221</td>\n",
       "      <td>16885</td>\n",
       "    </tr>\n",
       "    <tr>\n",
       "      <th>2</th>\n",
       "      <td>Winter Storm</td>\n",
       "      <td>414873</td>\n",
       "      <td>0</td>\n",
       "      <td>300</td>\n",
       "      <td>0.027572</td>\n",
       "      <td>11439</td>\n",
       "    </tr>\n",
       "    <tr>\n",
       "      <th>3</th>\n",
       "      <td>Flood</td>\n",
       "      <td>99038</td>\n",
       "      <td>0</td>\n",
       "      <td>802</td>\n",
       "      <td>0.102587</td>\n",
       "      <td>10160</td>\n",
       "    </tr>\n",
       "    <tr>\n",
       "      <th>4</th>\n",
       "      <td>High Wind</td>\n",
       "      <td>319759</td>\n",
       "      <td>0</td>\n",
       "      <td>101</td>\n",
       "      <td>0.027055</td>\n",
       "      <td>8651</td>\n",
       "    </tr>\n",
       "    <tr>\n",
       "      <th>5</th>\n",
       "      <td>Lightning</td>\n",
       "      <td>14229</td>\n",
       "      <td>0</td>\n",
       "      <td>51</td>\n",
       "      <td>0.377961</td>\n",
       "      <td>5378</td>\n",
       "    </tr>\n",
       "    <tr>\n",
       "      <th>6</th>\n",
       "      <td>Hurricane</td>\n",
       "      <td>1777</td>\n",
       "      <td>0</td>\n",
       "      <td>2409</td>\n",
       "      <td>2.181204</td>\n",
       "      <td>3876</td>\n",
       "    </tr>\n",
       "    <tr>\n",
       "      <th>7</th>\n",
       "      <td>OTHER</td>\n",
       "      <td>9897</td>\n",
       "      <td>0</td>\n",
       "      <td>64</td>\n",
       "      <td>0.224108</td>\n",
       "      <td>2218</td>\n",
       "    </tr>\n",
       "    <tr>\n",
       "      <th>8</th>\n",
       "      <td>Wildfire</td>\n",
       "      <td>5251</td>\n",
       "      <td>0</td>\n",
       "      <td>104</td>\n",
       "      <td>0.403923</td>\n",
       "      <td>2121</td>\n",
       "    </tr>\n",
       "    <tr>\n",
       "      <th>9</th>\n",
       "      <td>Rip Current</td>\n",
       "      <td>8325</td>\n",
       "      <td>0</td>\n",
       "      <td>55</td>\n",
       "      <td>0.209730</td>\n",
       "      <td>1746</td>\n",
       "    </tr>\n",
       "    <tr>\n",
       "      <th>10</th>\n",
       "      <td>Heavy Rain</td>\n",
       "      <td>15217</td>\n",
       "      <td>0</td>\n",
       "      <td>52</td>\n",
       "      <td>0.037064</td>\n",
       "      <td>564</td>\n",
       "    </tr>\n",
       "  </tbody>\n",
       "</table>\n",
       "</div>"
      ],
      "text/plain": [
       "      EVENT_TYPE   count  min   max      mean    sum\n",
       "0        Tornado   31568    0  1311  0.723803  22849\n",
       "1        Drought   65644    0   521  0.257221  16885\n",
       "2   Winter Storm  414873    0   300  0.027572  11439\n",
       "3          Flood   99038    0   802  0.102587  10160\n",
       "4      High Wind  319759    0   101  0.027055   8651\n",
       "5      Lightning   14229    0    51  0.377961   5378\n",
       "6      Hurricane    1777    0  2409  2.181204   3876\n",
       "7          OTHER    9897    0    64  0.224108   2218\n",
       "8       Wildfire    5251    0   104  0.403923   2121\n",
       "9    Rip Current    8325    0    55  0.209730   1746\n",
       "10    Heavy Rain   15217    0    52  0.037064    564"
      ]
     },
     "execution_count": 377,
     "metadata": {},
     "output_type": "execute_result"
    }
   ],
   "source": [
    "df1.groupby('EVENT_TYPE').CASUALTIES.agg(['count','min', 'max', 'mean', 'sum']).sort_values('sum', axis=0, ascending=False).reset_index().head(11)"
   ]
  },
  {
   "cell_type": "code",
   "execution_count": 378,
   "metadata": {
    "collapsed": true
   },
   "outputs": [],
   "source": [
    "%matplotlib inline"
   ]
  },
  {
   "cell_type": "code",
   "execution_count": 379,
   "metadata": {
    "collapsed": false,
    "scrolled": true
   },
   "outputs": [],
   "source": [
    "a = pd.DataFrame(df1.groupby('EVENT_TYPE').CASUALTIES.sum()).sort_values('CASUALTIES', axis=0, ascending=False)\n",
    "a = a[a['CASUALTIES'] > 100 ]\n",
    "\n",
    "d = pd.DataFrame(df1.groupby('EVENT_TYPE').TOTAL_DEATHS.sum()).sort_values('TOTAL_DEATHS', axis=0, ascending=False)\n",
    "d = d[d['TOTAL_DEATHS'] > 100 ]\n",
    "\n",
    "i = pd.DataFrame(df1.groupby('EVENT_TYPE').TOTAL_INJURIES.sum()).sort_values('TOTAL_INJURIES', axis=0, ascending=False)\n",
    "i = i[i['TOTAL_INJURIES'] > 100 ]\n"
   ]
  },
  {
   "cell_type": "code",
   "execution_count": 384,
   "metadata": {
    "collapsed": false
   },
   "outputs": [
    {
     "data": {
      "text/plain": [
       "<matplotlib.axes._subplots.AxesSubplot at 0x1eebd0cd0>"
      ]
     },
     "execution_count": 384,
     "metadata": {},
     "output_type": "execute_result"
    },
    {
     "data": {
      "image/png": "[encoded data removed]",
      "text/plain": [
       "<matplotlib.figure.Figure at 0x1ed386c50>"
      ]
     },
     "metadata": {},
     "output_type": "display_data"
    },
    {
     "data": {
      "image/png": "[encoded data removed]",
      "text/plain": [
       "<matplotlib.figure.Figure at 0x1eddc4f90>"
      ]
     },
     "metadata": {},
     "output_type": "display_data"
    },
    {
     "data": {
      "image/png": "[encoded data removed]",
      "text/plain": [
       "<matplotlib.figure.Figure at 0x1ecdc3590>"
      ]
     },
     "metadata": {},
     "output_type": "display_data"
    }
   ],
   "source": [
    "a.plot(kind='bar', color = 'Red',figsize=(20,7))\n",
    "i.plot(kind='bar',figsize=(20,7))\n",
    "d.plot(kind='bar',color = 'green',figsize=(20,7))"
   ]
  },
  {
   "cell_type": "markdown",
   "metadata": {},
   "source": [
    "### Data Cleaning....."
   ]
  },
  {
   "cell_type": "code",
   "execution_count": 385,
   "metadata": {
    "collapsed": false
   },
   "outputs": [],
   "source": [
    "# I may need to combine a few dataSeries to get a date\n",
    "df1['DATE'] = pd.to_datetime(df1.BEGIN_YEARMONTH*100+df1.BEGIN_DAY,format='%Y%m%d',errors='ignore')"
   ]
  },
  {
   "cell_type": "code",
   "execution_count": 386,
   "metadata": {
    "collapsed": true
   },
   "outputs": [],
   "source": [
    "def value_to_float(x):\n",
    "    if type(x) == float or type(x) == int:\n",
    "        return x\n",
    "    if 'K' in x:\n",
    "        if len(x) > 1:\n",
    "            return float(x.replace('K', '')) * 1000\n",
    "        return 1000.0\n",
    "    if 'M' in x:\n",
    "        if len(x) > 1:\n",
    "            return float(x.replace('M', '')) * 1000000\n",
    "        return 1000000.0\n",
    "    if 'B' in x:\n",
    "        return float(x.replace('B', '')) * 1000000000\n",
    "    return 0.0"
   ]
  },
  {
   "cell_type": "code",
   "execution_count": 387,
   "metadata": {
    "collapsed": false
   },
   "outputs": [],
   "source": [
    "df1.DAMAGE_CROPS.fillna(value=0.0, inplace=True)\n",
    "df1.DAMAGE_CROPS = df1.DAMAGE_CROPS.apply(value_to_float)"
   ]
  },
  {
   "cell_type": "code",
   "execution_count": 388,
   "metadata": {
    "collapsed": false
   },
   "outputs": [
    {
     "data": {
      "text/plain": [
       "count    9.940390e+05\n",
       "mean     5.237319e+04\n",
       "std      2.865790e+06\n",
       "min      0.000000e+00\n",
       "25%      0.000000e+00\n",
       "50%      0.000000e+00\n",
       "75%      0.000000e+00\n",
       "max      1.050000e+09\n",
       "Name: DAMAGE_CROPS, dtype: float64"
      ]
     },
     "execution_count": 388,
     "metadata": {},
     "output_type": "execute_result"
    }
   ],
   "source": [
    "df1.DAMAGE_CROPS.describe()"
   ]
  },
  {
   "cell_type": "code",
   "execution_count": 389,
   "metadata": {
    "collapsed": false
   },
   "outputs": [],
   "source": [
    "df1.DAMAGE_PROPERTY.fillna(value=0.0, inplace=True)\n",
    "df1.DAMAGE_PROPERTY = df1.DAMAGE_PROPERTY.apply(value_to_float)"
   ]
  },
  {
   "cell_type": "code",
   "execution_count": 390,
   "metadata": {
    "collapsed": false
   },
   "outputs": [
    {
     "data": {
      "text/plain": [
       "array([  0.00000000e+00,   5.40000000e+04,   2.00000000e+04,\n",
       "         1.10000000e+04,   1.00000000e+03,   1.50000000e+05,\n",
       "         5.00000000e+03,   1.50000000e+04,   5.00000000e+05,\n",
       "         5.00000000e+04,   1.40000000e+07,   1.00000000e+04,\n",
       "         2.00000000e+06,   3.10000000e+06,   2.00000000e+07,\n",
       "         1.20000000e+06,   4.75000000e+07,   2.50000000e+06,\n",
       "         2.49000000e+07,   3.00000000e+03,   1.00000000e+06,\n",
       "         2.50000000e+04,   2.00000000e+03,   4.00000000e+06,\n",
       "         6.00000000e+03,   4.00000000e+04,   3.00000000e+04,\n",
       "         1.20000000e+04,   5.00000000e+02,   1.50000000e+03,\n",
       "         2.00000000e+02,   1.00000000e+02,   1.50000000e+02,\n",
       "         2.50000000e+03,   4.00000000e+03,   8.00000000e+03,\n",
       "         6.80000000e+06,   3.70000000e+06,   1.00000000e+05,\n",
       "         7.50000000e+05,   3.75000000e+04,   6.00000000e+05,\n",
       "         7.70000000e+06,   2.50000000e+07,   3.00000000e+05,\n",
       "         3.50000000e+05,   2.00000000e+05,   7.50000000e+04,\n",
       "         6.00000000e+02,   3.00000000e+06,   4.00000000e+07,\n",
       "         1.40000000e+05,   9.00000000e+04,   5.10000000e+06,\n",
       "         1.53000000e+07,   2.50000000e+05,   5.50000000e+04,\n",
       "         1.58000000e+06,   2.10000000e+06,   5.99000000e+06,\n",
       "         6.00000000e+04,   1.57000000e+07,   1.10000000e+07,\n",
       "         1.70000000e+07,   2.40000000e+07,   1.75000000e+07,\n",
       "         6.00000000e+06,   3.60000000e+06,   5.70000000e+06,\n",
       "         1.50000000e+06,   8.00000000e+06,   5.00000000e+06,\n",
       "         1.00000000e+07,   4.00000000e+05,   2.60000000e+07,\n",
       "         8.00000000e+05,   1.20000000e+07,   2.70000000e+07,\n",
       "         1.25000000e+06,   6.70000000e+06,   1.60000000e+07,\n",
       "         7.50000000e+06,   9.00000000e+06,   4.10000000e+06,\n",
       "         1.30000000e+05,   1.89000000e+07,   3.00000000e+07,\n",
       "         1.25000000e+07,   1.50000000e+07,   1.80000000e+06,\n",
       "         6.50000000e+06,   9.00000000e+05,   3.25000000e+03,\n",
       "         3.80000000e+05,   5.20000000e+06,   3.50000000e+04,\n",
       "         2.30000000e+05,   1.05000000e+07,   2.20000000e+07,\n",
       "         6.50000000e+05,   1.10000000e+05,   5.25000000e+06,\n",
       "         2.40000000e+05,   7.20000000e+05,   2.70000000e+06,\n",
       "         2.36000000e+07,   1.34000000e+07,   5.15000000e+07,\n",
       "         2.25000000e+07,   2.40000000e+06,   6.60000000e+06,\n",
       "         4.40000000e+05,   6.80000000e+05,   1.23000000e+07,\n",
       "         3.20000000e+06,   3.50000000e+06,   5.60000000e+03,\n",
       "         4.20000000e+07,   7.00000000e+04,   1.60000000e+05,\n",
       "         1.70000000e+05,   7.00000000e+05,   1.98000000e+07,\n",
       "         1.80000000e+07,   3.30000000e+07,   1.60000000e+06,\n",
       "         4.60000000e+07,   1.40000000e+06,   1.20000000e+05,\n",
       "         4.20000000e+06,   2.40000000e+02,   5.50000000e+05,\n",
       "         6.70000000e+05,   8.30000000e+05,   2.90000000e+06,\n",
       "         7.00000000e+03,   9.00000000e+03,   1.29000000e+07,\n",
       "         2.00000000e+08,   1.12000000e+06,   1.30000000e+07,\n",
       "         1.25000000e+05,   1.12000000e+05,   1.36000000e+06,\n",
       "         3.44800000e+04,   2.30000000e+04,   2.40000000e+04,\n",
       "         1.60000000e+04,   1.90000000e+04,   1.70000000e+04,\n",
       "         1.80000000e+04,   1.70000000e+06,   8.00000000e+04,\n",
       "         1.21000000e+06,   3.40000000e+06,   1.62000000e+06,\n",
       "         3.06000000e+04,   9.50000000e+06,   1.42000000e+07,\n",
       "         4.69000000e+06,   2.97000000e+06,   2.15000000e+06,\n",
       "         2.53000000e+06,   4.16000000e+06,   5.60000000e+06,\n",
       "         1.10000000e+03,   1.25000000e+04,   1.40000000e+04,\n",
       "         8.50000000e+05,   2.60000000e+04,   4.80000000e+03,\n",
       "         4.50000000e+05,   1.82000000e+06,   1.14800000e+07,\n",
       "         2.95000000e+06,   1.67000000e+06,   3.15000000e+06,\n",
       "         5.60000000e+05,   2.12000000e+06,   1.13000000e+06,\n",
       "         2.21000000e+06,   3.54000000e+06,   3.89000000e+06,\n",
       "         1.88000000e+06,   6.11000000e+06,   4.65000000e+07,\n",
       "         4.75000000e+06,   1.22000000e+06,   2.28000000e+06,\n",
       "         7.48000000e+06,   1.98000000e+06,   4.50000000e+06,\n",
       "         2.25000000e+06,   6.13000000e+05,   7.00000000e+06,\n",
       "         2.60000000e+06,   3.60000000e+04,   5.40000000e+06,\n",
       "         7.80000000e+06,   1.59000000e+05,   2.42000000e+05,\n",
       "         3.75000000e+06,   4.50000000e+03,   2.80000000e+05,\n",
       "         1.41000000e+07,   6.90000000e+06,   4.97000000e+06,\n",
       "         5.40000000e+05,   2.20000000e+06,   7.13000000e+05,\n",
       "         4.50000000e+04,   1.02000000e+07,   7.10000000e+06,\n",
       "         5.90000000e+06,   7.36000000e+07,   5.30000000e+06,\n",
       "         7.20000000e+06,   1.45000000e+05,   3.00000000e+02,\n",
       "         1.17000000e+04,   1.49700000e+05,   2.10000000e+04,\n",
       "         6.50000000e+04,   5.50000000e+06,   3.80000000e+06,\n",
       "         1.75000000e+06,   7.00000000e+02,   2.70000000e+04,\n",
       "         8.50000000e+04,   8.00000000e+02,   2.80000000e+04,\n",
       "         1.86000000e+05,   1.50000000e+08,   1.00000000e+08,\n",
       "         9.70000000e+04,   1.71000000e+07,   4.00000000e+02,\n",
       "         2.20000000e+04,   1.30000000e+03,   1.70000000e+03,\n",
       "         2.25000000e+05,   4.15000000e+04,   1.90000000e+05,\n",
       "         9.00000000e+02,   2.80000000e+03,   1.30000000e+04,\n",
       "         2.90000000e+03,   3.30000000e+04,   1.60000000e+03,\n",
       "         6.60000000e+04,   4.30000000e+04,   8.80000000e+04,\n",
       "         4.70000000e+05,   5.00000000e+08,   6.80000000e+04,\n",
       "         1.05000000e+05,   3.50000000e+03,   7.30000000e+06,\n",
       "         1.02100000e+07,   9.70000000e+05,   1.18000000e+07,\n",
       "         1.95900000e+07,   3.86000000e+06,   1.49000000e+06,\n",
       "         2.49000000e+06,   2.89000000e+07,   2.96000000e+07,\n",
       "         1.56000000e+07,   3.11000000e+06,   1.43000000e+07,\n",
       "         3.56000000e+06,   2.77000000e+06,   1.08000000e+06,\n",
       "         1.07000000e+07,   1.80000000e+05,   2.80000000e+06,\n",
       "         7.40000000e+05,   9.30000000e+06,   3.85000000e+06,\n",
       "         5.75000000e+05,   8.00000000e+07,   2.50000000e+02,\n",
       "         1.77000000e+06,   1.17000000e+08,   6.40000000e+07,\n",
       "         6.10000000e+06,   5.00000000e+07,   9.78000000e+05,\n",
       "         4.30000000e+07,   1.35000000e+08,   5.10000000e+03,\n",
       "         2.50000000e+08,   4.50000000e+08,   1.05500000e+08,\n",
       "         4.90500000e+08,   7.43000000e+07,   3.70000000e+04,\n",
       "         2.27000000e+04,   3.39000000e+06,   1.56500000e+07,\n",
       "         2.17600000e+07,   1.09250000e+08,   8.80000000e+06,\n",
       "         2.45000000e+06,   4.66000000e+06,   6.10000000e+04,\n",
       "         1.10000000e+06,   6.70000000e+03,   4.58000000e+06,\n",
       "         8.55000000e+05,   2.26000000e+07,   8.40000000e+06,\n",
       "         8.30000000e+06,   7.50000000e+03,   2.01000000e+07,\n",
       "         3.90000000e+06,   8.20000000e+06,   1.60000000e+08,\n",
       "         9.80000000e+06,   2.07000000e+07,   6.81000000e+07,\n",
       "         9.60000000e+07,   1.74000000e+07,   1.47000000e+05,\n",
       "         4.60000000e+06,   1.66000000e+07,   4.30000000e+06,\n",
       "         1.15000000e+07,   7.40000000e+06,   6.20000000e+06,\n",
       "         8.32000000e+05,   7.60000000e+06,   2.03000000e+07,\n",
       "         4.20000000e+05,   2.94117647e+05,   6.40000000e+05,\n",
       "         2.30000000e+08,   7.50000000e+07,   6.50000000e+07,\n",
       "         4.91000000e+06,   8.50000000e+07,   1.35000000e+04,\n",
       "         5.37440000e+05,   3.28000000e+06,   1.93250000e+05,\n",
       "         4.71000000e+06,   2.74000000e+06,   9.21890000e+05,\n",
       "         9.63000000e+06,   1.09000000e+06,   8.04400000e+04,\n",
       "         3.33390000e+05,   7.05000000e+06,   1.91000000e+06,\n",
       "         3.19000000e+06,   5.23000000e+06,   9.84000000e+05,\n",
       "         6.32510000e+05,   2.30000000e+06,   3.09000000e+06,\n",
       "         6.79000000e+06,   3.55000000e+06,   3.43000000e+06,\n",
       "         9.51000000e+06,   2.16000000e+06,   6.05000000e+06,\n",
       "         3.25000000e+06,   6.01000000e+06,   3.95000000e+06,\n",
       "         2.56000000e+06,   1.96000000e+06,   6.21220000e+05,\n",
       "         9.34310000e+05,   7.26130000e+05,   2.01800000e+07,\n",
       "         2.84000000e+06,   1.34000000e+06,   7.55400000e+05,\n",
       "         7.74250000e+05,   6.30000000e+06,   9.17000000e+06,\n",
       "         7.04900000e+05,   1.29000000e+06,   2.85000000e+06,\n",
       "         4.36000000e+06,   9.81000000e+06,   3.14000000e+06,\n",
       "         5.15090000e+05,   2.06000000e+06,   1.95000000e+06,\n",
       "         4.22720000e+05,   7.86900000e+05,   5.08000000e+06,\n",
       "         1.26000000e+06,   1.04000000e+07,   8.60000000e+05,\n",
       "         4.86000000e+06,   1.87940000e+05,   7.47000000e+06,\n",
       "         3.22000000e+06,   4.64000000e+06,   1.52000000e+06,\n",
       "         2.22000000e+06,   2.92000000e+06,   4.12000000e+06,\n",
       "         8.55190000e+05,   9.85940000e+05,   9.60000000e+06,\n",
       "         3.65000000e+06,   4.66030000e+05,   1.64800000e+07,\n",
       "         3.28980000e+05,   1.56000000e+06,   1.30000000e+06,\n",
       "         3.10000000e+07,   2.10000000e+05,   1.75000000e+05,\n",
       "         1.51000000e+05,   5.20000000e+04,   1.85000000e+05,\n",
       "         6.05000000e+05,   8.33000000e+06,   1.90000000e+06,\n",
       "         8.50000000e+03,   2.90000000e+04,   3.20000000e+04,\n",
       "         5.03000000e+06,   1.02300000e+08,   1.85000000e+06,\n",
       "         5.15000000e+08,   1.06000000e+07,   4.61000000e+05,\n",
       "         3.58000000e+07,   1.35000000e+07,   2.68000000e+07,\n",
       "         8.70000000e+06,   1.24000000e+07,   1.27000000e+05,\n",
       "         2.17000000e+07,   1.49000000e+05,   1.37000000e+06,\n",
       "         3.92000000e+06,   9.84000000e+06,   9.88000000e+06,\n",
       "         1.90000000e+07,   3.40000000e+07,   3.08000000e+07,\n",
       "         2.20000000e+05,   1.04500000e+07,   7.00000000e+07,\n",
       "         1.13500000e+07,   4.20000000e+08,   1.00000000e+01,\n",
       "         7.50000000e+02,   2.42700000e+07,   2.56000000e+05,\n",
       "         3.60000000e+07,   3.50000000e+07,   5.30000000e+07,\n",
       "         6.63000000e+03,   4.40000000e+06,   1.95000000e+07,\n",
       "         2.80000000e+07,   1.32000000e+07,   8.90000000e+06,\n",
       "         1.08000000e+07,   7.81000000e+06,   1.56500000e+05,\n",
       "         3.35000000e+05,   2.61000000e+05,   1.93000000e+06,\n",
       "         4.81000000e+06,   1.25000000e+03,   5.50000000e+03,\n",
       "         1.48800000e+07,   9.20000000e+06,   4.60000000e+04,\n",
       "         2.66000000e+05,   3.10000000e+04,   3.59000000e+05,\n",
       "         2.83000000e+05,   8.25000000e+05,   5.30000000e+04,\n",
       "         7.52000000e+05,   2.40000000e+08,   9.90000000e+05,\n",
       "         8.90000000e+05,   2.98039216e+05,   6.30000000e+07,\n",
       "         2.16000000e+04,   1.80000000e+03,   1.27000000e+06,\n",
       "         1.25000000e+08,   2.13000000e+07,   4.72000000e+07,\n",
       "         2.15000000e+07,   4.42000000e+07,   1.01500000e+08,\n",
       "         3.13000000e+04,   9.20000000e+05,   2.75000000e+05,\n",
       "         1.90000000e+08,   6.00000000e+07,   2.64000000e+05,\n",
       "         2.02000000e+06,   1.89500000e+05,   4.95000000e+05,\n",
       "         1.79000000e+06,   3.96000000e+05,   1.98000000e+05,\n",
       "         3.30000000e+05,   4.12500000e+05,   2.47500000e+04,\n",
       "         5.56000000e+06,   2.43000000e+06,   1.39000000e+06,\n",
       "         7.59000000e+05,   8.25000000e+06,   1.65000000e+05,\n",
       "         2.47500000e+05,   8.25000000e+04,   8.60000000e+06,\n",
       "         6.71000000e+05,   2.19400000e+07,   1.47000000e+06,\n",
       "         1.13900000e+05,   4.15000000e+05,   6.32000000e+06,\n",
       "         8.50000000e+06,   1.44100000e+07,   5.39000000e+06,\n",
       "         6.72000000e+06,   1.92700000e+07,   1.29500000e+07,\n",
       "         1.78100000e+07,   1.74000000e+06,   3.06800000e+07,\n",
       "         1.03400000e+07,   1.18700000e+07,   8.54000000e+06,\n",
       "         1.49000000e+07,   6.48000000e+06,   6.03000000e+06,\n",
       "         3.68000000e+06,   1.11500000e+07,   1.11000000e+07,\n",
       "         4.56000000e+06,   2.80400000e+07,   1.22400000e+07,\n",
       "         3.67000000e+06,   3.99000000e+06,   7.33000000e+06,\n",
       "         7.08000000e+06,   1.86000000e+07,   2.09700000e+07,\n",
       "         2.72000000e+06,   4.82000000e+06,   8.59000000e+06,\n",
       "         8.30000000e+04,   8.94000000e+06,   2.41000000e+06,\n",
       "         8.92100000e+05,   7.26000000e+06,   1.38000000e+06,\n",
       "         1.97000000e+06,   2.55000000e+06,   9.06000000e+06,\n",
       "         3.83000000e+06,   2.09000000e+06,   1.83000000e+06,\n",
       "         6.35000000e+05,   3.16000000e+06,   2.69000000e+06,\n",
       "         6.97000000e+06,   2.62000000e+06,   2.59000000e+06,\n",
       "         1.84000000e+06,   7.42000000e+06,   1.93900000e+05,\n",
       "         4.23000000e+08,   9.00000000e+07,   3.80000000e+07,\n",
       "         4.50000000e+07,   2.10000000e+07,   2.30000000e+07,\n",
       "         1.20000000e+08,   3.25000000e+07,   1.00000000e+09,\n",
       "         3.00000000e+08,   4.02000000e+06,   1.12500000e+05,\n",
       "         1.82000000e+07,   2.72000000e+07,   9.10000000e+06,\n",
       "         5.80000000e+06,   1.51000000e+08,   2.40000000e+03,\n",
       "         2.63200000e+07,   5.92000000e+06,   2.47000000e+06,\n",
       "         7.65000000e+04,   1.59000000e+08,   1.06600000e+08,\n",
       "         2.24800000e+08,   1.51000000e+07,   3.55000000e+05,\n",
       "         4.70000000e+04,   9.40000000e+06,   9.85000000e+05,\n",
       "         5.68600000e+08,   1.07900000e+08,   7.31000000e+07,\n",
       "         9.30000000e+07,   4.01500000e+07,   6.88500000e+07,\n",
       "         2.83200000e+07,   4.45000000e+06,   4.65000000e+05,\n",
       "         6.20000000e+05,   1.55000000e+08,   3.02000000e+06,\n",
       "         7.66000000e+06,   1.46000000e+06,   6.28000000e+06,\n",
       "         2.66000000e+06,   6.54000000e+06,   6.72000000e+04,\n",
       "         1.05700000e+07,   1.17600000e+07,   3.97000000e+06,\n",
       "         2.48000000e+06,   8.83000000e+06,   9.56000000e+06,\n",
       "         4.03200000e+04,   3.32000000e+06,   3.38000000e+06,\n",
       "         1.81000000e+06,   3.16430000e+05,   1.15700000e+07,\n",
       "         2.27000000e+07,   5.28000000e+06,   9.72000000e+06,\n",
       "         2.11000000e+06,   3.78000000e+06,   5.72000000e+06,\n",
       "         8.78000000e+06,   1.76000000e+06,   2.43000000e+05,\n",
       "         8.68000000e+05,   2.13000000e+05,   4.45000000e+05,\n",
       "         1.53000000e+05,   3.84000000e+06,   2.69000000e+05,\n",
       "         1.16000000e+05,   1.48000000e+06,   5.23000000e+05,\n",
       "         7.00000000e+08,   3.87000000e+05,   6.70000000e+04,\n",
       "         1.15000000e+06,   5.30000000e+03,   4.60000000e+05,\n",
       "         3.90000000e+05,   3.45000000e+06,   2.05000000e+06,\n",
       "         3.03000000e+06,   3.44000000e+08,   1.46000000e+07,\n",
       "         1.05000000e+08,   1.67000000e+07,   1.20000000e+03,\n",
       "         1.26500000e+05,   3.08000000e+04,   5.90000000e+05,\n",
       "         1.55000000e+05,   1.33000000e+07,   1.12000000e+07,\n",
       "         2.38000000e+04,   6.30000000e+03,   7.32000000e+05,\n",
       "         9.50000000e+05,   1.55000000e+04,   6.30000000e+05,\n",
       "         4.25000000e+06,   6.46000000e+07,   5.00000000e+01,\n",
       "         1.33000000e+05,   5.12000000e+05,   1.91000000e+04,\n",
       "         3.75000000e+05,   1.69000000e+05,   5.88000000e+05,\n",
       "         6.25000000e+05,   3.75000000e+07,   9.90000000e+04,\n",
       "         6.10000000e+05,   1.16000000e+07,   8.10000000e+06,\n",
       "         6.75000000e+06,   4.80000000e+05,   1.27400000e+07,\n",
       "         6.75000000e+05,   6.42000000e+06,   5.50000000e+07,\n",
       "         4.25000000e+05,   1.68000000e+06,   8.40000000e+05,\n",
       "         3.07000000e+06,   8.70000000e+05,   7.60000000e+05,\n",
       "         7.51000000e+06,   6.31000000e+06,   1.36700000e+07,\n",
       "         2.44000000e+06,   7.30000000e+05,   2.86000000e+08,\n",
       "         7.10000000e+05,   6.96000000e+06,   9.87000000e+06,\n",
       "         1.92000000e+06,   2.90000000e+05,   3.40000000e+05,\n",
       "         1.32000000e+06,   9.30000000e+05,   2.60000000e+05,\n",
       "         4.20000000e+04,   3.52000000e+06,   9.90000000e+06,\n",
       "         2.81000000e+05,   3.30000000e+06,   4.67000000e+06,\n",
       "         4.32000000e+06,   1.19000000e+06,   3.29000000e+06,\n",
       "         6.13000000e+06,   8.49000000e+06,   1.59000000e+06,\n",
       "         5.84000000e+06,   2.19000000e+06,   1.11000000e+06,\n",
       "         3.26000000e+06,   4.03000000e+06,   2.07000000e+06,\n",
       "         9.60000000e+05,   1.30000000e+02,   7.10000000e+03,\n",
       "         1.64500000e+05,   1.98800000e+05,   4.50000000e+02,\n",
       "         1.55000000e+06,   1.04000000e+06,   1.95000000e+08,\n",
       "         1.07000000e+05,   1.05000000e+09,   1.05000000e+04,\n",
       "         4.31000000e+05,   3.60000000e+03,   1.28000000e+06,\n",
       "         9.07000000e+04,   4.65000000e+06,   7.25000000e+06,\n",
       "         8.12000000e+05,   1.22000000e+05,   4.63000000e+05,\n",
       "         4.89000000e+05,   1.45000000e+06,   6.41000000e+05,\n",
       "         3.21000000e+05,   5.03000000e+05,   4.14000000e+07,\n",
       "         1.73000000e+05,   3.15000000e+05,   7.20000000e+04,\n",
       "         3.41700000e+05,   7.88000000e+05,   2.58000000e+06,\n",
       "         1.43000000e+06,   8.68000000e+06,   7.14000000e+05,\n",
       "         6.47000000e+05,   5.31000000e+05,   7.35000000e+05,\n",
       "         1.70300000e+07,   7.26000000e+05,   7.86000000e+05,\n",
       "         2.03000000e+06,   1.01300000e+07,   7.58000000e+06,\n",
       "         1.47900000e+07,   1.90200000e+07,   8.63000000e+06,\n",
       "         1.08800000e+07,   2.42000000e+06,   6.90000000e+05,\n",
       "         6.23000000e+05,   1.71000000e+06,   2.96500000e+07,\n",
       "         1.41100000e+07,   1.71600000e+07,   1.82400000e+07,\n",
       "         6.55000000e+07,   3.44000000e+07,   5.38000000e+07,\n",
       "         7.26000000e+07,   2.86000000e+07,   2.37000000e+07,\n",
       "         4.63000000e+07,   2.55000000e+07,   3.39000000e+07,\n",
       "         5.21000000e+07,   1.91000000e+07,   2.92000000e+07,\n",
       "         3.28000000e+07,   4.28000000e+07,   6.54000000e+07,\n",
       "         6.59000000e+07,   2.47000000e+07,   3.20000000e+07,\n",
       "         4.32000000e+07,   3.04000000e+07,   3.48000000e+07,\n",
       "         3.22000000e+07,   3.59000000e+07,   1.59000000e+07,\n",
       "         3.43000000e+07,   2.98000000e+07,   2.14000000e+07,\n",
       "         3.42000000e+07,   3.82500000e+07])"
      ]
     },
     "execution_count": 390,
     "metadata": {},
     "output_type": "execute_result"
    }
   ],
   "source": [
    "df1.DAMAGE_CROPS.unique()"
   ]
  },
  {
   "cell_type": "code",
   "execution_count": 391,
   "metadata": {
    "collapsed": false
   },
   "outputs": [
    {
     "data": {
      "text/html": [
       "<div>\n",
       "<table border=\"1\" class=\"dataframe\">\n",
       "  <thead>\n",
       "    <tr style=\"text-align: right;\">\n",
       "      <th></th>\n",
       "      <th>EVENT_TYPE</th>\n",
       "      <th>count</th>\n",
       "      <th>min</th>\n",
       "      <th>max</th>\n",
       "      <th>mean</th>\n",
       "      <th>sum</th>\n",
       "    </tr>\n",
       "  </thead>\n",
       "  <tbody>\n",
       "    <tr>\n",
       "      <th>0</th>\n",
       "      <td>Drought</td>\n",
       "      <td>65644</td>\n",
       "      <td>0.0</td>\n",
       "      <td>1.050000e+09</td>\n",
       "      <td>4.077300e+05</td>\n",
       "      <td>2.676503e+10</td>\n",
       "    </tr>\n",
       "    <tr>\n",
       "      <th>1</th>\n",
       "      <td>Winter Storm</td>\n",
       "      <td>414873</td>\n",
       "      <td>0.0</td>\n",
       "      <td>5.686000e+08</td>\n",
       "      <td>2.083063e+04</td>\n",
       "      <td>8.642067e+09</td>\n",
       "    </tr>\n",
       "    <tr>\n",
       "      <th>2</th>\n",
       "      <td>Flood</td>\n",
       "      <td>99038</td>\n",
       "      <td>0.0</td>\n",
       "      <td>5.000000e+08</td>\n",
       "      <td>7.093084e+04</td>\n",
       "      <td>7.024848e+09</td>\n",
       "    </tr>\n",
       "    <tr>\n",
       "      <th>3</th>\n",
       "      <td>Hurricane</td>\n",
       "      <td>1777</td>\n",
       "      <td>0.0</td>\n",
       "      <td>5.000000e+08</td>\n",
       "      <td>3.002991e+06</td>\n",
       "      <td>5.336315e+09</td>\n",
       "    </tr>\n",
       "    <tr>\n",
       "      <th>4</th>\n",
       "      <td>High Wind</td>\n",
       "      <td>319759</td>\n",
       "      <td>0.0</td>\n",
       "      <td>7.500000e+07</td>\n",
       "      <td>5.890815e+03</td>\n",
       "      <td>1.883641e+09</td>\n",
       "    </tr>\n",
       "    <tr>\n",
       "      <th>5</th>\n",
       "      <td>Tropical Storm</td>\n",
       "      <td>4252</td>\n",
       "      <td>0.0</td>\n",
       "      <td>2.000000e+08</td>\n",
       "      <td>2.299556e+05</td>\n",
       "      <td>9.777710e+08</td>\n",
       "    </tr>\n",
       "    <tr>\n",
       "      <th>6</th>\n",
       "      <td>Heavy Rain</td>\n",
       "      <td>15217</td>\n",
       "      <td>0.0</td>\n",
       "      <td>2.000000e+08</td>\n",
       "      <td>4.847570e+04</td>\n",
       "      <td>7.376547e+08</td>\n",
       "    </tr>\n",
       "    <tr>\n",
       "      <th>7</th>\n",
       "      <td>Wildfire</td>\n",
       "      <td>5251</td>\n",
       "      <td>0.0</td>\n",
       "      <td>9.000000e+07</td>\n",
       "      <td>6.989333e+04</td>\n",
       "      <td>3.670099e+08</td>\n",
       "    </tr>\n",
       "    <tr>\n",
       "      <th>8</th>\n",
       "      <td>Tornado</td>\n",
       "      <td>31568</td>\n",
       "      <td>0.0</td>\n",
       "      <td>7.000000e+07</td>\n",
       "      <td>9.194780e+03</td>\n",
       "      <td>2.902608e+08</td>\n",
       "    </tr>\n",
       "    <tr>\n",
       "      <th>9</th>\n",
       "      <td>OTHER</td>\n",
       "      <td>9897</td>\n",
       "      <td>0.0</td>\n",
       "      <td>2.000000e+07</td>\n",
       "      <td>2.839244e+03</td>\n",
       "      <td>2.810000e+07</td>\n",
       "    </tr>\n",
       "    <tr>\n",
       "      <th>10</th>\n",
       "      <td>Lightning</td>\n",
       "      <td>14229</td>\n",
       "      <td>0.0</td>\n",
       "      <td>3.000000e+06</td>\n",
       "      <td>5.202642e+02</td>\n",
       "      <td>7.402840e+06</td>\n",
       "    </tr>\n",
       "  </tbody>\n",
       "</table>\n",
       "</div>"
      ],
      "text/plain": [
       "        EVENT_TYPE   count  min           max          mean           sum\n",
       "0          Drought   65644  0.0  1.050000e+09  4.077300e+05  2.676503e+10\n",
       "1     Winter Storm  414873  0.0  5.686000e+08  2.083063e+04  8.642067e+09\n",
       "2            Flood   99038  0.0  5.000000e+08  7.093084e+04  7.024848e+09\n",
       "3        Hurricane    1777  0.0  5.000000e+08  3.002991e+06  5.336315e+09\n",
       "4        High Wind  319759  0.0  7.500000e+07  5.890815e+03  1.883641e+09\n",
       "5   Tropical Storm    4252  0.0  2.000000e+08  2.299556e+05  9.777710e+08\n",
       "6       Heavy Rain   15217  0.0  2.000000e+08  4.847570e+04  7.376547e+08\n",
       "7         Wildfire    5251  0.0  9.000000e+07  6.989333e+04  3.670099e+08\n",
       "8          Tornado   31568  0.0  7.000000e+07  9.194780e+03  2.902608e+08\n",
       "9            OTHER    9897  0.0  2.000000e+07  2.839244e+03  2.810000e+07\n",
       "10       Lightning   14229  0.0  3.000000e+06  5.202642e+02  7.402840e+06"
      ]
     },
     "execution_count": 391,
     "metadata": {},
     "output_type": "execute_result"
    }
   ],
   "source": [
    "df1.groupby('EVENT_TYPE').DAMAGE_CROPS.agg(['count','min', 'max', 'mean', 'sum']).sort_values('sum', axis=0, ascending=False).reset_index().head(11)"
   ]
  },
  {
   "cell_type": "code",
   "execution_count": 392,
   "metadata": {
    "collapsed": false,
    "scrolled": true
   },
   "outputs": [
    {
     "data": {
      "text/html": [
       "<div>\n",
       "<table border=\"1\" class=\"dataframe\">\n",
       "  <thead>\n",
       "    <tr style=\"text-align: right;\">\n",
       "      <th></th>\n",
       "      <th>EVENT_TYPE</th>\n",
       "      <th>count</th>\n",
       "      <th>min</th>\n",
       "      <th>max</th>\n",
       "      <th>mean</th>\n",
       "      <th>sum</th>\n",
       "    </tr>\n",
       "  </thead>\n",
       "  <tbody>\n",
       "    <tr>\n",
       "      <th>0</th>\n",
       "      <td>Flood</td>\n",
       "      <td>99038</td>\n",
       "      <td>0.0</td>\n",
       "      <td>1.150000e+11</td>\n",
       "      <td>1.835101e+06</td>\n",
       "      <td>1.817447e+11</td>\n",
       "    </tr>\n",
       "    <tr>\n",
       "      <th>1</th>\n",
       "      <td>Hurricane</td>\n",
       "      <td>1777</td>\n",
       "      <td>0.0</td>\n",
       "      <td>1.000000e+10</td>\n",
       "      <td>4.837695e+07</td>\n",
       "      <td>8.596585e+10</td>\n",
       "    </tr>\n",
       "    <tr>\n",
       "      <th>2</th>\n",
       "      <td>Rip Current</td>\n",
       "      <td>8325</td>\n",
       "      <td>0.0</td>\n",
       "      <td>1.790000e+10</td>\n",
       "      <td>6.506924e+06</td>\n",
       "      <td>5.417015e+10</td>\n",
       "    </tr>\n",
       "    <tr>\n",
       "      <th>3</th>\n",
       "      <td>Tornado</td>\n",
       "      <td>31568</td>\n",
       "      <td>0.0</td>\n",
       "      <td>2.800000e+09</td>\n",
       "      <td>9.081989e+05</td>\n",
       "      <td>2.867002e+10</td>\n",
       "    </tr>\n",
       "    <tr>\n",
       "      <th>4</th>\n",
       "      <td>Winter Storm</td>\n",
       "      <td>414873</td>\n",
       "      <td>0.0</td>\n",
       "      <td>1.800000e+09</td>\n",
       "      <td>6.712467e+04</td>\n",
       "      <td>2.784821e+10</td>\n",
       "    </tr>\n",
       "    <tr>\n",
       "      <th>5</th>\n",
       "      <td>High Wind</td>\n",
       "      <td>319759</td>\n",
       "      <td>0.0</td>\n",
       "      <td>1.500000e+09</td>\n",
       "      <td>5.973601e+04</td>\n",
       "      <td>1.910113e+10</td>\n",
       "    </tr>\n",
       "    <tr>\n",
       "      <th>6</th>\n",
       "      <td>Wildfire</td>\n",
       "      <td>5251</td>\n",
       "      <td>0.0</td>\n",
       "      <td>1.500000e+09</td>\n",
       "      <td>1.902595e+06</td>\n",
       "      <td>9.990525e+09</td>\n",
       "    </tr>\n",
       "    <tr>\n",
       "      <th>7</th>\n",
       "      <td>Tropical Storm</td>\n",
       "      <td>4252</td>\n",
       "      <td>0.0</td>\n",
       "      <td>5.030000e+09</td>\n",
       "      <td>1.960189e+06</td>\n",
       "      <td>8.334725e+09</td>\n",
       "    </tr>\n",
       "    <tr>\n",
       "      <th>8</th>\n",
       "      <td>Drought</td>\n",
       "      <td>65644</td>\n",
       "      <td>0.0</td>\n",
       "      <td>2.500000e+08</td>\n",
       "      <td>3.261342e+04</td>\n",
       "      <td>2.140876e+09</td>\n",
       "    </tr>\n",
       "    <tr>\n",
       "      <th>9</th>\n",
       "      <td>Lightning</td>\n",
       "      <td>14229</td>\n",
       "      <td>0.0</td>\n",
       "      <td>1.500000e+07</td>\n",
       "      <td>5.780917e+04</td>\n",
       "      <td>8.225666e+08</td>\n",
       "    </tr>\n",
       "    <tr>\n",
       "      <th>10</th>\n",
       "      <td>Heavy Rain</td>\n",
       "      <td>15217</td>\n",
       "      <td>0.0</td>\n",
       "      <td>7.000000e+07</td>\n",
       "      <td>3.685092e+04</td>\n",
       "      <td>5.607604e+08</td>\n",
       "    </tr>\n",
       "  </tbody>\n",
       "</table>\n",
       "</div>"
      ],
      "text/plain": [
       "        EVENT_TYPE   count  min           max          mean           sum\n",
       "0            Flood   99038  0.0  1.150000e+11  1.835101e+06  1.817447e+11\n",
       "1        Hurricane    1777  0.0  1.000000e+10  4.837695e+07  8.596585e+10\n",
       "2      Rip Current    8325  0.0  1.790000e+10  6.506924e+06  5.417015e+10\n",
       "3          Tornado   31568  0.0  2.800000e+09  9.081989e+05  2.867002e+10\n",
       "4     Winter Storm  414873  0.0  1.800000e+09  6.712467e+04  2.784821e+10\n",
       "5        High Wind  319759  0.0  1.500000e+09  5.973601e+04  1.910113e+10\n",
       "6         Wildfire    5251  0.0  1.500000e+09  1.902595e+06  9.990525e+09\n",
       "7   Tropical Storm    4252  0.0  5.030000e+09  1.960189e+06  8.334725e+09\n",
       "8          Drought   65644  0.0  2.500000e+08  3.261342e+04  2.140876e+09\n",
       "9        Lightning   14229  0.0  1.500000e+07  5.780917e+04  8.225666e+08\n",
       "10      Heavy Rain   15217  0.0  7.000000e+07  3.685092e+04  5.607604e+08"
      ]
     },
     "execution_count": 392,
     "metadata": {},
     "output_type": "execute_result"
    }
   ],
   "source": [
    "df1.groupby('EVENT_TYPE').DAMAGE_PROPERTY.agg(['count','min', 'max', 'mean', 'sum']).sort_values('sum', axis=0, ascending=False).reset_index().head(11)"
   ]
  },
  {
   "cell_type": "code",
   "execution_count": 393,
   "metadata": {
    "collapsed": false
   },
   "outputs": [],
   "source": [
    "df1['COMBINED_DAMAGE'] = pd.DataFrame(df1.DAMAGE_PROPERTY + df1.DAMAGE_CROPS)"
   ]
  },
  {
   "cell_type": "code",
   "execution_count": 394,
   "metadata": {
    "collapsed": false
   },
   "outputs": [
    {
     "data": {
      "text/html": [
       "<div>\n",
       "<table border=\"1\" class=\"dataframe\">\n",
       "  <thead>\n",
       "    <tr style=\"text-align: right;\">\n",
       "      <th></th>\n",
       "      <th>EVENT_TYPE</th>\n",
       "      <th>count</th>\n",
       "      <th>min</th>\n",
       "      <th>max</th>\n",
       "      <th>mean</th>\n",
       "      <th>sum</th>\n",
       "    </tr>\n",
       "  </thead>\n",
       "  <tbody>\n",
       "    <tr>\n",
       "      <th>0</th>\n",
       "      <td>Flood</td>\n",
       "      <td>99038</td>\n",
       "      <td>0.0</td>\n",
       "      <td>1.150325e+11</td>\n",
       "      <td>1.906032e+06</td>\n",
       "      <td>1.887696e+11</td>\n",
       "    </tr>\n",
       "    <tr>\n",
       "      <th>1</th>\n",
       "      <td>Hurricane</td>\n",
       "      <td>1777</td>\n",
       "      <td>0.0</td>\n",
       "      <td>1.000000e+10</td>\n",
       "      <td>5.137995e+07</td>\n",
       "      <td>9.130216e+10</td>\n",
       "    </tr>\n",
       "    <tr>\n",
       "      <th>2</th>\n",
       "      <td>Rip Current</td>\n",
       "      <td>8325</td>\n",
       "      <td>0.0</td>\n",
       "      <td>1.790000e+10</td>\n",
       "      <td>6.507027e+06</td>\n",
       "      <td>5.417100e+10</td>\n",
       "    </tr>\n",
       "    <tr>\n",
       "      <th>3</th>\n",
       "      <td>Winter Storm</td>\n",
       "      <td>414873</td>\n",
       "      <td>0.0</td>\n",
       "      <td>1.800000e+09</td>\n",
       "      <td>8.795530e+04</td>\n",
       "      <td>3.649028e+10</td>\n",
       "    </tr>\n",
       "    <tr>\n",
       "      <th>4</th>\n",
       "      <td>Tornado</td>\n",
       "      <td>31568</td>\n",
       "      <td>0.0</td>\n",
       "      <td>2.800000e+09</td>\n",
       "      <td>9.173937e+05</td>\n",
       "      <td>2.896028e+10</td>\n",
       "    </tr>\n",
       "    <tr>\n",
       "      <th>5</th>\n",
       "      <td>Drought</td>\n",
       "      <td>65644</td>\n",
       "      <td>0.0</td>\n",
       "      <td>1.250000e+09</td>\n",
       "      <td>4.403434e+05</td>\n",
       "      <td>2.890590e+10</td>\n",
       "    </tr>\n",
       "    <tr>\n",
       "      <th>6</th>\n",
       "      <td>High Wind</td>\n",
       "      <td>319759</td>\n",
       "      <td>0.0</td>\n",
       "      <td>1.500000e+09</td>\n",
       "      <td>6.562682e+04</td>\n",
       "      <td>2.098477e+10</td>\n",
       "    </tr>\n",
       "    <tr>\n",
       "      <th>7</th>\n",
       "      <td>Wildfire</td>\n",
       "      <td>5251</td>\n",
       "      <td>0.0</td>\n",
       "      <td>1.500000e+09</td>\n",
       "      <td>1.972488e+06</td>\n",
       "      <td>1.035753e+10</td>\n",
       "    </tr>\n",
       "    <tr>\n",
       "      <th>8</th>\n",
       "      <td>Tropical Storm</td>\n",
       "      <td>4252</td>\n",
       "      <td>0.0</td>\n",
       "      <td>5.030000e+09</td>\n",
       "      <td>2.190145e+06</td>\n",
       "      <td>9.312496e+09</td>\n",
       "    </tr>\n",
       "    <tr>\n",
       "      <th>9</th>\n",
       "      <td>Heavy Rain</td>\n",
       "      <td>15217</td>\n",
       "      <td>0.0</td>\n",
       "      <td>2.000000e+08</td>\n",
       "      <td>8.532662e+04</td>\n",
       "      <td>1.298415e+09</td>\n",
       "    </tr>\n",
       "    <tr>\n",
       "      <th>10</th>\n",
       "      <td>Lightning</td>\n",
       "      <td>14229</td>\n",
       "      <td>0.0</td>\n",
       "      <td>1.500000e+07</td>\n",
       "      <td>5.832943e+04</td>\n",
       "      <td>8.299695e+08</td>\n",
       "    </tr>\n",
       "    <tr>\n",
       "      <th>11</th>\n",
       "      <td>OTHER</td>\n",
       "      <td>9897</td>\n",
       "      <td>0.0</td>\n",
       "      <td>3.440000e+07</td>\n",
       "      <td>2.750221e+04</td>\n",
       "      <td>2.721893e+08</td>\n",
       "    </tr>\n",
       "    <tr>\n",
       "      <th>12</th>\n",
       "      <td>Landslide</td>\n",
       "      <td>362</td>\n",
       "      <td>0.0</td>\n",
       "      <td>4.800000e+07</td>\n",
       "      <td>3.956754e+05</td>\n",
       "      <td>1.432345e+08</td>\n",
       "    </tr>\n",
       "    <tr>\n",
       "      <th>13</th>\n",
       "      <td>Tsunami</td>\n",
       "      <td>29</td>\n",
       "      <td>0.0</td>\n",
       "      <td>8.102000e+07</td>\n",
       "      <td>4.788931e+06</td>\n",
       "      <td>1.388790e+08</td>\n",
       "    </tr>\n",
       "    <tr>\n",
       "      <th>14</th>\n",
       "      <td>Waterspout</td>\n",
       "      <td>3818</td>\n",
       "      <td>0.0</td>\n",
       "      <td>5.000000e+06</td>\n",
       "      <td>1.501362e+03</td>\n",
       "      <td>5.732200e+06</td>\n",
       "    </tr>\n",
       "  </tbody>\n",
       "</table>\n",
       "</div>"
      ],
      "text/plain": [
       "        EVENT_TYPE   count  min           max          mean           sum\n",
       "0            Flood   99038  0.0  1.150325e+11  1.906032e+06  1.887696e+11\n",
       "1        Hurricane    1777  0.0  1.000000e+10  5.137995e+07  9.130216e+10\n",
       "2      Rip Current    8325  0.0  1.790000e+10  6.507027e+06  5.417100e+10\n",
       "3     Winter Storm  414873  0.0  1.800000e+09  8.795530e+04  3.649028e+10\n",
       "4          Tornado   31568  0.0  2.800000e+09  9.173937e+05  2.896028e+10\n",
       "5          Drought   65644  0.0  1.250000e+09  4.403434e+05  2.890590e+10\n",
       "6        High Wind  319759  0.0  1.500000e+09  6.562682e+04  2.098477e+10\n",
       "7         Wildfire    5251  0.0  1.500000e+09  1.972488e+06  1.035753e+10\n",
       "8   Tropical Storm    4252  0.0  5.030000e+09  2.190145e+06  9.312496e+09\n",
       "9       Heavy Rain   15217  0.0  2.000000e+08  8.532662e+04  1.298415e+09\n",
       "10       Lightning   14229  0.0  1.500000e+07  5.832943e+04  8.299695e+08\n",
       "11           OTHER    9897  0.0  3.440000e+07  2.750221e+04  2.721893e+08\n",
       "12       Landslide     362  0.0  4.800000e+07  3.956754e+05  1.432345e+08\n",
       "13         Tsunami      29  0.0  8.102000e+07  4.788931e+06  1.388790e+08\n",
       "14      Waterspout    3818  0.0  5.000000e+06  1.501362e+03  5.732200e+06"
      ]
     },
     "execution_count": 394,
     "metadata": {},
     "output_type": "execute_result"
    }
   ],
   "source": [
    "df1.groupby('EVENT_TYPE').COMBINED_DAMAGE.agg(['count','min', 'max', 'mean', 'sum']).sort_values('sum', axis=0, ascending=False).reset_index()"
   ]
  },
  {
   "cell_type": "code",
   "execution_count": 395,
   "metadata": {
    "collapsed": false
   },
   "outputs": [
    {
     "data": {
      "text/plain": [
       "count    9.940390e+05\n",
       "mean     4.747726e+05\n",
       "std      1.191153e+08\n",
       "min      0.000000e+00\n",
       "25%      0.000000e+00\n",
       "50%      0.000000e+00\n",
       "75%      5.000000e+02\n",
       "max      1.150325e+11\n",
       "Name: COMBINED_DAMAGE, dtype: float64"
      ]
     },
     "execution_count": 395,
     "metadata": {},
     "output_type": "execute_result"
    }
   ],
   "source": [
    "df1['COMBINED_DAMAGE'].describe()"
   ]
  },
  {
   "cell_type": "code",
   "execution_count": 396,
   "metadata": {
    "collapsed": true
   },
   "outputs": [],
   "source": [
    "%matplotlib inline"
   ]
  },
  {
   "cell_type": "code",
   "execution_count": 400,
   "metadata": {
    "collapsed": false,
    "scrolled": true
   },
   "outputs": [],
   "source": [
    "b = pd.DataFrame(df1.groupby('EVENT_TYPE').COMBINED_DAMAGE.sum()).sort_values('COMBINED_DAMAGE', axis=0, ascending=False)\n",
    "b = b[b['COMBINED_DAMAGE'] > 100000000]\n",
    "\n",
    "m = pd.DataFrame(df1.groupby('EVENT_TYPE').DAMAGE_PROPERTY.sum()).sort_values('DAMAGE_PROPERTY', axis=0, ascending=False)\n",
    "m = m[m['DAMAGE_PROPERTY'] > 100 ]\n",
    "\n",
    "q = pd.DataFrame(df1.groupby('EVENT_TYPE').DAMAGE_CROPS.sum()).sort_values('DAMAGE_CROPS', axis=0, ascending=False)\n",
    "q = q[q['DAMAGE_CROPS'] > 100 ]\n",
    "\n"
   ]
  },
  {
   "cell_type": "code",
   "execution_count": 401,
   "metadata": {
    "collapsed": false
   },
   "outputs": [
    {
     "data": {
      "text/plain": [
       "<matplotlib.axes._subplots.AxesSubplot at 0x1edddcf90>"
      ]
     },
     "execution_count": 401,
     "metadata": {},
     "output_type": "execute_result"
    },
    {
     "data": {
      "image/png": "[encoded data removed]",
      "text/plain": [
       "<matplotlib.figure.Figure at 0x1eec81890>"
      ]
     },
     "metadata": {},
     "output_type": "display_data"
    },
    {
     "data": {
      "image/png": "[encoded data removed]",
      "text/plain": [
       "<matplotlib.figure.Figure at 0x1eeb8d910>"
      ]
     },
     "metadata": {},
     "output_type": "display_data"
    },
    {
     "data": {
      "image/png": "[encoded data removed]",
      "text/plain": [
       "<matplotlib.figure.Figure at 0x1eec75750>"
      ]
     },
     "metadata": {},
     "output_type": "display_data"
    }
   ],
   "source": [
    "b.plot(kind='bar', color = 'Red',figsize=(20,7))\n",
    "m.plot(kind='bar',figsize=(20,7))\n",
    "q.plot(kind='bar',color = 'green',figsize=(20,7))"
   ]
  },
  {
   "cell_type": "code",
   "execution_count": 403,
   "metadata": {
    "collapsed": false
   },
   "outputs": [
    {
     "ename": "ValueError",
     "evalue": "labels ['BEGIN_YEARMONTH' 'BEGIN_TIME' 'END_YEARMONTH' 'END_DAY' 'END_TIME'\n 'STATE_FIPS' 'CZ_TYPE' 'CZ_FIPS' 'BEGIN_DATE_TIME' 'CZ_TIMEZONE'\n 'END_DATE_TIME' 'SOURCE' 'MAGNITUDE' 'MAGNITUDE_TYPE' 'TOR_OTHER_CZ_FIPS'\n 'TOR_OTHER_CZ_NAME' 'BEGIN_RANGE' 'BEGIN_AZIMUTH' 'BEGIN_LOCATION'\n 'END_RANGE' 'END_AZIMUTH' 'END_LOCATION' 'BEGIN_LAT' 'BEGIN_LON' 'END_LON'\n 'LAST_MOD_DATE' 'LAST_MOD_TIME' 'LAST_CERT_DATE' 'LAST_CERT_TIME'\n 'LAST_MOD' 'LAST_CERT' 'ADDCORR_FLG' 'ADDCORR_DATE'] not contained in axis",
     "output_type": "error",
     "traceback": [
      "\u001b[0;31m---------------------------------------------------------------------------\u001b[0m",
      "\u001b[0;31mValueError\u001b[0m                                Traceback (most recent call last)",
      "\u001b[0;32m<ipython-input-403-48296947740b>\u001b[0m in \u001b[0;36m<module>\u001b[0;34m()\u001b[0m\n\u001b[1;32m      3\u001b[0m          \u001b[0;34m'TOR_OTHER_CZ_FIPS'\u001b[0m\u001b[0;34m,\u001b[0m \u001b[0;34m'TOR_OTHER_CZ_NAME'\u001b[0m\u001b[0;34m,\u001b[0m \u001b[0;34m'BEGIN_RANGE'\u001b[0m\u001b[0;34m,\u001b[0m \u001b[0;34m'BEGIN_AZIMUTH'\u001b[0m\u001b[0;34m,\u001b[0m \u001b[0;34m'BEGIN_LOCATION'\u001b[0m\u001b[0;34m,\u001b[0m \u001b[0;34m'END_RANGE'\u001b[0m\u001b[0;34m,\u001b[0m \u001b[0;34m'END_AZIMUTH'\u001b[0m\u001b[0;34m,\u001b[0m\u001b[0;34m\u001b[0m\u001b[0m\n\u001b[1;32m      4\u001b[0m           \u001b[0;34m'END_LOCATION'\u001b[0m\u001b[0;34m,\u001b[0m \u001b[0;34m'BEGIN_LAT'\u001b[0m\u001b[0;34m,\u001b[0m\u001b[0;34m'BEGIN_LON'\u001b[0m \u001b[0;34m,\u001b[0m\u001b[0;34m'END_LON'\u001b[0m\u001b[0;34m,\u001b[0m\u001b[0;34m'LAST_MOD_DATE'\u001b[0m\u001b[0;34m,\u001b[0m \u001b[0;34m'LAST_MOD_TIME'\u001b[0m\u001b[0;34m,\u001b[0m \u001b[0;34m'LAST_CERT_DATE'\u001b[0m\u001b[0;34m,\u001b[0m \u001b[0;34m'LAST_CERT_TIME'\u001b[0m\u001b[0;34m,\u001b[0m\u001b[0;34m\u001b[0m\u001b[0m\n\u001b[0;32m----> 5\u001b[0;31m           'LAST_MOD', 'LAST_CERT', 'ADDCORR_FLG','ADDCORR_DATE'], axis=1, inplace=True)\n\u001b[0m\u001b[1;32m      6\u001b[0m \u001b[0mdf1\u001b[0m\u001b[0;34m.\u001b[0m\u001b[0mhead\u001b[0m\u001b[0;34m(\u001b[0m\u001b[0;34m)\u001b[0m\u001b[0;34m\u001b[0m\u001b[0m\n",
      "\u001b[0;32m/Users/ugp/anaconda2/lib/python2.7/site-packages/pandas/core/generic.pyc\u001b[0m in \u001b[0;36mdrop\u001b[0;34m(self, labels, axis, level, inplace, errors)\u001b[0m\n\u001b[1;32m   1875\u001b[0m                 \u001b[0mnew_axis\u001b[0m \u001b[0;34m=\u001b[0m \u001b[0maxis\u001b[0m\u001b[0;34m.\u001b[0m\u001b[0mdrop\u001b[0m\u001b[0;34m(\u001b[0m\u001b[0mlabels\u001b[0m\u001b[0;34m,\u001b[0m \u001b[0mlevel\u001b[0m\u001b[0;34m=\u001b[0m\u001b[0mlevel\u001b[0m\u001b[0;34m,\u001b[0m \u001b[0merrors\u001b[0m\u001b[0;34m=\u001b[0m\u001b[0merrors\u001b[0m\u001b[0;34m)\u001b[0m\u001b[0;34m\u001b[0m\u001b[0m\n\u001b[1;32m   1876\u001b[0m             \u001b[0;32melse\u001b[0m\u001b[0;34m:\u001b[0m\u001b[0;34m\u001b[0m\u001b[0m\n\u001b[0;32m-> 1877\u001b[0;31m                 \u001b[0mnew_axis\u001b[0m \u001b[0;34m=\u001b[0m \u001b[0maxis\u001b[0m\u001b[0;34m.\u001b[0m\u001b[0mdrop\u001b[0m\u001b[0;34m(\u001b[0m\u001b[0mlabels\u001b[0m\u001b[0;34m,\u001b[0m \u001b[0merrors\u001b[0m\u001b[0;34m=\u001b[0m\u001b[0merrors\u001b[0m\u001b[0;34m)\u001b[0m\u001b[0;34m\u001b[0m\u001b[0m\n\u001b[0m\u001b[1;32m   1878\u001b[0m             \u001b[0mdropped\u001b[0m \u001b[0;34m=\u001b[0m \u001b[0mself\u001b[0m\u001b[0;34m.\u001b[0m\u001b[0mreindex\u001b[0m\u001b[0;34m(\u001b[0m\u001b[0;34m**\u001b[0m\u001b[0;34m{\u001b[0m\u001b[0maxis_name\u001b[0m\u001b[0;34m:\u001b[0m \u001b[0mnew_axis\u001b[0m\u001b[0;34m}\u001b[0m\u001b[0;34m)\u001b[0m\u001b[0;34m\u001b[0m\u001b[0m\n\u001b[1;32m   1879\u001b[0m             \u001b[0;32mtry\u001b[0m\u001b[0;34m:\u001b[0m\u001b[0;34m\u001b[0m\u001b[0m\n",
      "\u001b[0;32m/Users/ugp/anaconda2/lib/python2.7/site-packages/pandas/indexes/base.pyc\u001b[0m in \u001b[0;36mdrop\u001b[0;34m(self, labels, errors)\u001b[0m\n\u001b[1;32m   3049\u001b[0m             \u001b[0;32mif\u001b[0m \u001b[0merrors\u001b[0m \u001b[0;34m!=\u001b[0m \u001b[0;34m'ignore'\u001b[0m\u001b[0;34m:\u001b[0m\u001b[0;34m\u001b[0m\u001b[0m\n\u001b[1;32m   3050\u001b[0m                 raise ValueError('labels %s not contained in axis' %\n\u001b[0;32m-> 3051\u001b[0;31m                                  labels[mask])\n\u001b[0m\u001b[1;32m   3052\u001b[0m             \u001b[0mindexer\u001b[0m \u001b[0;34m=\u001b[0m \u001b[0mindexer\u001b[0m\u001b[0;34m[\u001b[0m\u001b[0;34m~\u001b[0m\u001b[0mmask\u001b[0m\u001b[0;34m]\u001b[0m\u001b[0;34m\u001b[0m\u001b[0m\n\u001b[1;32m   3053\u001b[0m         \u001b[0;32mreturn\u001b[0m \u001b[0mself\u001b[0m\u001b[0;34m.\u001b[0m\u001b[0mdelete\u001b[0m\u001b[0;34m(\u001b[0m\u001b[0mindexer\u001b[0m\u001b[0;34m)\u001b[0m\u001b[0;34m\u001b[0m\u001b[0m\n",
      "\u001b[0;31mValueError\u001b[0m: labels ['BEGIN_YEARMONTH' 'BEGIN_TIME' 'END_YEARMONTH' 'END_DAY' 'END_TIME'\n 'STATE_FIPS' 'CZ_TYPE' 'CZ_FIPS' 'BEGIN_DATE_TIME' 'CZ_TIMEZONE'\n 'END_DATE_TIME' 'SOURCE' 'MAGNITUDE' 'MAGNITUDE_TYPE' 'TOR_OTHER_CZ_FIPS'\n 'TOR_OTHER_CZ_NAME' 'BEGIN_RANGE' 'BEGIN_AZIMUTH' 'BEGIN_LOCATION'\n 'END_RANGE' 'END_AZIMUTH' 'END_LOCATION' 'BEGIN_LAT' 'BEGIN_LON' 'END_LON'\n 'LAST_MOD_DATE' 'LAST_MOD_TIME' 'LAST_CERT_DATE' 'LAST_CERT_TIME'\n 'LAST_MOD' 'LAST_CERT' 'ADDCORR_FLG' 'ADDCORR_DATE'] not contained in axis"
     ]
    }
   ],
   "source": [
    "df1.drop(['BEGIN_YEARMONTH','BEGIN_TIME', 'END_YEARMONTH', 'END_DAY', 'END_TIME', 'STATE_FIPS',\n",
    "         'CZ_TYPE','CZ_FIPS', 'BEGIN_DATE_TIME', 'CZ_TIMEZONE', 'END_DATE_TIME', 'SOURCE', 'MAGNITUDE', 'MAGNITUDE_TYPE',\n",
    "         'TOR_OTHER_CZ_FIPS', 'TOR_OTHER_CZ_NAME', 'BEGIN_RANGE', 'BEGIN_AZIMUTH', 'BEGIN_LOCATION', 'END_RANGE', 'END_AZIMUTH',\n",
    "          'END_LOCATION', 'BEGIN_LAT','BEGIN_LON' , 'END_LAT', 'END_LON','LAST_MOD_DATE', 'LAST_MOD_TIME', 'LAST_CERT_DATE', 'LAST_CERT_TIME',\n",
    "          'LAST_MOD', 'LAST_CERT', 'ADDCORR_FLG','ADDCORR_DATE'], axis=1, inplace=True)\n"
   ]
  },
  {
   "cell_type": "code",
   "execution_count": 404,
   "metadata": {
    "collapsed": false
   },
   "outputs": [
    {
     "data": {
      "text/plain": [
       "BEGIN_DAY                      int64\n",
       "EPISODE_ID                     int64\n",
       "EVENT_ID                       int64\n",
       "STATE                         object\n",
       "YEAR                           int64\n",
       "MONTH_NAME                    object\n",
       "EVENT_TYPE                    object\n",
       "CZ_NAME                       object\n",
       "WFO                           object\n",
       "INJURIES_DIRECT                int64\n",
       "INJURIES_INDIRECT              int64\n",
       "DEATHS_DIRECT                  int64\n",
       "DEATHS_INDIRECT                int64\n",
       "DAMAGE_PROPERTY              float64\n",
       "DAMAGE_CROPS                 float64\n",
       "FLOOD_CAUSE                   object\n",
       "CATEGORY                     float64\n",
       "TOR_F_SCALE                   object\n",
       "TOR_LENGTH                   float64\n",
       "TOR_WIDTH                    float64\n",
       "TOR_OTHER_WFO                 object\n",
       "TOR_OTHER_CZ_STATE            object\n",
       "END_LAT                      float64\n",
       "EPISODE_NARRATIVE             object\n",
       "EVENT_NARRATIVE               object\n",
       "CASUALTIES                     int64\n",
       "TOTAL_DEATHS                   int64\n",
       "TOTAL_INJURIES                 int64\n",
       "DATE                  datetime64[ns]\n",
       "COMBINED_DAMAGE              float64\n",
       "dtype: object"
      ]
     },
     "execution_count": 404,
     "metadata": {},
     "output_type": "execute_result"
    }
   ],
   "source": [
    "df1.dtypes"
   ]
  },
  {
   "cell_type": "code",
   "execution_count": 406,
   "metadata": {
    "collapsed": false
   },
   "outputs": [],
   "source": [
    "#convert dataframe to csv\n",
    "\n",
    "df1.to_csv('df2.csv')\n",
    "#This worked!  Thank God this was successful on Tuesday school!\n",
    "# 10 years worth of data (994039, 64)"
   ]
  },
  {
   "cell_type": "code",
   "execution_count": null,
   "metadata": {
    "collapsed": false
   },
   "outputs": [],
   "source": []
  },
  {
   "cell_type": "code",
   "execution_count": null,
   "metadata": {
    "collapsed": true
   },
   "outputs": [],
   "source": []
  },
  {
   "cell_type": "code",
   "execution_count": null,
   "metadata": {
    "collapsed": true
   },
   "outputs": [],
   "source": []
  },
  {
   "cell_type": "code",
   "execution_count": null,
   "metadata": {
    "collapsed": true
   },
   "outputs": [],
   "source": []
  },
  {
   "cell_type": "code",
   "execution_count": null,
   "metadata": {
    "collapsed": true
   },
   "outputs": [],
   "source": []
  },
  {
   "cell_type": "code",
   "execution_count": null,
   "metadata": {
    "collapsed": true
   },
   "outputs": [],
   "source": []
  },
  {
   "cell_type": "code",
   "execution_count": null,
   "metadata": {
    "collapsed": true
   },
   "outputs": [],
   "source": []
  },
  {
   "cell_type": "markdown",
   "metadata": {
    "collapsed": true
   },
   "source": [
    "### Bonus: Explain how you intend to evaluate your results. \n",
    "What tuning metric and evaluation approaches do you intend to use?\n",
    "Clean> fit> run models, look at the results... \n",
    "\n",
    "Linear regression: Attempt to accurately predict the independent variable (casualities) by good fitting SSE / differential \n",
    "\n",
    "Logistic regression: Attempt to predict if I can say if a certain storm in a certain state, in a certain month would cause a causality. I would show classification accuracy score, confusion matrix coorelation number."
   ]
  },
  {
   "cell_type": "markdown",
   "metadata": {
    "collapsed": true
   },
   "source": [
    "### Bonus Identify 1-2 additional datasets that may help you triangulate your findings. \n",
    "How might these relate to your data?\n",
    "\n",
    "Could look at the aircraft incident reports from the NTSB site\n",
    "May get an idea of crop damage in current dollar basis, perhaps rebase for inflation or the proper crop price in todays dollars, crop price website"
   ]
  },
  {
   "cell_type": "markdown",
   "metadata": {},
   "source": [
    "### Useful Resources\n",
    "\n",
    "- [Exploratory Data Analysis](http://insightdatascience.com/blog/eda-and-graphics-eli-bressert.html)\n",
    "- [Best practices for data documentation](https://www.dataone.org/all-best-practices)"
   ]
  },
  {
   "cell_type": "code",
   "execution_count": null,
   "metadata": {
    "collapsed": true
   },
   "outputs": [],
   "source": []
  }
 ],
 "metadata": {
  "anaconda-cloud": {},
  "kernelspec": {
   "display_name": "Python [Root]",
   "language": "python",
   "name": "Python [Root]"
  },
  "language_info": {
   "codemirror_mode": {
    "name": "ipython",
    "version": 2
   },
   "file_extension": ".py",
   "mimetype": "text/x-python",
   "name": "python",
   "nbconvert_exporter": "python",
   "pygments_lexer": "ipython2",
   "version": "2.7.12"
  }
 },
 "nbformat": 4,
 "nbformat_minor": 0
}
