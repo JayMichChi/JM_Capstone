{
 "cells": [
  {
   "cell_type": "markdown",
   "metadata": {},
   "source": [
    "## Dataframe construction"
   ]
  },
  {
   "cell_type": "code",
   "execution_count": 1,
   "metadata": {
    "collapsed": true
   },
   "outputs": [],
   "source": [
    "import pandas as pd"
   ]
  },
  {
   "cell_type": "code",
   "execution_count": 8,
   "metadata": {
    "collapsed": false
   },
   "outputs": [],
   "source": [
    "import pandas as pd\n",
    "df1 = pd.read_csv('../Part 2 Capstone/df2.csv')"
   ]
  },
  {
   "cell_type": "code",
   "execution_count": 9,
   "metadata": {
    "collapsed": false
   },
   "outputs": [
    {
     "name": "stdout",
     "output_type": "stream",
     "text": [
      "count    654313.000000\n",
      "mean      30404.829041\n",
      "std       18369.166122\n",
      "min           0.000000\n",
      "25%       14870.000000\n",
      "50%       29741.000000\n",
      "75%       44612.000000\n",
      "max       79091.000000\n",
      "Name: Unnamed: 0, dtype: float64\n",
      "count    6.543130e+05\n",
      "mean     8.729189e+04\n",
      "std      7.913135e+04\n",
      "min      7.650000e+02\n",
      "25%      3.058300e+04\n",
      "50%      5.888900e+04\n",
      "75%      1.625420e+05\n",
      "max      1.152422e+06\n",
      "Name: EVENT_TYPE, dtype: float64\n",
      "count    6.543130e+05\n",
      "mean     1.892418e+06\n",
      "std      2.418225e+06\n",
      "min      3.419000e+03\n",
      "25%      1.808540e+05\n",
      "50%      3.533630e+05\n",
      "75%      5.371730e+06\n",
      "max      5.535308e+06\n",
      "Name: EVENT_ID, dtype: float64\n",
      "count     654312\n",
      "unique        68\n",
      "top        TEXAS\n",
      "freq       45296\n",
      "Name: EPISODE_ID, dtype: object\n",
      "count    654313.000000\n",
      "mean       2008.221709\n",
      "std           3.083121\n",
      "min        2003.000000\n",
      "25%        2006.000000\n",
      "50%        2008.000000\n",
      "75%        2011.000000\n",
      "max        2013.000000\n",
      "Name: DATE, dtype: float64\n",
      "count     654313\n",
      "unique        23\n",
      "top         June\n",
      "freq       72273\n",
      "Name: CZ_NAME, dtype: object\n",
      "count           654313\n",
      "unique              15\n",
      "top       Winter Storm\n",
      "freq            269358\n",
      "Name: STATE, dtype: object\n",
      "count        654313\n",
      "unique         6329\n",
      "top       JEFFERSON\n",
      "freq           5194\n",
      "Name: INJURIES_DIRECT, dtype: object\n",
      "count    654313.000000\n",
      "mean          0.053577\n",
      "std           2.914238\n",
      "min           0.000000\n",
      "25%           0.000000\n",
      "50%           0.000000\n",
      "75%           0.000000\n",
      "max        1150.000000\n",
      "Name: INJURIES_INDIRECT, dtype: float64\n",
      "count    654313.000000\n",
      "mean          0.013384\n",
      "std           3.024913\n",
      "min           0.000000\n",
      "25%           0.000000\n",
      "50%           0.000000\n",
      "75%           0.000000\n",
      "max        2400.000000\n",
      "Name: TOTAL_INJURIES, dtype: float64\n",
      "count    654313.000000\n",
      "mean          0.008861\n",
      "std           0.284431\n",
      "min           0.000000\n",
      "25%           0.000000\n",
      "50%           0.000000\n",
      "75%           0.000000\n",
      "max         158.000000\n",
      "Name: DEATHS_DIRECT, dtype: float64\n",
      "count    654313.000000\n",
      "mean          0.002017\n",
      "std           0.062737\n",
      "min           0.000000\n",
      "25%           0.000000\n",
      "50%           0.000000\n",
      "75%           0.000000\n",
      "max          11.000000\n",
      "Name: DEATHS_INDIRECT, dtype: float64\n",
      "count    6.543130e+05\n",
      "mean     5.569882e+05\n",
      "std      1.464302e+08\n",
      "min      0.000000e+00\n",
      "25%      0.000000e+00\n",
      "50%      0.000000e+00\n",
      "75%      0.000000e+00\n",
      "max      1.150000e+11\n",
      "Name: TOTAL_DEATHS, dtype: float64\n",
      "count    6.543130e+05\n",
      "mean     5.286347e+04\n",
      "std      2.927734e+06\n",
      "min      0.000000e+00\n",
      "25%      0.000000e+00\n",
      "50%      0.000000e+00\n",
      "75%      0.000000e+00\n",
      "max      1.050000e+09\n",
      "Name: CASUALTIES, dtype: float64\n",
      "count    174.000000\n",
      "mean       1.086207\n",
      "std        0.428108\n",
      "min        1.000000\n",
      "25%             NaN\n",
      "50%             NaN\n",
      "75%             NaN\n",
      "max        5.000000\n",
      "Name: DAMAGE_PROPERTY, dtype: float64\n",
      "count     15864\n",
      "unique       11\n",
      "top         EF0\n",
      "freq       5351\n",
      "Name: DAMAGE_CROPS, dtype: object\n",
      "count    15864.000000\n",
      "mean         3.065221\n",
      "std          7.237911\n",
      "min          0.000000\n",
      "25%               NaN\n",
      "50%               NaN\n",
      "75%               NaN\n",
      "max        400.000000\n",
      "Name: COMBINED_DAMAGE, dtype: float64\n",
      "count    15864.000000\n",
      "mean       150.016163\n",
      "std        261.183590\n",
      "min          0.000000\n",
      "25%               NaN\n",
      "50%               NaN\n",
      "75%               NaN\n",
      "max       4576.000000\n",
      "Name: CATEGORY, dtype: float64\n",
      "count                                                545882\n",
      "unique                                                91047\n",
      "top       A strong upper-level disturbance passed throug...\n",
      "freq                                                    294\n",
      "Name: TOR_F_SCALE, dtype: object\n",
      "count                     379088\n",
      "unique                    325842\n",
      "top       Trees were blown down.\n",
      "freq                         669\n",
      "Name: TOR_LENGTH, dtype: object\n",
      "count    654313.000000\n",
      "mean          0.077839\n",
      "std           4.334101\n",
      "min           0.000000\n",
      "25%           0.000000\n",
      "50%           0.000000\n",
      "75%           0.000000\n",
      "max        2409.000000\n",
      "Name: TOR_WIDTH, dtype: float64\n",
      "count    654313.000000\n",
      "mean          0.010879\n",
      "std           0.297602\n",
      "min           0.000000\n",
      "25%           0.000000\n",
      "50%           0.000000\n",
      "75%           0.000000\n",
      "max         161.000000\n",
      "Name: EPISODE_NARRATIVE, dtype: float64\n",
      "count    654313.000000\n",
      "mean          0.066960\n",
      "std           4.203051\n",
      "min           0.000000\n",
      "25%           0.000000\n",
      "50%           0.000000\n",
      "75%           0.000000\n",
      "max        2400.000000\n",
      "Name: EVENT_NARRATIVE, dtype: float64\n",
      "count         654313\n",
      "unique          3867\n",
      "top       2012-07-01\n",
      "freq            2447\n",
      "Name: YEAR, dtype: object\n",
      "count    6.543130e+05\n",
      "mean     6.098517e+05\n",
      "std      1.465156e+08\n",
      "min      0.000000e+00\n",
      "25%      0.000000e+00\n",
      "50%      0.000000e+00\n",
      "75%      5.000000e+02\n",
      "max      1.150325e+11\n",
      "Name: MONTH_NAME, dtype: float64\n"
     ]
    }
   ],
   "source": [
    "for column in df1.columns:\n",
    "    print df1[column].describe()"
   ]
  },
  {
   "cell_type": "code",
   "execution_count": 10,
   "metadata": {
    "collapsed": false,
    "scrolled": true
   },
   "outputs": [
    {
     "data": {
      "text/plain": [
       "(654313, 25)"
      ]
     },
     "execution_count": 10,
     "metadata": {},
     "output_type": "execute_result"
    }
   ],
   "source": [
    "df1.shape"
   ]
  },
  {
   "cell_type": "markdown",
   "metadata": {},
   "source": [
    "\n",
    "\n",
    "## Below i will construct a number of dataframes that I will subsequently run both regression and classification models on.\n",
    "\n",
    "\n"
   ]
  },
  {
   "cell_type": "code",
   "execution_count": 16,
   "metadata": {
    "collapsed": false
   },
   "outputs": [
    {
     "data": {
      "text/html": [
       "<div>\n",
       "<table border=\"1\" class=\"dataframe\">\n",
       "  <thead>\n",
       "    <tr style=\"text-align: right;\">\n",
       "      <th></th>\n",
       "      <th>Unnamed: 0</th>\n",
       "      <th>EVENT_TYPE</th>\n",
       "      <th>EVENT_ID</th>\n",
       "      <th>EPISODE_ID</th>\n",
       "      <th>DATE</th>\n",
       "      <th>CZ_NAME</th>\n",
       "      <th>STATE</th>\n",
       "      <th>INJURIES_DIRECT</th>\n",
       "      <th>INJURIES_INDIRECT</th>\n",
       "      <th>TOTAL_INJURIES</th>\n",
       "      <th>...</th>\n",
       "      <th>DAMAGE_CROPS</th>\n",
       "      <th>COMBINED_DAMAGE</th>\n",
       "      <th>CATEGORY</th>\n",
       "      <th>TOR_F_SCALE</th>\n",
       "      <th>TOR_LENGTH</th>\n",
       "      <th>TOR_WIDTH</th>\n",
       "      <th>EPISODE_NARRATIVE</th>\n",
       "      <th>EVENT_NARRATIVE</th>\n",
       "      <th>YEAR</th>\n",
       "      <th>MONTH_NAME</th>\n",
       "    </tr>\n",
       "  </thead>\n",
       "  <tbody>\n",
       "    <tr>\n",
       "      <th>0</th>\n",
       "      <td>0</td>\n",
       "      <td>146513</td>\n",
       "      <td>5338259</td>\n",
       "      <td>COLORADO</td>\n",
       "      <td>2003</td>\n",
       "      <td>January</td>\n",
       "      <td>Drought</td>\n",
       "      <td>UPPER YAMPA RIVER BASIN</td>\n",
       "      <td>0</td>\n",
       "      <td>0</td>\n",
       "      <td>...</td>\n",
       "      <td>NaN</td>\n",
       "      <td>NaN</td>\n",
       "      <td>NaN</td>\n",
       "      <td>January consisted of below normal precipitatio...</td>\n",
       "      <td>NaN</td>\n",
       "      <td>0</td>\n",
       "      <td>0</td>\n",
       "      <td>0</td>\n",
       "      <td>2003-01-01</td>\n",
       "      <td>0.0</td>\n",
       "    </tr>\n",
       "    <tr>\n",
       "      <th>1</th>\n",
       "      <td>1</td>\n",
       "      <td>147987</td>\n",
       "      <td>5344607</td>\n",
       "      <td>TEXAS</td>\n",
       "      <td>2003</td>\n",
       "      <td>January</td>\n",
       "      <td>Drought</td>\n",
       "      <td>ZAPATA</td>\n",
       "      <td>0</td>\n",
       "      <td>0</td>\n",
       "      <td>...</td>\n",
       "      <td>NaN</td>\n",
       "      <td>NaN</td>\n",
       "      <td>NaN</td>\n",
       "      <td>NaN</td>\n",
       "      <td>Soil moisture values remain above normal.  How...</td>\n",
       "      <td>0</td>\n",
       "      <td>0</td>\n",
       "      <td>0</td>\n",
       "      <td>2003-01-01</td>\n",
       "      <td>0.0</td>\n",
       "    </tr>\n",
       "    <tr>\n",
       "      <th>2</th>\n",
       "      <td>2</td>\n",
       "      <td>147987</td>\n",
       "      <td>5344606</td>\n",
       "      <td>TEXAS</td>\n",
       "      <td>2003</td>\n",
       "      <td>January</td>\n",
       "      <td>Drought</td>\n",
       "      <td>WILLACY</td>\n",
       "      <td>0</td>\n",
       "      <td>0</td>\n",
       "      <td>...</td>\n",
       "      <td>NaN</td>\n",
       "      <td>NaN</td>\n",
       "      <td>NaN</td>\n",
       "      <td>NaN</td>\n",
       "      <td>Soil moisture values remain above normal.  How...</td>\n",
       "      <td>0</td>\n",
       "      <td>0</td>\n",
       "      <td>0</td>\n",
       "      <td>2003-01-01</td>\n",
       "      <td>0.0</td>\n",
       "    </tr>\n",
       "    <tr>\n",
       "      <th>3</th>\n",
       "      <td>3</td>\n",
       "      <td>147987</td>\n",
       "      <td>5344605</td>\n",
       "      <td>TEXAS</td>\n",
       "      <td>2003</td>\n",
       "      <td>January</td>\n",
       "      <td>Drought</td>\n",
       "      <td>STARR</td>\n",
       "      <td>0</td>\n",
       "      <td>0</td>\n",
       "      <td>...</td>\n",
       "      <td>NaN</td>\n",
       "      <td>NaN</td>\n",
       "      <td>NaN</td>\n",
       "      <td>NaN</td>\n",
       "      <td>Soil moisture values remain above normal.  How...</td>\n",
       "      <td>0</td>\n",
       "      <td>0</td>\n",
       "      <td>0</td>\n",
       "      <td>2003-01-01</td>\n",
       "      <td>0.0</td>\n",
       "    </tr>\n",
       "    <tr>\n",
       "      <th>4</th>\n",
       "      <td>4</td>\n",
       "      <td>147987</td>\n",
       "      <td>5344604</td>\n",
       "      <td>TEXAS</td>\n",
       "      <td>2003</td>\n",
       "      <td>January</td>\n",
       "      <td>Drought</td>\n",
       "      <td>KENEDY</td>\n",
       "      <td>0</td>\n",
       "      <td>0</td>\n",
       "      <td>...</td>\n",
       "      <td>NaN</td>\n",
       "      <td>NaN</td>\n",
       "      <td>NaN</td>\n",
       "      <td>NaN</td>\n",
       "      <td>Soil moisture values remain above normal.  How...</td>\n",
       "      <td>0</td>\n",
       "      <td>0</td>\n",
       "      <td>0</td>\n",
       "      <td>2003-01-01</td>\n",
       "      <td>0.0</td>\n",
       "    </tr>\n",
       "  </tbody>\n",
       "</table>\n",
       "<p>5 rows × 25 columns</p>\n",
       "</div>"
      ],
      "text/plain": [
       "   Unnamed: 0  EVENT_TYPE  EVENT_ID EPISODE_ID  DATE    CZ_NAME    STATE  \\\n",
       "0           0      146513   5338259   COLORADO  2003  January    Drought   \n",
       "1           1      147987   5344607      TEXAS  2003  January    Drought   \n",
       "2           2      147987   5344606      TEXAS  2003  January    Drought   \n",
       "3           3      147987   5344605      TEXAS  2003  January    Drought   \n",
       "4           4      147987   5344604      TEXAS  2003  January    Drought   \n",
       "\n",
       "           INJURIES_DIRECT  INJURIES_INDIRECT  TOTAL_INJURIES    ...      \\\n",
       "0  UPPER YAMPA RIVER BASIN                  0               0    ...       \n",
       "1                   ZAPATA                  0               0    ...       \n",
       "2                  WILLACY                  0               0    ...       \n",
       "3                    STARR                  0               0    ...       \n",
       "4                   KENEDY                  0               0    ...       \n",
       "\n",
       "   DAMAGE_CROPS  COMBINED_DAMAGE  CATEGORY  \\\n",
       "0           NaN              NaN       NaN   \n",
       "1           NaN              NaN       NaN   \n",
       "2           NaN              NaN       NaN   \n",
       "3           NaN              NaN       NaN   \n",
       "4           NaN              NaN       NaN   \n",
       "\n",
       "                                         TOR_F_SCALE  \\\n",
       "0  January consisted of below normal precipitatio...   \n",
       "1                                                NaN   \n",
       "2                                                NaN   \n",
       "3                                                NaN   \n",
       "4                                                NaN   \n",
       "\n",
       "                                          TOR_LENGTH TOR_WIDTH  \\\n",
       "0                                                NaN         0   \n",
       "1  Soil moisture values remain above normal.  How...         0   \n",
       "2  Soil moisture values remain above normal.  How...         0   \n",
       "3  Soil moisture values remain above normal.  How...         0   \n",
       "4  Soil moisture values remain above normal.  How...         0   \n",
       "\n",
       "   EPISODE_NARRATIVE  EVENT_NARRATIVE        YEAR MONTH_NAME  \n",
       "0                  0                0  2003-01-01        0.0  \n",
       "1                  0                0  2003-01-01        0.0  \n",
       "2                  0                0  2003-01-01        0.0  \n",
       "3                  0                0  2003-01-01        0.0  \n",
       "4                  0                0  2003-01-01        0.0  \n",
       "\n",
       "[5 rows x 25 columns]"
      ]
     },
     "execution_count": 16,
     "metadata": {},
     "output_type": "execute_result"
    }
   ],
   "source": [
    "df1.head()"
   ]
  },
  {
   "cell_type": "code",
   "execution_count": 12,
   "metadata": {
    "collapsed": false
   },
   "outputs": [],
   "source": [
    "a = pd.DataFrame(df1.groupby('EVENT_TYPE').CASUALTIES.agg(['count','min', 'max', 'mean', 'sum']).sort_values('sum', axis=0, ascending=False).reset_index().head(11))"
   ]
  },
  {
   "cell_type": "code",
   "execution_count": 13,
   "metadata": {
    "collapsed": false
   },
   "outputs": [
    {
     "data": {
      "text/html": [
       "<div>\n",
       "<table border=\"1\" class=\"dataframe\">\n",
       "  <thead>\n",
       "    <tr style=\"text-align: right;\">\n",
       "      <th></th>\n",
       "      <th>EVENT_TYPE</th>\n",
       "      <th>count</th>\n",
       "      <th>min</th>\n",
       "      <th>max</th>\n",
       "      <th>mean</th>\n",
       "      <th>sum</th>\n",
       "    </tr>\n",
       "  </thead>\n",
       "  <tbody>\n",
       "    <tr>\n",
       "      <th>0</th>\n",
       "      <td>64742</td>\n",
       "      <td>51</td>\n",
       "      <td>45000000.0</td>\n",
       "      <td>9.000000e+07</td>\n",
       "      <td>4.676471e+07</td>\n",
       "      <td>2.385000e+09</td>\n",
       "    </tr>\n",
       "    <tr>\n",
       "      <th>1</th>\n",
       "      <td>198432</td>\n",
       "      <td>47</td>\n",
       "      <td>5000000.0</td>\n",
       "      <td>9.000000e+07</td>\n",
       "      <td>3.204255e+07</td>\n",
       "      <td>1.506000e+09</td>\n",
       "    </tr>\n",
       "    <tr>\n",
       "      <th>2</th>\n",
       "      <td>51783</td>\n",
       "      <td>24</td>\n",
       "      <td>0.0</td>\n",
       "      <td>1.050000e+09</td>\n",
       "      <td>4.375000e+07</td>\n",
       "      <td>1.050000e+09</td>\n",
       "    </tr>\n",
       "    <tr>\n",
       "      <th>3</th>\n",
       "      <td>40184</td>\n",
       "      <td>51</td>\n",
       "      <td>20000000.0</td>\n",
       "      <td>4.000000e+07</td>\n",
       "      <td>2.039216e+07</td>\n",
       "      <td>1.040000e+09</td>\n",
       "    </tr>\n",
       "    <tr>\n",
       "      <th>4</th>\n",
       "      <td>203990</td>\n",
       "      <td>46</td>\n",
       "      <td>0.0</td>\n",
       "      <td>1.000000e+09</td>\n",
       "      <td>2.173913e+07</td>\n",
       "      <td>1.000000e+09</td>\n",
       "    </tr>\n",
       "    <tr>\n",
       "      <th>5</th>\n",
       "      <td>68979</td>\n",
       "      <td>35</td>\n",
       "      <td>0.0</td>\n",
       "      <td>7.260000e+07</td>\n",
       "      <td>2.804286e+07</td>\n",
       "      <td>9.815000e+08</td>\n",
       "    </tr>\n",
       "    <tr>\n",
       "      <th>6</th>\n",
       "      <td>78171</td>\n",
       "      <td>45</td>\n",
       "      <td>21000000.0</td>\n",
       "      <td>2.100000e+07</td>\n",
       "      <td>2.100000e+07</td>\n",
       "      <td>9.450000e+08</td>\n",
       "    </tr>\n",
       "    <tr>\n",
       "      <th>7</th>\n",
       "      <td>7401</td>\n",
       "      <td>44</td>\n",
       "      <td>300000.0</td>\n",
       "      <td>7.000000e+08</td>\n",
       "      <td>1.701136e+07</td>\n",
       "      <td>7.485000e+08</td>\n",
       "    </tr>\n",
       "    <tr>\n",
       "      <th>8</th>\n",
       "      <td>1030</td>\n",
       "      <td>4</td>\n",
       "      <td>3400000.0</td>\n",
       "      <td>5.686000e+08</td>\n",
       "      <td>1.772000e+08</td>\n",
       "      <td>7.088000e+08</td>\n",
       "    </tr>\n",
       "    <tr>\n",
       "      <th>9</th>\n",
       "      <td>43007</td>\n",
       "      <td>9</td>\n",
       "      <td>500000.0</td>\n",
       "      <td>7.000000e+08</td>\n",
       "      <td>7.855556e+07</td>\n",
       "      <td>7.070000e+08</td>\n",
       "    </tr>\n",
       "    <tr>\n",
       "      <th>10</th>\n",
       "      <td>5504</td>\n",
       "      <td>97</td>\n",
       "      <td>0.0</td>\n",
       "      <td>1.550000e+08</td>\n",
       "      <td>6.391753e+06</td>\n",
       "      <td>6.200000e+08</td>\n",
       "    </tr>\n",
       "  </tbody>\n",
       "</table>\n",
       "</div>"
      ],
      "text/plain": [
       "    EVENT_TYPE  count         min           max          mean           sum\n",
       "0        64742     51  45000000.0  9.000000e+07  4.676471e+07  2.385000e+09\n",
       "1       198432     47   5000000.0  9.000000e+07  3.204255e+07  1.506000e+09\n",
       "2        51783     24         0.0  1.050000e+09  4.375000e+07  1.050000e+09\n",
       "3        40184     51  20000000.0  4.000000e+07  2.039216e+07  1.040000e+09\n",
       "4       203990     46         0.0  1.000000e+09  2.173913e+07  1.000000e+09\n",
       "5        68979     35         0.0  7.260000e+07  2.804286e+07  9.815000e+08\n",
       "6        78171     45  21000000.0  2.100000e+07  2.100000e+07  9.450000e+08\n",
       "7         7401     44    300000.0  7.000000e+08  1.701136e+07  7.485000e+08\n",
       "8         1030      4   3400000.0  5.686000e+08  1.772000e+08  7.088000e+08\n",
       "9        43007      9    500000.0  7.000000e+08  7.855556e+07  7.070000e+08\n",
       "10        5504     97         0.0  1.550000e+08  6.391753e+06  6.200000e+08"
      ]
     },
     "execution_count": 13,
     "metadata": {},
     "output_type": "execute_result"
    }
   ],
   "source": [
    "a.head(15)"
   ]
  },
  {
   "cell_type": "code",
   "execution_count": 14,
   "metadata": {
    "collapsed": false
   },
   "outputs": [
    {
     "data": {
      "text/html": [
       "<div>\n",
       "<table border=\"1\" class=\"dataframe\">\n",
       "  <thead>\n",
       "    <tr style=\"text-align: right;\">\n",
       "      <th></th>\n",
       "      <th>EPISODE_ID</th>\n",
       "      <th>count</th>\n",
       "      <th>min</th>\n",
       "      <th>max</th>\n",
       "      <th>mean</th>\n",
       "      <th>sum</th>\n",
       "    </tr>\n",
       "  </thead>\n",
       "  <tbody>\n",
       "    <tr>\n",
       "      <th>0</th>\n",
       "      <td>ALABAMA</td>\n",
       "      <td>858</td>\n",
       "      <td>0.01</td>\n",
       "      <td>300.00</td>\n",
       "      <td>4.962179</td>\n",
       "      <td>4257.55</td>\n",
       "    </tr>\n",
       "    <tr>\n",
       "      <th>1</th>\n",
       "      <td>KANSAS</td>\n",
       "      <td>1245</td>\n",
       "      <td>0.00</td>\n",
       "      <td>29.90</td>\n",
       "      <td>2.773775</td>\n",
       "      <td>3453.35</td>\n",
       "    </tr>\n",
       "    <tr>\n",
       "      <th>2</th>\n",
       "      <td>MISSOURI</td>\n",
       "      <td>825</td>\n",
       "      <td>0.00</td>\n",
       "      <td>32.99</td>\n",
       "      <td>4.013309</td>\n",
       "      <td>3310.98</td>\n",
       "    </tr>\n",
       "    <tr>\n",
       "      <th>3</th>\n",
       "      <td>ARKANSAS</td>\n",
       "      <td>650</td>\n",
       "      <td>0.01</td>\n",
       "      <td>37.00</td>\n",
       "      <td>4.863554</td>\n",
       "      <td>3161.31</td>\n",
       "    </tr>\n",
       "    <tr>\n",
       "      <th>4</th>\n",
       "      <td>MISSISSIPPI</td>\n",
       "      <td>762</td>\n",
       "      <td>0.01</td>\n",
       "      <td>34.85</td>\n",
       "      <td>4.074843</td>\n",
       "      <td>3105.03</td>\n",
       "    </tr>\n",
       "    <tr>\n",
       "      <th>5</th>\n",
       "      <td>OKLAHOMA</td>\n",
       "      <td>820</td>\n",
       "      <td>0.10</td>\n",
       "      <td>80.00</td>\n",
       "      <td>3.273683</td>\n",
       "      <td>2684.42</td>\n",
       "    </tr>\n",
       "    <tr>\n",
       "      <th>6</th>\n",
       "      <td>TEXAS</td>\n",
       "      <td>1439</td>\n",
       "      <td>0.01</td>\n",
       "      <td>50.00</td>\n",
       "      <td>1.851473</td>\n",
       "      <td>2664.27</td>\n",
       "    </tr>\n",
       "    <tr>\n",
       "      <th>7</th>\n",
       "      <td>GEORGIA</td>\n",
       "      <td>490</td>\n",
       "      <td>0.00</td>\n",
       "      <td>100.00</td>\n",
       "      <td>4.668490</td>\n",
       "      <td>2287.56</td>\n",
       "    </tr>\n",
       "    <tr>\n",
       "      <th>8</th>\n",
       "      <td>ILLINOIS</td>\n",
       "      <td>727</td>\n",
       "      <td>0.00</td>\n",
       "      <td>28.40</td>\n",
       "      <td>2.781747</td>\n",
       "      <td>2022.33</td>\n",
       "    </tr>\n",
       "    <tr>\n",
       "      <th>9</th>\n",
       "      <td>TENNESSEE</td>\n",
       "      <td>480</td>\n",
       "      <td>0.01</td>\n",
       "      <td>26.00</td>\n",
       "      <td>3.997979</td>\n",
       "      <td>1919.03</td>\n",
       "    </tr>\n",
       "    <tr>\n",
       "      <th>10</th>\n",
       "      <td>IOWA</td>\n",
       "      <td>573</td>\n",
       "      <td>0.00</td>\n",
       "      <td>24.24</td>\n",
       "      <td>2.641518</td>\n",
       "      <td>1513.59</td>\n",
       "    </tr>\n",
       "  </tbody>\n",
       "</table>\n",
       "</div>"
      ],
      "text/plain": [
       "     EPISODE_ID  count   min     max      mean      sum\n",
       "0       ALABAMA    858  0.01  300.00  4.962179  4257.55\n",
       "1        KANSAS   1245  0.00   29.90  2.773775  3453.35\n",
       "2      MISSOURI    825  0.00   32.99  4.013309  3310.98\n",
       "3      ARKANSAS    650  0.01   37.00  4.863554  3161.31\n",
       "4   MISSISSIPPI    762  0.01   34.85  4.074843  3105.03\n",
       "5      OKLAHOMA    820  0.10   80.00  3.273683  2684.42\n",
       "6         TEXAS   1439  0.01   50.00  1.851473  2664.27\n",
       "7       GEORGIA    490  0.00  100.00  4.668490  2287.56\n",
       "8      ILLINOIS    727  0.00   28.40  2.781747  2022.33\n",
       "9     TENNESSEE    480  0.01   26.00  3.997979  1919.03\n",
       "10         IOWA    573  0.00   24.24  2.641518  1513.59"
      ]
     },
     "execution_count": 14,
     "metadata": {},
     "output_type": "execute_result"
    }
   ],
   "source": [
    "#1 Most Combined Damage: CALIFORNIA\t2006\tJanuary\tFlood\n",
    "CD1 = df1.groupby('EPISODE_ID').COMBINED_DAMAGE.agg(['count','min', 'max', 'mean', 'sum']).sort_values('sum', axis=0, ascending=False).reset_index().head(11)\n",
    "CD1"
   ]
  },
  {
   "cell_type": "code",
   "execution_count": 15,
   "metadata": {
    "collapsed": false
   },
   "outputs": [
    {
     "data": {
      "text/html": [
       "<div>\n",
       "<table border=\"1\" class=\"dataframe\">\n",
       "  <thead>\n",
       "    <tr style=\"text-align: right;\">\n",
       "      <th></th>\n",
       "      <th>EPISODE_ID</th>\n",
       "      <th>count</th>\n",
       "      <th>min</th>\n",
       "      <th>max</th>\n",
       "      <th>mean</th>\n",
       "      <th>sum</th>\n",
       "    </tr>\n",
       "  </thead>\n",
       "  <tbody>\n",
       "    <tr>\n",
       "      <th>0</th>\n",
       "      <td>TEXAS</td>\n",
       "      <td>45296</td>\n",
       "      <td>0</td>\n",
       "      <td>2400</td>\n",
       "      <td>0.072192</td>\n",
       "      <td>3270</td>\n",
       "    </tr>\n",
       "    <tr>\n",
       "      <th>1</th>\n",
       "      <td>UTAH</td>\n",
       "      <td>4158</td>\n",
       "      <td>0</td>\n",
       "      <td>300</td>\n",
       "      <td>0.133237</td>\n",
       "      <td>554</td>\n",
       "    </tr>\n",
       "    <tr>\n",
       "      <th>2</th>\n",
       "      <td>KANSAS</td>\n",
       "      <td>32234</td>\n",
       "      <td>0</td>\n",
       "      <td>36</td>\n",
       "      <td>0.013185</td>\n",
       "      <td>425</td>\n",
       "    </tr>\n",
       "    <tr>\n",
       "      <th>3</th>\n",
       "      <td>OKLAHOMA</td>\n",
       "      <td>21776</td>\n",
       "      <td>0</td>\n",
       "      <td>172</td>\n",
       "      <td>0.017129</td>\n",
       "      <td>373</td>\n",
       "    </tr>\n",
       "    <tr>\n",
       "      <th>4</th>\n",
       "      <td>CALIFORNIA</td>\n",
       "      <td>9462</td>\n",
       "      <td>0</td>\n",
       "      <td>65</td>\n",
       "      <td>0.038047</td>\n",
       "      <td>360</td>\n",
       "    </tr>\n",
       "    <tr>\n",
       "      <th>5</th>\n",
       "      <td>WISCONSIN</td>\n",
       "      <td>15485</td>\n",
       "      <td>0</td>\n",
       "      <td>60</td>\n",
       "      <td>0.022021</td>\n",
       "      <td>341</td>\n",
       "    </tr>\n",
       "    <tr>\n",
       "      <th>6</th>\n",
       "      <td>ARIZONA</td>\n",
       "      <td>4538</td>\n",
       "      <td>0</td>\n",
       "      <td>15</td>\n",
       "      <td>0.059057</td>\n",
       "      <td>268</td>\n",
       "    </tr>\n",
       "    <tr>\n",
       "      <th>7</th>\n",
       "      <td>ILLINOIS</td>\n",
       "      <td>23225</td>\n",
       "      <td>0</td>\n",
       "      <td>22</td>\n",
       "      <td>0.010807</td>\n",
       "      <td>251</td>\n",
       "    </tr>\n",
       "    <tr>\n",
       "      <th>8</th>\n",
       "      <td>PENNSYLVANIA</td>\n",
       "      <td>16458</td>\n",
       "      <td>0</td>\n",
       "      <td>35</td>\n",
       "      <td>0.014461</td>\n",
       "      <td>238</td>\n",
       "    </tr>\n",
       "    <tr>\n",
       "      <th>9</th>\n",
       "      <td>DELAWARE</td>\n",
       "      <td>1819</td>\n",
       "      <td>0</td>\n",
       "      <td>15</td>\n",
       "      <td>0.118197</td>\n",
       "      <td>215</td>\n",
       "    </tr>\n",
       "    <tr>\n",
       "      <th>10</th>\n",
       "      <td>NEW JERSEY</td>\n",
       "      <td>9798</td>\n",
       "      <td>0</td>\n",
       "      <td>20</td>\n",
       "      <td>0.021841</td>\n",
       "      <td>214</td>\n",
       "    </tr>\n",
       "  </tbody>\n",
       "</table>\n",
       "</div>"
      ],
      "text/plain": [
       "      EPISODE_ID  count  min   max      mean   sum\n",
       "0          TEXAS  45296    0  2400  0.072192  3270\n",
       "1           UTAH   4158    0   300  0.133237   554\n",
       "2         KANSAS  32234    0    36  0.013185   425\n",
       "3       OKLAHOMA  21776    0   172  0.017129   373\n",
       "4     CALIFORNIA   9462    0    65  0.038047   360\n",
       "5      WISCONSIN  15485    0    60  0.022021   341\n",
       "6        ARIZONA   4538    0    15  0.059057   268\n",
       "7       ILLINOIS  23225    0    22  0.010807   251\n",
       "8   PENNSYLVANIA  16458    0    35  0.014461   238\n",
       "9       DELAWARE   1819    0    15  0.118197   215\n",
       "10    NEW JERSEY   9798    0    20  0.021841   214"
      ]
     },
     "execution_count": 15,
     "metadata": {},
     "output_type": "execute_result"
    }
   ],
   "source": [
    "# MOST INJURIES- #1 TEXAS\t1998\tOctober\tFlood\tThe Great October Flood\n",
    "I1 = df1.groupby('EPISODE_ID').TOTAL_INJURIES.agg(['count','min', 'max', 'mean', 'sum']).sort_values('sum', axis=0, ascending=False).reset_index().head(11)\n",
    "I1"
   ]
  },
  {
   "cell_type": "code",
   "execution_count": null,
   "metadata": {
    "collapsed": false
   },
   "outputs": [],
   "source": [
    "#1 TOTAL_DEATHS: MISSOURI\t2011\tMay\tTornado - A strong upper level trough across the central..\n",
    "D1 = df1.groupby('EPISODE_ID').TOTAL_DEATHS.agg(['count','min', 'max', 'mean', 'sum']).sort_values('sum', axis=0, ascending=False).reset_index().head(11)\n",
    "D1"
   ]
  },
  {
   "cell_type": "code",
   "execution_count": null,
   "metadata": {
    "collapsed": false
   },
   "outputs": [],
   "source": [
    "# Most Casualties- #1 TEXAS\t1998\tOctober\tFlood\tThe Great October Flood\n",
    "\n",
    "X1 = df1.groupby('EPISODE_ID').CASUALTIES.agg(['count','min', 'max', 'mean', 'sum']).sort_values('sum', axis=0, ascending=False).reset_index().head(11)\n",
    "X1"
   ]
  },
  {
   "cell_type": "code",
   "execution_count": null,
   "metadata": {
    "collapsed": false
   },
   "outputs": [],
   "source": [
    "#1 TEXAS\t1998\tOctober\tFlood\tThe Great October Flood\n",
    "df1[df1.EPISODE_ID == 1150299]"
   ]
  },
  {
   "cell_type": "code",
   "execution_count": null,
   "metadata": {
    "collapsed": false
   },
   "outputs": [],
   "source": [
    "#2 TEXAS\t2008\tSeptember\tHurricane IKE - The eye of Hurricane Ike moved ashore in Galve...\n",
    "df1[df1.EPISODE_ID == 23202]"
   ]
  },
  {
   "cell_type": "code",
   "execution_count": null,
   "metadata": {
    "collapsed": false,
    "scrolled": false
   },
   "outputs": [],
   "source": [
    "#3 ALABAMA\t2011\tApril\tTornado: A powerful storm system crossed the Southeast \n",
    "df1[df1.EPISODE_ID == 50455]"
   ]
  },
  {
   "cell_type": "code",
   "execution_count": null,
   "metadata": {
    "collapsed": false
   },
   "outputs": [],
   "source": [
    "#4 MISSOURI\t2011\tMay\tTornado - A strong upper level trough across the central..\n",
    "df1[df1.EPISODE_ID == 49972]"
   ]
  },
  {
   "cell_type": "code",
   "execution_count": null,
   "metadata": {
    "collapsed": false
   },
   "outputs": [],
   "source": [
    "#5 \tMISSOURI\t2007\tAugust\tDrought The first and only Heat Wave of the summer sta...\n",
    "df1[df1.EPISODE_ID == 10217]"
   ]
  },
  {
   "cell_type": "code",
   "execution_count": null,
   "metadata": {
    "collapsed": false
   },
   "outputs": [],
   "source": [
    "#6 FLORIDA\t2004\tAugust\tHurricane The collective effects of Hurricane Charley\n",
    "df1[df1.EPISODE_ID == 178038]"
   ]
  },
  {
   "cell_type": "code",
   "execution_count": null,
   "metadata": {
    "collapsed": false
   },
   "outputs": [],
   "source": [
    "#7 TEXAS\t1998\tOctober\tFlood Flooding along the Guadalupe Rive\n",
    "df1[df1.EPISODE_ID == 1150309]"
   ]
  },
  {
   "cell_type": "code",
   "execution_count": null,
   "metadata": {
    "collapsed": false
   },
   "outputs": [],
   "source": [
    "#8 OKLAHOMA\t1999\tMay\tTornado Rocks Oklahoma - A record outbreak of tornadoes struck Oklaho.\n",
    "df1[df1.EPISODE_ID == 82875]"
   ]
  },
  {
   "cell_type": "code",
   "execution_count": null,
   "metadata": {
    "collapsed": false,
    "scrolled": true
   },
   "outputs": [],
   "source": [
    "#9 TEXAS\t1998\tOctober\tFlood - Flooding along the San Antonio River\n",
    "df1[df1.EPISODE_ID == 70489]"
   ]
  },
  {
   "cell_type": "code",
   "execution_count": null,
   "metadata": {
    "collapsed": false
   },
   "outputs": [],
   "source": [
    "#10 UTAH\t2013\tJanuary\tWinter Storm A rare freezing rain event\n",
    "df1[df1.EPISODE_ID == 71079]"
   ]
  },
  {
   "cell_type": "code",
   "execution_count": null,
   "metadata": {
    "collapsed": false
   },
   "outputs": [],
   "source": [
    "#11 TENNESSEE\t2011\tApril\tWinter Storm\n",
    "df1[df1.EPISODE_ID == 49915]"
   ]
  },
  {
   "cell_type": "code",
   "execution_count": null,
   "metadata": {
    "collapsed": false
   },
   "outputs": [],
   "source": [
    "#1 \tTEXAS\t1998\tOctober\tFlood\n",
    "df1[df1.EPISODE_ID == 1150299]"
   ]
  },
  {
   "cell_type": "code",
   "execution_count": null,
   "metadata": {
    "collapsed": false
   },
   "outputs": [],
   "source": []
  },
  {
   "cell_type": "markdown",
   "metadata": {},
   "source": [
    "df1[(df1.CASUALTIES == 2409) & (df1.EPISODE_ID == '23202')  \n",
    "    (df1.CASUALTIES == 1311) & (df1.EPISODE_ID == '49972') | \n",
    "    (df1.CASUALTIES == 852) & (df1.EPISODE_ID == '50455') |\n",
    "    (df1.CASUALTIES == 802) & (df1.EPISODE_ID == '1150299') | \n",
    "    (df1.CASUALTIES == 704) & (df1.EPISODE_ID == '178038') | \n",
    "    (df1.CASUALTIES == 521) & (df1.EPISODE_ID == '10217') | \n",
    "    (df1.CASUALTIES == 500) & (df1.EPISODE_ID == '1150309') | \n",
    "    (df1.CASUALTIES == 450) & (df1.EPISODE_ID == '79351')       \n",
    "    (df1.CASUALTIES == 441) & (df1.EPISODE_ID == '216163') | \n",
    "    (df1.CASUALTIES == 355) & (df1.EPISODE_ID == '75828')    \n",
    "   \n",
    "   \n",
    "   ].sort_values('CASUALTIES', axis=0, ascending=False)"
   ]
  },
  {
   "cell_type": "code",
   "execution_count": null,
   "metadata": {
    "collapsed": false
   },
   "outputs": [],
   "source": [
    "a1 = df1.groupby('EVENT_TYPE').CASUALTIES.agg(['max']).sort_values('max', axis=0, ascending=False).reset_index().head(10)\n",
    "a1"
   ]
  },
  {
   "cell_type": "code",
   "execution_count": null,
   "metadata": {
    "collapsed": false
   },
   "outputs": [],
   "source": [
    "df1[(df1.CASUALTIES == 2409) & (df1.EVENT_TYPE == 'Hurricane') | \n",
    "    (df1.CASUALTIES == 1311) & (df1.EVENT_TYPE == 'Tornado') | \n",
    "    (df1.CASUALTIES == 802) & (df1.EVENT_TYPE == 'Flood') |\n",
    "    (df1.CASUALTIES == 521) & (df1.EVENT_TYPE == 'Drought') | \n",
    "    (df1.CASUALTIES == 300) & (df1.EVENT_TYPE == 'Winter Storm') | \n",
    "    (df1.CASUALTIES == 180) & (df1.EVENT_TYPE == 'Tsunami') | \n",
    "    (df1.CASUALTIES == 104) & (df1.EVENT_TYPE == 'Wildfire') | \n",
    "    (df1.CASUALTIES == 101) & (df1.EVENT_TYPE == 'High Wind')       \n",
    "   ].sort_values('CASUALTIES', axis=0, ascending=False)"
   ]
  },
  {
   "cell_type": "code",
   "execution_count": null,
   "metadata": {
    "collapsed": false
   },
   "outputs": [],
   "source": [
    "c1 = df1.groupby('EVENT_TYPE').TOTAL_DEATHS.agg(['max']).sort_values('max', axis=0, ascending=False).reset_index().head(10)\n",
    "c1"
   ]
  },
  {
   "cell_type": "code",
   "execution_count": null,
   "metadata": {
    "collapsed": false
   },
   "outputs": [],
   "source": [
    "df1[(df1.TOTAL_DEATHS == 161) & (df1.EVENT_TYPE == 'Tornado') | \n",
    "    (df1.TOTAL_DEATHS == 93) & (df1.EVENT_TYPE == 'Drought') | \n",
    "    (df1.TOTAL_DEATHS == 32) & (df1.EVENT_TYPE == 'Tsunami') |\n",
    "    (df1.TOTAL_DEATHS == 23) & (df1.EVENT_TYPE == 'Flood') | \n",
    "    (df1.TOTAL_DEATHS == 22) & (df1.EVENT_TYPE == 'Tropical Storm') | \n",
    "    (df1.TOTAL_DEATHS == 19) & (df1.EVENT_TYPE == 'Heavy Rain') | \n",
    "    (df1.TOTAL_DEATHS == 19) & (df1.EVENT_TYPE == 'Wildfire') \n",
    "   ].sort_values('TOTAL_DEATHS', axis=0, ascending=False)"
   ]
  },
  {
   "cell_type": "code",
   "execution_count": null,
   "metadata": {
    "collapsed": false
   },
   "outputs": [],
   "source": [
    "b1 = df1.groupby('EVENT_TYPE').TOTAL_INJURIES.agg(['max']).sort_values('max', axis=0, ascending=False).reset_index().head(10)\n",
    "b1"
   ]
  },
  {
   "cell_type": "code",
   "execution_count": null,
   "metadata": {
    "collapsed": false
   },
   "outputs": [],
   "source": [
    "df1[(df1.TOTAL_INJURIES == 2400) & (df1.EVENT_TYPE == 'Hurricane') | \n",
    "    (df1.TOTAL_INJURIES == 1150) & (df1.EVENT_TYPE == 'Tornado') | \n",
    "    (df1.TOTAL_INJURIES == 800) & (df1.EVENT_TYPE == 'Flood') |\n",
    "    (df1.TOTAL_INJURIES == 519) & (df1.EVENT_TYPE == 'Drought') | \n",
    "    (df1.TOTAL_INJURIES == 300) & (df1.EVENT_TYPE == 'Winter Storm') | \n",
    "    (df1.TOTAL_INJURIES == 154) & (df1.EVENT_TYPE == 'Tropical Storm') | \n",
    "    (df1.TOTAL_INJURIES == 100) & (df1.EVENT_TYPE == 'High Wind') |\n",
    "    (df1.TOTAL_INJURIES == 148) & (df1.EVENT_TYPE == 'Tsunami') | \n",
    "    (df1.TOTAL_INJURIES == 90) & (df1.EVENT_TYPE == 'Wildfire') \n",
    "   ].sort_values('TOTAL_INJURIES', axis=0, ascending=False)"
   ]
  },
  {
   "cell_type": "code",
   "execution_count": null,
   "metadata": {
    "collapsed": false
   },
   "outputs": [],
   "source": [
    "d1 = df1.groupby('EVENT_TYPE').DAMAGE_PROPERTY.agg(['max']).sort_values('max', axis=0, ascending=False).reset_index().head(10)\n",
    "d1"
   ]
  },
  {
   "cell_type": "code",
   "execution_count": null,
   "metadata": {
    "collapsed": false
   },
   "outputs": [],
   "source": [
    "df1[(df1.DAMAGE_PROPERTY == 1.150000e+11) & (df1.EVENT_TYPE == 'Flood') | \n",
    "    (df1.DAMAGE_PROPERTY == 1.790000e+10) & (df1.EVENT_TYPE == 'Rip Current') | \n",
    "    (df1.DAMAGE_PROPERTY == 1.000000e+10) & (df1.EVENT_TYPE == 'Hurricane') |\n",
    "    (df1.DAMAGE_PROPERTY == 2.800000e+09) & (df1.EVENT_TYPE == 'Tornado') | \n",
    "    (df1.DAMAGE_PROPERTY == 1.800000e+09) & (df1.EVENT_TYPE == 'Winter Storm') | \n",
    "    (df1.DAMAGE_PROPERTY == 1.500000e+09) & (df1.EVENT_TYPE == 'High Wind') | \n",
    "    (df1.DAMAGE_PROPERTY == 1.500000e+09) & (df1.EVENT_TYPE == 'WildFire') |\n",
    "    (df1.DAMAGE_PROPERTY == 2.500000e+08) & (df1.EVENT_TYPE == 'Drought') | \n",
    "    (df1.DAMAGE_PROPERTY == 8.100000e+07) & (df1.EVENT_TYPE == 'Tsunami') \n",
    "   ].sort_values('DAMAGE_PROPERTY', axis=0, ascending=False)"
   ]
  },
  {
   "cell_type": "code",
   "execution_count": null,
   "metadata": {
    "collapsed": true
   },
   "outputs": [],
   "source": []
  }
 ],
 "metadata": {
  "anaconda-cloud": {},
  "kernelspec": {
   "display_name": "Python [Root]",
   "language": "python",
   "name": "Python [Root]"
  },
  "language_info": {
   "codemirror_mode": {
    "name": "ipython",
    "version": 2
   },
   "file_extension": ".py",
   "mimetype": "text/x-python",
   "name": "python",
   "nbconvert_exporter": "python",
   "pygments_lexer": "ipython2",
   "version": "2.7.12"
  }
 },
 "nbformat": 4,
 "nbformat_minor": 0
}
