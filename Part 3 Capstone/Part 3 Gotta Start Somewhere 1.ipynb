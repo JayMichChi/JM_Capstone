{
 "cells": [
  {
   "cell_type": "code",
   "execution_count": 4,
   "metadata": {
    "collapsed": false
   },
   "outputs": [
    {
     "data": {
      "text/plain": [
       "Unnamed: 0             int64\n",
       "begin_date_full       object\n",
       "STATE                 object\n",
       "EVENT_TYPE            object\n",
       "INJURIES_DIRECT        int64\n",
       "INJURIES_INDIRECT      int64\n",
       "DEATHS_DIRECT          int64\n",
       "DEATHS_INDIRECT        int64\n",
       "casualties             int64\n",
       "DAMAGE_PROPERTY      float64\n",
       "DAMAGE_CROPS         float64\n",
       "Combined_damage      float64\n",
       "dtype: object"
      ]
     },
     "execution_count": 4,
     "metadata": {},
     "output_type": "execute_result"
    }
   ],
   "source": [
    "# Richard/Haley, This is the first of two models that im exploring. It is Logistic regression, and im working out the tweaks\n",
    "# Here is my goal.  I want to be able to predict the casualities and property damage if i provide the storm event type (i have 48), state, and time of year\n",
    "#  1) I have casuality floats (which is a number of deaths and injurys) and I have property damage floats (which is a dollar amount) \n",
    "#  2) When i dummy out the property events (which i do below) i get 1's and 0's.\n",
    "#  3) Im embarrassed that after running my models, my inability to accurately interpret them is disconcerting. THis is MY problem, but could use some guidance\n",
    "\n",
    "\n",
    "# Single model\n",
    "\n",
    "import time\n",
    "import math\n",
    "import numpy as np\n",
    "from sklearn.metrics import log_loss\n",
    "from sklearn.feature_selection import SelectKBest\n",
    "from sklearn.feature_selection import f_classif\n",
    "from sklearn.cross_validation import train_test_split\n",
    "from sklearn.linear_model import LogisticRegression\n",
    "from sklearn.ensemble import RandomForestClassifier\n",
    "from sklearn.grid_search import GridSearchCV\n",
    "import pandas as pd\n",
    "df1 = pd.read_csv('data1.csv')\n",
    "df1.dtypes\n"
   ]
  },
  {
   "cell_type": "code",
   "execution_count": 5,
   "metadata": {
    "collapsed": false
   },
   "outputs": [
    {
     "name": "stdout",
     "output_type": "stream",
     "text": [
      "count    155000.0000\n",
      "mean      77499.5000\n",
      "std       44744.7902\n",
      "min           0.0000\n",
      "25%       38749.7500\n",
      "50%       77499.5000\n",
      "75%      116249.2500\n",
      "max      154999.0000\n",
      "Name: Unnamed: 0, dtype: float64\n",
      "count         155000\n",
      "unique          1186\n",
      "top       1998-11-10\n",
      "freq            1048\n",
      "Name: begin_date_full, dtype: object\n",
      "count     155000\n",
      "unique        56\n",
      "top        TEXAS\n",
      "freq       12751\n",
      "Name: STATE, dtype: object\n",
      "count                155000\n",
      "unique                   39\n",
      "top       Thunderstorm Wind\n",
      "freq                  34843\n",
      "Name: EVENT_TYPE, dtype: object\n",
      "count    155000.000000\n",
      "mean          0.120394\n",
      "std           4.422430\n",
      "min           0.000000\n",
      "25%           0.000000\n",
      "50%           0.000000\n",
      "75%           0.000000\n",
      "max         800.000000\n",
      "Name: INJURIES_DIRECT, dtype: float64\n",
      "count    155000.0\n",
      "mean          0.0\n",
      "std           0.0\n",
      "min           0.0\n",
      "25%           0.0\n",
      "50%           0.0\n",
      "75%           0.0\n",
      "max           0.0\n",
      "Name: INJURIES_INDIRECT, dtype: float64\n",
      "count    155000.000000\n",
      "mean          0.012445\n",
      "std           0.233363\n",
      "min           0.000000\n",
      "25%           0.000000\n",
      "50%           0.000000\n",
      "75%           0.000000\n",
      "max          32.000000\n",
      "Name: DEATHS_DIRECT, dtype: float64\n",
      "count    155000.0\n",
      "mean          0.0\n",
      "std           0.0\n",
      "min           0.0\n",
      "25%           0.0\n",
      "50%           0.0\n",
      "75%           0.0\n",
      "max           0.0\n",
      "Name: DEATHS_INDIRECT, dtype: float64\n",
      "count    155000.000000\n",
      "mean          0.132839\n",
      "std           4.482956\n",
      "min           0.000000\n",
      "25%           0.000000\n",
      "50%           0.000000\n",
      "75%           0.000000\n",
      "max         802.000000\n",
      "Name: casualties, dtype: float64\n",
      "count    1.550000e+05\n",
      "mean     1.766369e+05\n",
      "std      9.044872e+06\n",
      "min      0.000000e+00\n",
      "25%      0.000000e+00\n",
      "50%      0.000000e+00\n",
      "75%      1.000000e+02\n",
      "max      3.000000e+09\n",
      "Name: DAMAGE_PROPERTY, dtype: float64\n",
      "count    1.550000e+05\n",
      "mean     4.764160e+04\n",
      "std      2.595524e+06\n",
      "min      0.000000e+00\n",
      "25%      0.000000e+00\n",
      "50%      0.000000e+00\n",
      "75%      0.000000e+00\n",
      "max      5.000000e+08\n",
      "Name: DAMAGE_CROPS, dtype: float64\n",
      "count    1.550000e+05\n",
      "mean     2.242785e+05\n",
      "std      9.481437e+06\n",
      "min      0.000000e+00\n",
      "25%      0.000000e+00\n",
      "50%      0.000000e+00\n",
      "75%      1.000000e+03\n",
      "max      3.000000e+09\n",
      "Name: Combined_damage, dtype: float64\n"
     ]
    }
   ],
   "source": [
    "for column in df1.columns:\n",
    "    print df1[column].describe()"
   ]
  },
  {
   "cell_type": "code",
   "execution_count": 103,
   "metadata": {
    "collapsed": false
   },
   "outputs": [
    {
     "data": {
      "text/plain": [
       "(155000, 12)"
      ]
     },
     "execution_count": 103,
     "metadata": {},
     "output_type": "execute_result"
    }
   ],
   "source": [
    "df1.shape"
   ]
  },
  {
   "cell_type": "code",
   "execution_count": 104,
   "metadata": {
    "collapsed": false
   },
   "outputs": [],
   "source": [
    "df2 = pd.get_dummies(df1['EVENT_TYPE'], prefix=None, prefix_sep='_') "
   ]
  },
  {
   "cell_type": "code",
   "execution_count": 105,
   "metadata": {
    "collapsed": false
   },
   "outputs": [
    {
     "data": {
      "text/html": [
       "<div>\n",
       "<table border=\"1\" class=\"dataframe\">\n",
       "  <thead>\n",
       "    <tr style=\"text-align: right;\">\n",
       "      <th></th>\n",
       "      <th>Astronomical Low Tide</th>\n",
       "      <th>Avalanche</th>\n",
       "      <th>Blizzard</th>\n",
       "      <th>Coastal Flood</th>\n",
       "      <th>Cold/Wind Chill</th>\n",
       "      <th>Debris Flow</th>\n",
       "      <th>Dense Fog</th>\n",
       "      <th>Drought</th>\n",
       "      <th>Dust Devil</th>\n",
       "      <th>Dust Storm</th>\n",
       "      <th>...</th>\n",
       "      <th>Storm Surge/Tide</th>\n",
       "      <th>Strong Wind</th>\n",
       "      <th>Thunderstorm Wind</th>\n",
       "      <th>Tornado</th>\n",
       "      <th>Tropical Storm</th>\n",
       "      <th>Volcanic Ash</th>\n",
       "      <th>Waterspout</th>\n",
       "      <th>Wildfire</th>\n",
       "      <th>Winter Storm</th>\n",
       "      <th>Winter Weather</th>\n",
       "    </tr>\n",
       "  </thead>\n",
       "  <tbody>\n",
       "    <tr>\n",
       "      <th>0</th>\n",
       "      <td>0.0</td>\n",
       "      <td>0.0</td>\n",
       "      <td>0.0</td>\n",
       "      <td>0.0</td>\n",
       "      <td>0.0</td>\n",
       "      <td>0.0</td>\n",
       "      <td>0.0</td>\n",
       "      <td>0.0</td>\n",
       "      <td>0.0</td>\n",
       "      <td>0.0</td>\n",
       "      <td>...</td>\n",
       "      <td>0.0</td>\n",
       "      <td>0.0</td>\n",
       "      <td>0.0</td>\n",
       "      <td>0.0</td>\n",
       "      <td>0.0</td>\n",
       "      <td>0.0</td>\n",
       "      <td>0.0</td>\n",
       "      <td>0.0</td>\n",
       "      <td>1.0</td>\n",
       "      <td>0.0</td>\n",
       "    </tr>\n",
       "    <tr>\n",
       "      <th>1</th>\n",
       "      <td>0.0</td>\n",
       "      <td>0.0</td>\n",
       "      <td>0.0</td>\n",
       "      <td>0.0</td>\n",
       "      <td>0.0</td>\n",
       "      <td>0.0</td>\n",
       "      <td>0.0</td>\n",
       "      <td>0.0</td>\n",
       "      <td>0.0</td>\n",
       "      <td>0.0</td>\n",
       "      <td>...</td>\n",
       "      <td>0.0</td>\n",
       "      <td>0.0</td>\n",
       "      <td>0.0</td>\n",
       "      <td>0.0</td>\n",
       "      <td>0.0</td>\n",
       "      <td>0.0</td>\n",
       "      <td>0.0</td>\n",
       "      <td>0.0</td>\n",
       "      <td>0.0</td>\n",
       "      <td>1.0</td>\n",
       "    </tr>\n",
       "    <tr>\n",
       "      <th>2</th>\n",
       "      <td>0.0</td>\n",
       "      <td>0.0</td>\n",
       "      <td>0.0</td>\n",
       "      <td>0.0</td>\n",
       "      <td>0.0</td>\n",
       "      <td>0.0</td>\n",
       "      <td>0.0</td>\n",
       "      <td>0.0</td>\n",
       "      <td>0.0</td>\n",
       "      <td>0.0</td>\n",
       "      <td>...</td>\n",
       "      <td>0.0</td>\n",
       "      <td>0.0</td>\n",
       "      <td>0.0</td>\n",
       "      <td>0.0</td>\n",
       "      <td>0.0</td>\n",
       "      <td>0.0</td>\n",
       "      <td>0.0</td>\n",
       "      <td>0.0</td>\n",
       "      <td>1.0</td>\n",
       "      <td>0.0</td>\n",
       "    </tr>\n",
       "    <tr>\n",
       "      <th>3</th>\n",
       "      <td>0.0</td>\n",
       "      <td>0.0</td>\n",
       "      <td>1.0</td>\n",
       "      <td>0.0</td>\n",
       "      <td>0.0</td>\n",
       "      <td>0.0</td>\n",
       "      <td>0.0</td>\n",
       "      <td>0.0</td>\n",
       "      <td>0.0</td>\n",
       "      <td>0.0</td>\n",
       "      <td>...</td>\n",
       "      <td>0.0</td>\n",
       "      <td>0.0</td>\n",
       "      <td>0.0</td>\n",
       "      <td>0.0</td>\n",
       "      <td>0.0</td>\n",
       "      <td>0.0</td>\n",
       "      <td>0.0</td>\n",
       "      <td>0.0</td>\n",
       "      <td>0.0</td>\n",
       "      <td>0.0</td>\n",
       "    </tr>\n",
       "    <tr>\n",
       "      <th>4</th>\n",
       "      <td>0.0</td>\n",
       "      <td>0.0</td>\n",
       "      <td>0.0</td>\n",
       "      <td>0.0</td>\n",
       "      <td>0.0</td>\n",
       "      <td>0.0</td>\n",
       "      <td>0.0</td>\n",
       "      <td>0.0</td>\n",
       "      <td>0.0</td>\n",
       "      <td>0.0</td>\n",
       "      <td>...</td>\n",
       "      <td>0.0</td>\n",
       "      <td>0.0</td>\n",
       "      <td>0.0</td>\n",
       "      <td>0.0</td>\n",
       "      <td>0.0</td>\n",
       "      <td>0.0</td>\n",
       "      <td>0.0</td>\n",
       "      <td>0.0</td>\n",
       "      <td>1.0</td>\n",
       "      <td>0.0</td>\n",
       "    </tr>\n",
       "  </tbody>\n",
       "</table>\n",
       "<p>5 rows × 39 columns</p>\n",
       "</div>"
      ],
      "text/plain": [
       "   Astronomical Low Tide  Avalanche  Blizzard  Coastal Flood  Cold/Wind Chill  \\\n",
       "0                    0.0        0.0       0.0            0.0              0.0   \n",
       "1                    0.0        0.0       0.0            0.0              0.0   \n",
       "2                    0.0        0.0       0.0            0.0              0.0   \n",
       "3                    0.0        0.0       1.0            0.0              0.0   \n",
       "4                    0.0        0.0       0.0            0.0              0.0   \n",
       "\n",
       "   Debris Flow  Dense Fog  Drought  Dust Devil  Dust Storm       ...        \\\n",
       "0          0.0        0.0      0.0         0.0         0.0       ...         \n",
       "1          0.0        0.0      0.0         0.0         0.0       ...         \n",
       "2          0.0        0.0      0.0         0.0         0.0       ...         \n",
       "3          0.0        0.0      0.0         0.0         0.0       ...         \n",
       "4          0.0        0.0      0.0         0.0         0.0       ...         \n",
       "\n",
       "   Storm Surge/Tide  Strong Wind  Thunderstorm Wind  Tornado  Tropical Storm  \\\n",
       "0               0.0          0.0                0.0      0.0             0.0   \n",
       "1               0.0          0.0                0.0      0.0             0.0   \n",
       "2               0.0          0.0                0.0      0.0             0.0   \n",
       "3               0.0          0.0                0.0      0.0             0.0   \n",
       "4               0.0          0.0                0.0      0.0             0.0   \n",
       "\n",
       "   Volcanic Ash  Waterspout  Wildfire  Winter Storm  Winter Weather  \n",
       "0           0.0         0.0       0.0           1.0             0.0  \n",
       "1           0.0         0.0       0.0           0.0             1.0  \n",
       "2           0.0         0.0       0.0           1.0             0.0  \n",
       "3           0.0         0.0       0.0           0.0             0.0  \n",
       "4           0.0         0.0       0.0           1.0             0.0  \n",
       "\n",
       "[5 rows x 39 columns]"
      ]
     },
     "execution_count": 105,
     "metadata": {},
     "output_type": "execute_result"
    }
   ],
   "source": [
    "df2.head()"
   ]
  },
  {
   "cell_type": "code",
   "execution_count": 106,
   "metadata": {
    "collapsed": false
   },
   "outputs": [],
   "source": [
    "X = df2\n",
    "y = df1['casualties']\n"
   ]
  },
  {
   "cell_type": "code",
   "execution_count": 107,
   "metadata": {
    "collapsed": true
   },
   "outputs": [],
   "source": [
    "x_train, x_test, y_train, y_test = train_test_split(X, y)"
   ]
  },
  {
   "cell_type": "code",
   "execution_count": 108,
   "metadata": {
    "collapsed": false
   },
   "outputs": [
    {
     "name": "stdout",
     "output_type": "stream",
     "text": [
      "(116250, 39)\n",
      "(116250,)\n",
      "(38750, 39)\n",
      "(38750,)\n"
     ]
    }
   ],
   "source": [
    "print x_train.shape\n",
    "print y_train.shape\n",
    "print x_test.shape\n",
    "print y_test.shape"
   ]
  },
  {
   "cell_type": "code",
   "execution_count": 109,
   "metadata": {
    "collapsed": false
   },
   "outputs": [],
   "source": [
    "logit = LogisticRegression()"
   ]
  },
  {
   "cell_type": "code",
   "execution_count": 110,
   "metadata": {
    "collapsed": false
   },
   "outputs": [
    {
     "data": {
      "text/plain": [
       "LogisticRegression(C=1.0, class_weight=None, dual=False, fit_intercept=True,\n",
       "          intercept_scaling=1, max_iter=100, multi_class='ovr', n_jobs=1,\n",
       "          penalty='l2', random_state=None, solver='liblinear', tol=0.0001,\n",
       "          verbose=0, warm_start=False)"
      ]
     },
     "execution_count": 110,
     "metadata": {},
     "output_type": "execute_result"
    }
   ],
   "source": [
    "# Perform Train Test Split ( I will do K fold cross val below)\n",
    "logit.fit(x_train, y_train)"
   ]
  },
  {
   "cell_type": "code",
   "execution_count": 111,
   "metadata": {
    "collapsed": false,
    "scrolled": true
   },
   "outputs": [
    {
     "data": {
      "text/plain": [
       "0.97741935483870968"
      ]
     },
     "execution_count": 111,
     "metadata": {},
     "output_type": "execute_result"
    }
   ],
   "source": [
    "logit.score(x_train, y_train)"
   ]
  },
  {
   "cell_type": "code",
   "execution_count": 112,
   "metadata": {
    "collapsed": false
   },
   "outputs": [
    {
     "data": {
      "text/plain": [
       "0.97855483870967741"
      ]
     },
     "execution_count": 112,
     "metadata": {},
     "output_type": "execute_result"
    }
   ],
   "source": [
    "logit.score(x_test, y_test)"
   ]
  },
  {
   "cell_type": "code",
   "execution_count": 113,
   "metadata": {
    "collapsed": true
   },
   "outputs": [],
   "source": [
    "from sklearn.linear_model import LogisticRegression\n",
    "logit = LogisticRegression()"
   ]
  },
  {
   "cell_type": "code",
   "execution_count": 114,
   "metadata": {
    "collapsed": false
   },
   "outputs": [],
   "source": [
    "from sklearn.grid_search import GridSearchCV\n",
    "from sklearn.linear_model import LogisticRegression\n",
    "\n",
    "param_grid = {'C': [0.001, 0.01, 0.1, 1, 10, 100, 1000]}\n",
    "clf = GridSearchCV(LogisticRegression(penalty='l2'), param_grid)\n",
    "# GridSearchCV(cv=None,\n",
    "#        estimator=LogisticRegression(C=1.0, intercept_scaling=1, dual=False, fit_intercept=True,\n",
    "#           penalty='l2', tol=0.0001),\n",
    "#        param_grid={'C': [0.001, 0.01, 0.1, 1, 10, 100, 1000]})"
   ]
  },
  {
   "cell_type": "code",
   "execution_count": 115,
   "metadata": {
    "collapsed": false
   },
   "outputs": [
    {
     "data": {
      "text/plain": [
       "GridSearchCV(cv=None, error_score='raise',\n",
       "       estimator=LogisticRegression(C=1.0, class_weight=None, dual=False, fit_intercept=True,\n",
       "          intercept_scaling=1, max_iter=100, multi_class='ovr', n_jobs=1,\n",
       "          penalty='l2', random_state=None, solver='liblinear', tol=0.0001,\n",
       "          verbose=0, warm_start=False),\n",
       "       fit_params={}, iid=True, n_jobs=1,\n",
       "       param_grid={'C': [0.001, 0.01, 0.1, 1, 10, 100, 1000]},\n",
       "       pre_dispatch='2*n_jobs', refit=True, scoring=None, verbose=0)"
      ]
     },
     "execution_count": 115,
     "metadata": {},
     "output_type": "execute_result"
    }
   ],
   "source": [
    "clf.fit(X, y)"
   ]
  },
  {
   "cell_type": "code",
   "execution_count": 116,
   "metadata": {
    "collapsed": false
   },
   "outputs": [
    {
     "data": {
      "text/plain": [
       "0.97770322580645164"
      ]
     },
     "execution_count": 116,
     "metadata": {},
     "output_type": "execute_result"
    }
   ],
   "source": [
    "clf.best_score_"
   ]
  },
  {
   "cell_type": "code",
   "execution_count": 117,
   "metadata": {
    "collapsed": false
   },
   "outputs": [
    {
     "data": {
      "text/plain": [
       "LogisticRegression(C=1, class_weight=None, dual=False, fit_intercept=True,\n",
       "          intercept_scaling=1, max_iter=100, multi_class='ovr', n_jobs=1,\n",
       "          penalty='l2', random_state=None, solver='liblinear', tol=0.0001,\n",
       "          verbose=0, warm_start=False)"
      ]
     },
     "execution_count": 117,
     "metadata": {},
     "output_type": "execute_result"
    }
   ],
   "source": [
    "clf.best_estimator_"
   ]
  },
  {
   "cell_type": "code",
   "execution_count": 101,
   "metadata": {
    "collapsed": false
   },
   "outputs": [
    {
     "ename": "NotFittedError",
     "evalue": "This LogisticRegression instance is not fitted yet",
     "output_type": "error",
     "traceback": [
      "\u001b[0;31m---------------------------------------------------------------------------\u001b[0m",
      "\u001b[0;31mNotFittedError\u001b[0m                            Traceback (most recent call last)",
      "\u001b[0;32m<ipython-input-101-c1e1bf2bd693>\u001b[0m in \u001b[0;36m<module>\u001b[0;34m()\u001b[0m\n\u001b[0;32m----> 1\u001b[0;31m \u001b[0mpredictions\u001b[0m \u001b[0;34m=\u001b[0m \u001b[0mlogit\u001b[0m\u001b[0;34m.\u001b[0m\u001b[0mpredict\u001b[0m\u001b[0;34m(\u001b[0m\u001b[0mx_test\u001b[0m\u001b[0;34m)\u001b[0m\u001b[0;34m\u001b[0m\u001b[0m\n\u001b[0m\u001b[1;32m      2\u001b[0m \u001b[0;32mprint\u001b[0m \u001b[0mpredictions\u001b[0m\u001b[0;34m\u001b[0m\u001b[0m\n",
      "\u001b[0;32m/Users/ugp/anaconda2/lib/python2.7/site-packages/sklearn/linear_model/base.pyc\u001b[0m in \u001b[0;36mpredict\u001b[0;34m(self, X)\u001b[0m\n\u001b[1;32m    266\u001b[0m             \u001b[0mPredicted\u001b[0m \u001b[0;32mclass\u001b[0m \u001b[0mlabel\u001b[0m \u001b[0mper\u001b[0m \u001b[0msample\u001b[0m\u001b[0;34m.\u001b[0m\u001b[0;34m\u001b[0m\u001b[0m\n\u001b[1;32m    267\u001b[0m         \"\"\"\n\u001b[0;32m--> 268\u001b[0;31m         \u001b[0mscores\u001b[0m \u001b[0;34m=\u001b[0m \u001b[0mself\u001b[0m\u001b[0;34m.\u001b[0m\u001b[0mdecision_function\u001b[0m\u001b[0;34m(\u001b[0m\u001b[0mX\u001b[0m\u001b[0;34m)\u001b[0m\u001b[0;34m\u001b[0m\u001b[0m\n\u001b[0m\u001b[1;32m    269\u001b[0m         \u001b[0;32mif\u001b[0m \u001b[0mlen\u001b[0m\u001b[0;34m(\u001b[0m\u001b[0mscores\u001b[0m\u001b[0;34m.\u001b[0m\u001b[0mshape\u001b[0m\u001b[0;34m)\u001b[0m \u001b[0;34m==\u001b[0m \u001b[0;36m1\u001b[0m\u001b[0;34m:\u001b[0m\u001b[0;34m\u001b[0m\u001b[0m\n\u001b[1;32m    270\u001b[0m             \u001b[0mindices\u001b[0m \u001b[0;34m=\u001b[0m \u001b[0;34m(\u001b[0m\u001b[0mscores\u001b[0m \u001b[0;34m>\u001b[0m \u001b[0;36m0\u001b[0m\u001b[0;34m)\u001b[0m\u001b[0;34m.\u001b[0m\u001b[0mastype\u001b[0m\u001b[0;34m(\u001b[0m\u001b[0mnp\u001b[0m\u001b[0;34m.\u001b[0m\u001b[0mint\u001b[0m\u001b[0;34m)\u001b[0m\u001b[0;34m\u001b[0m\u001b[0m\n",
      "\u001b[0;32m/Users/ugp/anaconda2/lib/python2.7/site-packages/sklearn/linear_model/base.pyc\u001b[0m in \u001b[0;36mdecision_function\u001b[0;34m(self, X)\u001b[0m\n\u001b[1;32m    240\u001b[0m         \u001b[0;32mif\u001b[0m \u001b[0;32mnot\u001b[0m \u001b[0mhasattr\u001b[0m\u001b[0;34m(\u001b[0m\u001b[0mself\u001b[0m\u001b[0;34m,\u001b[0m \u001b[0;34m'coef_'\u001b[0m\u001b[0;34m)\u001b[0m \u001b[0;32mor\u001b[0m \u001b[0mself\u001b[0m\u001b[0;34m.\u001b[0m\u001b[0mcoef_\u001b[0m \u001b[0;32mis\u001b[0m \u001b[0mNone\u001b[0m\u001b[0;34m:\u001b[0m\u001b[0;34m\u001b[0m\u001b[0m\n\u001b[1;32m    241\u001b[0m             raise NotFittedError(\"This %(name)s instance is not fitted \"\n\u001b[0;32m--> 242\u001b[0;31m                                  \"yet\" % {'name': type(self).__name__})\n\u001b[0m\u001b[1;32m    243\u001b[0m \u001b[0;34m\u001b[0m\u001b[0m\n\u001b[1;32m    244\u001b[0m         \u001b[0mX\u001b[0m \u001b[0;34m=\u001b[0m \u001b[0mcheck_array\u001b[0m\u001b[0;34m(\u001b[0m\u001b[0mX\u001b[0m\u001b[0;34m,\u001b[0m \u001b[0maccept_sparse\u001b[0m\u001b[0;34m=\u001b[0m\u001b[0;34m'csr'\u001b[0m\u001b[0;34m)\u001b[0m\u001b[0;34m\u001b[0m\u001b[0m\n",
      "\u001b[0;31mNotFittedError\u001b[0m: This LogisticRegression instance is not fitted yet"
     ]
    }
   ],
   "source": [
    "predictions = logit.predict(x_test)\n",
    "print predictions"
   ]
  },
  {
   "cell_type": "code",
   "execution_count": 118,
   "metadata": {
    "collapsed": false
   },
   "outputs": [],
   "source": [
    "import numpy as np\n",
    "import pandas as pd\n",
    "from scipy import stats\n",
    "from sklearn import datasets\n",
    "import statsmodels.api as sm\n",
    "import patsy\n",
    "% matplotlib inline\n",
    "\n",
    "from matplotlib import pyplot as plt\n"
   ]
  },
  {
   "cell_type": "code",
   "execution_count": 119,
   "metadata": {
    "collapsed": false
   },
   "outputs": [
    {
     "name": "stdout",
     "output_type": "stream",
     "text": [
      "                            OLS Regression Results                            \n",
      "==============================================================================\n",
      "Dep. Variable:             casualties   R-squared:                       0.002\n",
      "Model:                            OLS   Adj. R-squared:                  0.002\n",
      "Method:                 Least Squares   F-statistic:                     10.01\n",
      "Date:                Mon, 05 Dec 2016   Prob (F-statistic):           5.83e-58\n",
      "Time:                        09:37:18   Log-Likelihood:            -4.5229e+05\n",
      "No. Observations:              155000   AIC:                         9.047e+05\n",
      "Df Residuals:                  154961   BIC:                         9.050e+05\n",
      "Df Model:                          38                                         \n",
      "Covariance Type:            nonrobust                                         \n",
      "=========================================================================================\n",
      "                            coef    std err          t      P>|t|      [95.0% Conf. Int.]\n",
      "-----------------------------------------------------------------------------------------\n",
      "Astronomical Low Tide          0      2.003          0      1.000        -3.925     3.925\n",
      "Avalanche                 1.4318      0.675      2.121      0.034         0.109     2.755\n",
      "Blizzard                  0.1423      0.083      1.710      0.087        -0.021     0.305\n",
      "Coastal Flood             0.0308      0.210      0.147      0.883        -0.381     0.443\n",
      "Cold/Wind Chill           0.0412      0.063      0.656      0.512        -0.082     0.165\n",
      "Debris Flow               0.1957      0.660      0.296      0.767        -1.098     1.490\n",
      "Dense Fog                 0.2973      0.126      2.364      0.018         0.051     0.544\n",
      "Drought                        0      0.079          0      1.000        -0.154     0.154\n",
      "Dust Devil                0.1600      0.896      0.179      0.858        -1.595     1.915\n",
      "Dust Storm                4.2593      0.862      4.942      0.000         2.570     5.948\n",
      "Flash Flood               0.5176      0.044     11.801      0.000         0.432     0.604\n",
      "Flood                     0.3008      0.054      5.566      0.000         0.195     0.407\n",
      "Freezing Fog              0.0500      1.001      0.050      0.960        -1.913     2.013\n",
      "Frost/Freeze              0.0157      0.281      0.056      0.955        -0.535     0.566\n",
      "Funnel Cloud              0.0009      0.133      0.007      0.995        -0.259     0.261\n",
      "Hail                      0.0040      0.025      0.165      0.869        -0.044     0.052\n",
      "Heat                      0.5962      0.087      6.861      0.000         0.426     0.767\n",
      "Heavy Rain                0.0456      0.091      0.500      0.617        -0.133     0.224\n",
      "Heavy Snow                0.0404      0.042      0.959      0.338        -0.042     0.123\n",
      "High Surf                 0.0643      0.164      0.392      0.695        -0.257     0.386\n",
      "High Wind                 0.0413      0.046      0.905      0.366        -0.048     0.131\n",
      "Hurricane (Typhoon)       0.1343      0.223      0.601      0.548        -0.303     0.572\n",
      "Ice Storm                 0.0845      0.082      1.037      0.300        -0.075     0.244\n",
      "Lake-Effect Snow               0      0.387          0      1.000        -0.758     0.758\n",
      "Lightning                 0.3865      0.086      4.501      0.000         0.218     0.555\n",
      "Marine High Wind          1.5000      3.166      0.474      0.636        -4.706     7.706\n",
      "Rip Current               1.6979      0.457      3.715      0.000         0.802     2.594\n",
      "Seiche                         0      1.493          0      1.000        -2.926     2.926\n",
      "Sleet                          0      0.416          0      1.000        -0.815     0.815\n",
      "Storm Surge/Tide          0.2544      0.419      0.607      0.544        -0.568     1.076\n",
      "Strong Wind               0.0366      0.097      0.377      0.706        -0.154     0.227\n",
      "Thunderstorm Wind         0.0498      0.024      2.076      0.038         0.003     0.097\n",
      "Tornado                   0.9774      0.068     14.369      0.000         0.844     1.111\n",
      "Tropical Storm            0.2831      0.272      1.043      0.297        -0.249     0.815\n",
      "Volcanic Ash                   0      3.166          0      1.000        -6.206     6.206\n",
      "Waterspout                0.0018      0.189      0.009      0.992        -0.369     0.373\n",
      "Wildfire                  0.5830      0.285      2.046      0.041         0.025     1.141\n",
      "Winter Storm              0.0845      0.043      1.953      0.051        -0.000     0.169\n",
      "Winter Weather            0.1351      0.077      1.759      0.079        -0.015     0.286\n",
      "==============================================================================\n",
      "Omnibus:                   629410.066   Durbin-Watson:                   1.269\n",
      "Prob(Omnibus):                  0.000   Jarque-Bera (JB):    1329719431119.255\n",
      "Skew:                         107.553   Prob(JB):                         0.00\n",
      "Kurtosis:                   14350.326   Cond. No.                         132.\n",
      "==============================================================================\n",
      "\n",
      "Warnings:\n",
      "[1] Standard Errors assume that the covariance matrix of the errors is correctly specified.\n"
     ]
    }
   ],
   "source": [
    "mod = sm.OLS(y,X)    # Describe model\n",
    "res = mod.fit()       # Fit model\n",
    "print res.summary()   # Summarize model"
   ]
  },
  {
   "cell_type": "code",
   "execution_count": 120,
   "metadata": {
    "collapsed": false
   },
   "outputs": [
    {
     "name": "stdout",
     "output_type": "stream",
     "text": [
      "                            OLS Regression Results                            \n",
      "==============================================================================\n",
      "Dep. Variable:             casualties   R-squared:                       0.002\n",
      "Model:                            OLS   Adj. R-squared:                  0.002\n",
      "Method:                 Least Squares   F-statistic:                     10.01\n",
      "Date:                Mon, 05 Dec 2016   Prob (F-statistic):           5.83e-58\n",
      "Time:                        09:37:18   Log-Likelihood:            -4.5229e+05\n",
      "No. Observations:              155000   AIC:                         9.047e+05\n",
      "Df Residuals:                  154961   BIC:                         9.050e+05\n",
      "Df Model:                          38                                         \n",
      "Covariance Type:            nonrobust                                         \n",
      "=========================================================================================\n",
      "                            coef    std err          t      P>|t|      [95.0% Conf. Int.]\n",
      "-----------------------------------------------------------------------------------------\n",
      "Astronomical Low Tide          0      2.003          0      1.000        -3.925     3.925\n",
      "Avalanche                 1.4318      0.675      2.121      0.034         0.109     2.755\n",
      "Blizzard                  0.1423      0.083      1.710      0.087        -0.021     0.305\n",
      "Coastal Flood             0.0308      0.210      0.147      0.883        -0.381     0.443\n",
      "Cold/Wind Chill           0.0412      0.063      0.656      0.512        -0.082     0.165\n",
      "Debris Flow               0.1957      0.660      0.296      0.767        -1.098     1.490\n",
      "Dense Fog                 0.2973      0.126      2.364      0.018         0.051     0.544\n",
      "Drought                        0      0.079          0      1.000        -0.154     0.154\n",
      "Dust Devil                0.1600      0.896      0.179      0.858        -1.595     1.915\n",
      "Dust Storm                4.2593      0.862      4.942      0.000         2.570     5.948\n",
      "Flash Flood               0.5176      0.044     11.801      0.000         0.432     0.604\n",
      "Flood                     0.3008      0.054      5.566      0.000         0.195     0.407\n",
      "Freezing Fog              0.0500      1.001      0.050      0.960        -1.913     2.013\n",
      "Frost/Freeze              0.0157      0.281      0.056      0.955        -0.535     0.566\n",
      "Funnel Cloud              0.0009      0.133      0.007      0.995        -0.259     0.261\n",
      "Hail                      0.0040      0.025      0.165      0.869        -0.044     0.052\n",
      "Heat                      0.5962      0.087      6.861      0.000         0.426     0.767\n",
      "Heavy Rain                0.0456      0.091      0.500      0.617        -0.133     0.224\n",
      "Heavy Snow                0.0404      0.042      0.959      0.338        -0.042     0.123\n",
      "High Surf                 0.0643      0.164      0.392      0.695        -0.257     0.386\n",
      "High Wind                 0.0413      0.046      0.905      0.366        -0.048     0.131\n",
      "Hurricane (Typhoon)       0.1343      0.223      0.601      0.548        -0.303     0.572\n",
      "Ice Storm                 0.0845      0.082      1.037      0.300        -0.075     0.244\n",
      "Lake-Effect Snow               0      0.387          0      1.000        -0.758     0.758\n",
      "Lightning                 0.3865      0.086      4.501      0.000         0.218     0.555\n",
      "Marine High Wind          1.5000      3.166      0.474      0.636        -4.706     7.706\n",
      "Rip Current               1.6979      0.457      3.715      0.000         0.802     2.594\n",
      "Seiche                         0      1.493          0      1.000        -2.926     2.926\n",
      "Sleet                          0      0.416          0      1.000        -0.815     0.815\n",
      "Storm Surge/Tide          0.2544      0.419      0.607      0.544        -0.568     1.076\n",
      "Strong Wind               0.0366      0.097      0.377      0.706        -0.154     0.227\n",
      "Thunderstorm Wind         0.0498      0.024      2.076      0.038         0.003     0.097\n",
      "Tornado                   0.9774      0.068     14.369      0.000         0.844     1.111\n",
      "Tropical Storm            0.2831      0.272      1.043      0.297        -0.249     0.815\n",
      "Volcanic Ash                   0      3.166          0      1.000        -6.206     6.206\n",
      "Waterspout                0.0018      0.189      0.009      0.992        -0.369     0.373\n",
      "Wildfire                  0.5830      0.285      2.046      0.041         0.025     1.141\n",
      "Winter Storm              0.0845      0.043      1.953      0.051        -0.000     0.169\n",
      "Winter Weather            0.1351      0.077      1.759      0.079        -0.015     0.286\n",
      "==============================================================================\n",
      "Omnibus:                   629410.066   Durbin-Watson:                   1.269\n",
      "Prob(Omnibus):                  0.000   Jarque-Bera (JB):    1329719431119.255\n",
      "Skew:                         107.553   Prob(JB):                         0.00\n",
      "Kurtosis:                   14350.326   Cond. No.                         132.\n",
      "==============================================================================\n",
      "\n",
      "Warnings:\n",
      "[1] Standard Errors assume that the covariance matrix of the errors is correctly specified.\n"
     ]
    }
   ],
   "source": [
    "mod = sm.OLS(y,X)    # Describe model\n",
    "print res.summary()   # Summarize model"
   ]
  },
  {
   "cell_type": "code",
   "execution_count": 121,
   "metadata": {
    "collapsed": false
   },
   "outputs": [
    {
     "data": {
      "text/plain": [
       "Astronomical Low Tide    0.000000\n",
       "Lake-Effect Snow         0.000000\n",
       "Seiche                   0.000000\n",
       "Drought                  0.000000\n",
       "Sleet                    0.000000\n",
       "Volcanic Ash             0.000000\n",
       "Funnel Cloud             0.000876\n",
       "Waterspout               0.001786\n",
       "Hail                     0.004050\n",
       "Frost/Freeze             0.015748\n",
       "Coastal Flood            0.030837\n",
       "Strong Wind              0.036603\n",
       "Heavy Snow               0.040364\n",
       "Cold/Wind Chill          0.041239\n",
       "High Wind                0.041252\n",
       "Heavy Rain               0.045624\n",
       "Thunderstorm Wind        0.049795\n",
       "Freezing Fog             0.050000\n",
       "High Surf                0.064343\n",
       "Ice Storm                0.084521\n",
       "Winter Storm             0.084524\n",
       "Hurricane (Typhoon)      0.134328\n",
       "Winter Weather           0.135119\n",
       "Blizzard                 0.142265\n",
       "Dust Devil               0.160000\n",
       "Debris Flow              0.195652\n",
       "Storm Surge/Tide         0.254386\n",
       "Tropical Storm           0.283088\n",
       "Dense Fog                0.297319\n",
       "Flood                    0.300845\n",
       "Lightning                0.386539\n",
       "Flash Flood              0.517605\n",
       "Wildfire                 0.582996\n",
       "Heat                     0.596234\n",
       "Tornado                  0.977388\n",
       "Avalanche                1.431818\n",
       "Marine High Wind         1.500000\n",
       "Rip Current              1.697917\n",
       "Dust Storm               4.259259\n",
       "dtype: float64"
      ]
     },
     "execution_count": 121,
     "metadata": {},
     "output_type": "execute_result"
    }
   ],
   "source": [
    "res.params.sort_values()"
   ]
  },
  {
   "cell_type": "code",
   "execution_count": null,
   "metadata": {
    "collapsed": true
   },
   "outputs": [],
   "source": []
  },
  {
   "cell_type": "code",
   "execution_count": null,
   "metadata": {
    "collapsed": true
   },
   "outputs": [],
   "source": []
  }
 ],
 "metadata": {
  "anaconda-cloud": {},
  "kernelspec": {
   "display_name": "Python [Root]",
   "language": "python",
   "name": "Python [Root]"
  },
  "language_info": {
   "codemirror_mode": {
    "name": "ipython",
    "version": 2
   },
   "file_extension": ".py",
   "mimetype": "text/x-python",
   "name": "python",
   "nbconvert_exporter": "python",
   "pygments_lexer": "ipython2",
   "version": "2.7.12"
  }
 },
 "nbformat": 4,
 "nbformat_minor": 0
}
