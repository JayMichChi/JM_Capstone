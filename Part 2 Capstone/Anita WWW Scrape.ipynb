{
 "cells": [
  {
   "cell_type": "code",
   "execution_count": 71,
   "metadata": {
    "collapsed": true
   },
   "outputs": [],
   "source": [
    "data1 = [] #This is my list. my goal is to have a list of dictionaries"
   ]
  },
  {
   "cell_type": "code",
   "execution_count": 72,
   "metadata": {
    "collapsed": false
   },
   "outputs": [
    {
     "data": {
      "text/plain": [
       "['https://www.petfinder.com/pet-search?query_id=F50F8720-B80D-11E6-A332-7FB7A27EC92C&page_number=1']"
      ]
     },
     "execution_count": 72,
     "metadata": {},
     "output_type": "execute_result"
    }
   ],
   "source": [
    "import pandas as pd\n",
    "import time\n",
    "url_list = ['https://www.petfinder.com/pet-search?query_id=F50F8720-B80D-11E6-A332-7FB7A27EC92C&page_number=1']\n",
    "web_count= 1\n",
    "for pages in range(2,2):\n",
    "    web_count= 1 + web_count\n",
    "    count_update=str(web_count)\n",
    "    base_url = 'https://www.petfinder.com/pet-search?query_id=F50F8720-B80D-11E6-A332-7FB7A27EC92C&page_number=' + count_update \n",
    "    url_list.append(base_url)\n",
    "url_list\n",
    "# This works wonderfully!"
   ]
  },
  {
   "cell_type": "code",
   "execution_count": 73,
   "metadata": {
    "collapsed": true
   },
   "outputs": [],
   "source": [
    "import requests\n",
    "import bs4\n",
    "from bs4 import BeautifulSoup\n",
    "import urllib2  "
   ]
  },
  {
   "cell_type": "code",
   "execution_count": null,
   "metadata": {
    "collapsed": true
   },
   "outputs": [],
   "source": []
  },
  {
   "cell_type": "code",
   "execution_count": 74,
   "metadata": {
    "collapsed": false
   },
   "outputs": [],
   "source": [
    "#This is my one time function that will run my scrape\n",
    "# for url in url_list:\n",
    "\n",
    "def get_page_results(url):\n",
    "    page = urllib2.urlopen(url).read() \n",
    "    soup = BeautifulSoup(page, 'html.parser')\n",
    "    divtag = soup.find_all('figure')\n",
    "    print divtag\n",
    "    for row in divtag: \n",
    "        print row, '/n/n'\n",
    "        row_values = {} #This is my dictionary that will be imbedded into my list 'data'\n",
    "#         row_values['name']= row.find_all(\"pet-name-container\",{\"p class\":\"breed\"})[0].text\n",
    "#         row_values['company']= row.find_all(\"span\",{\"class\":\"company\"})[0].text\n",
    "#         row_values['location'] = row.find_all(\"span\",{\"class\":\"location\"})[0].text\n",
    "#         row_values['summary'] = row.find_all(\"span\",{\"class\":\"summary\"})[0].text\n",
    "\n",
    "        data1.append(row_values)\n",
    "    time.sleep(1.0)\n",
    "    return data1\n",
    "    "
   ]
  },
  {
   "cell_type": "code",
   "execution_count": 75,
   "metadata": {
    "collapsed": false
   },
   "outputs": [
    {
     "name": "stdout",
     "output_type": "stream",
     "text": [
      "[]\n"
     ]
    }
   ],
   "source": [
    "data1=get_page_results('https://www.petfinder.com/pet-search?location=60605&animal=cat&breed=&filtersUpdated=false&distance=&name=black')"
   ]
  },
  {
   "cell_type": "code",
   "execution_count": 52,
   "metadata": {
    "collapsed": false
   },
   "outputs": [
    {
     "data": {
      "text/plain": [
       "[]"
      ]
     },
     "execution_count": 52,
     "metadata": {},
     "output_type": "execute_result"
    }
   ],
   "source": [
    "data1"
   ]
  },
  {
   "cell_type": "code",
   "execution_count": 25,
   "metadata": {
    "collapsed": false
   },
   "outputs": [],
   "source": [
    "import pandas as pd\n",
    "df = pd.DataFrame(data1)"
   ]
  },
  {
   "cell_type": "code",
   "execution_count": 26,
   "metadata": {
    "collapsed": false
   },
   "outputs": [
    {
     "data": {
      "text/html": [
       "<div>\n",
       "<table border=\"1\" class=\"dataframe\">\n",
       "  <thead>\n",
       "    <tr style=\"text-align: right;\">\n",
       "      <th></th>\n",
       "    </tr>\n",
       "  </thead>\n",
       "  <tbody>\n",
       "  </tbody>\n",
       "</table>\n",
       "</div>"
      ],
      "text/plain": [
       "Empty DataFrame\n",
       "Columns: []\n",
       "Index: []"
      ]
     },
     "execution_count": 26,
     "metadata": {},
     "output_type": "execute_result"
    }
   ],
   "source": [
    "df.head()"
   ]
  },
  {
   "cell_type": "code",
   "execution_count": 14,
   "metadata": {
    "collapsed": false
   },
   "outputs": [
    {
     "name": "stderr",
     "output_type": "stream",
     "text": [
      "/Users/ugp/anaconda2/lib/python2.7/site-packages/bs4/__init__.py:166: UserWarning: No parser was explicitly specified, so I'm using the best available HTML parser for this system (\"lxml\"). This usually isn't a problem, but if you run this code on another system, or in a different virtual environment, it may use a different parser and behave differently.\n",
      "\n",
      "To get rid of this warning, change this:\n",
      "\n",
      " BeautifulSoup([your markup])\n",
      "\n",
      "to this:\n",
      "\n",
      " BeautifulSoup([your markup], \"lxml\")\n",
      "\n",
      "  markup_type=markup_type))\n"
     ]
    }
   ],
   "source": [
    "page = urllib2.urlopen('https://www.petfinder.com/pet-search?query_id=6E5838E2-B8C8-11E6-887D-8AB7A27EC92C&page_number=1').read() \n",
    "soup = BeautifulSoup(page)     \n",
    "divtag = soup.find_all('div', {'class': 'adoptablePets-item'})\n",
    "    \n",
    "for row in divtag:\n",
    "    print row.prettify()"
   ]
  },
  {
   "cell_type": "code",
   "execution_count": 16,
   "metadata": {
    "collapsed": false
   },
   "outputs": [
    {
     "ename": "AttributeError",
     "evalue": "'Doctype' object has no attribute 'prettify'",
     "output_type": "error",
     "traceback": [
      "\u001b[0;31m---------------------------------------------------------------------------\u001b[0m",
      "\u001b[0;31mAttributeError\u001b[0m                            Traceback (most recent call last)",
      "\u001b[0;32m<ipython-input-16-71824059d5dd>\u001b[0m in \u001b[0;36m<module>\u001b[0;34m()\u001b[0m\n\u001b[1;32m      2\u001b[0m \u001b[0msoup\u001b[0m \u001b[0;34m=\u001b[0m \u001b[0mBeautifulSoup\u001b[0m\u001b[0;34m(\u001b[0m\u001b[0mpage\u001b[0m\u001b[0;34m)\u001b[0m\u001b[0;34m\u001b[0m\u001b[0m\n\u001b[1;32m      3\u001b[0m \u001b[0;32mfor\u001b[0m \u001b[0mrow\u001b[0m \u001b[0;32min\u001b[0m \u001b[0msoup\u001b[0m\u001b[0;34m:\u001b[0m\u001b[0;34m\u001b[0m\u001b[0m\n\u001b[0;32m----> 4\u001b[0;31m     \u001b[0;32mprint\u001b[0m \u001b[0mrow\u001b[0m\u001b[0;34m.\u001b[0m\u001b[0mprettify\u001b[0m\u001b[0;34m(\u001b[0m\u001b[0;34m)\u001b[0m\u001b[0;34m\u001b[0m\u001b[0m\n\u001b[0m",
      "\u001b[0;32m/Users/ugp/anaconda2/lib/python2.7/site-packages/bs4/element.pyc\u001b[0m in \u001b[0;36m__getattr__\u001b[0;34m(self, attr)\u001b[0m\n\u001b[1;32m    711\u001b[0m             raise AttributeError(\n\u001b[1;32m    712\u001b[0m                 \"'%s' object has no attribute '%s'\" % (\n\u001b[0;32m--> 713\u001b[0;31m                     self.__class__.__name__, attr))\n\u001b[0m\u001b[1;32m    714\u001b[0m \u001b[0;34m\u001b[0m\u001b[0m\n\u001b[1;32m    715\u001b[0m     \u001b[0;32mdef\u001b[0m \u001b[0moutput_ready\u001b[0m\u001b[0;34m(\u001b[0m\u001b[0mself\u001b[0m\u001b[0;34m,\u001b[0m \u001b[0mformatter\u001b[0m\u001b[0;34m=\u001b[0m\u001b[0;34m\"minimal\"\u001b[0m\u001b[0;34m)\u001b[0m\u001b[0;34m:\u001b[0m\u001b[0;34m\u001b[0m\u001b[0m\n",
      "\u001b[0;31mAttributeError\u001b[0m: 'Doctype' object has no attribute 'prettify'"
     ]
    }
   ],
   "source": [
    "page = urllib2.urlopen('https://www.petfinder.com/pet-search?query_id=6E5838E2-B8C8-11E6-887D-8AB7A27EC92C&page_number=1').read() \n",
    "soup = BeautifulSoup(page)   \n",
    "for row in soup:\n",
    "    print row.prettify()"
   ]
  },
  {
   "cell_type": "code",
   "execution_count": null,
   "metadata": {
    "collapsed": true
   },
   "outputs": [],
   "source": []
  }
 ],
 "metadata": {
  "anaconda-cloud": {},
  "kernelspec": {
   "display_name": "Python [Root]",
   "language": "python",
   "name": "Python [Root]"
  },
  "language_info": {
   "codemirror_mode": {
    "name": "ipython",
    "version": 2
   },
   "file_extension": ".py",
   "mimetype": "text/x-python",
   "name": "python",
   "nbconvert_exporter": "python",
   "pygments_lexer": "ipython2",
   "version": "2.7.12"
  }
 },
 "nbformat": 4,
 "nbformat_minor": 0
}
