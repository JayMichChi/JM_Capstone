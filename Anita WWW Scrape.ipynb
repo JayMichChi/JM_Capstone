{
 "cells": [
  {
   "cell_type": "code",
   "execution_count": 5,
   "metadata": {
    "collapsed": false
   },
   "outputs": [
    {
     "data": {
      "text/plain": [
       "['https://www.petfinder.com/pet-search?query_id=F50F8720-B80D-11E6-A332-7FB7A27EC92C&page_number=1',\n",
       " 'https://www.petfinder.com/pet-search?query_id=F50F8720-B80D-11E6-A332-7FB7A27EC92C&page_number=2',\n",
       " 'https://www.petfinder.com/pet-search?query_id=F50F8720-B80D-11E6-A332-7FB7A27EC92C&page_number=3',\n",
       " 'https://www.petfinder.com/pet-search?query_id=F50F8720-B80D-11E6-A332-7FB7A27EC92C&page_number=4',\n",
       " 'https://www.petfinder.com/pet-search?query_id=F50F8720-B80D-11E6-A332-7FB7A27EC92C&page_number=5',\n",
       " 'https://www.petfinder.com/pet-search?query_id=F50F8720-B80D-11E6-A332-7FB7A27EC92C&page_number=6',\n",
       " 'https://www.petfinder.com/pet-search?query_id=F50F8720-B80D-11E6-A332-7FB7A27EC92C&page_number=7',\n",
       " 'https://www.petfinder.com/pet-search?query_id=F50F8720-B80D-11E6-A332-7FB7A27EC92C&page_number=8',\n",
       " 'https://www.petfinder.com/pet-search?query_id=F50F8720-B80D-11E6-A332-7FB7A27EC92C&page_number=9',\n",
       " 'https://www.petfinder.com/pet-search?query_id=F50F8720-B80D-11E6-A332-7FB7A27EC92C&page_number=10',\n",
       " 'https://www.petfinder.com/pet-search?query_id=F50F8720-B80D-11E6-A332-7FB7A27EC92C&page_number=11',\n",
       " 'https://www.petfinder.com/pet-search?query_id=F50F8720-B80D-11E6-A332-7FB7A27EC92C&page_number=12',\n",
       " 'https://www.petfinder.com/pet-search?query_id=F50F8720-B80D-11E6-A332-7FB7A27EC92C&page_number=13',\n",
       " 'https://www.petfinder.com/pet-search?query_id=F50F8720-B80D-11E6-A332-7FB7A27EC92C&page_number=14',\n",
       " 'https://www.petfinder.com/pet-search?query_id=F50F8720-B80D-11E6-A332-7FB7A27EC92C&page_number=15',\n",
       " 'https://www.petfinder.com/pet-search?query_id=F50F8720-B80D-11E6-A332-7FB7A27EC92C&page_number=16',\n",
       " 'https://www.petfinder.com/pet-search?query_id=F50F8720-B80D-11E6-A332-7FB7A27EC92C&page_number=17',\n",
       " 'https://www.petfinder.com/pet-search?query_id=F50F8720-B80D-11E6-A332-7FB7A27EC92C&page_number=18',\n",
       " 'https://www.petfinder.com/pet-search?query_id=F50F8720-B80D-11E6-A332-7FB7A27EC92C&page_number=19']"
      ]
     },
     "execution_count": 5,
     "metadata": {},
     "output_type": "execute_result"
    }
   ],
   "source": [
    "#here is my scroll. it works, but the database url_base changes in y2010, \n",
    "# so i will re-run this with the updated base_url\n",
    "import pandas as pd\n",
    "import time\n",
    "url_list = ['https://www.petfinder.com/pet-search?query_id=F50F8720-B80D-11E6-A332-7FB7A27EC92C&page_number=1']\n",
    "web_count= 1\n",
    "for pages in range(2,20):\n",
    "    web_count= 1 + web_count\n",
    "    count_update=str(web_count)\n",
    "    base_url = 'https://www.petfinder.com/pet-search?query_id=F50F8720-B80D-11E6-A332-7FB7A27EC92C&page_number=' + count_update \n",
    "    url_list.append(base_url)\n",
    "url_list\n",
    "# This works wonderfully!\n",
    "\n",
    "\n"
   ]
  },
  {
   "cell_type": "code",
   "execution_count": null,
   "metadata": {
    "collapsed": true
   },
   "outputs": [],
   "source": []
  }
 ],
 "metadata": {
  "kernelspec": {
   "display_name": "Python [Root]",
   "language": "python",
   "name": "Python [Root]"
  },
  "language_info": {
   "codemirror_mode": {
    "name": "ipython",
    "version": 2
   },
   "file_extension": ".py",
   "mimetype": "text/x-python",
   "name": "python",
   "nbconvert_exporter": "python",
   "pygments_lexer": "ipython2",
   "version": "2.7.12"
  }
 },
 "nbformat": 4,
 "nbformat_minor": 0
}
