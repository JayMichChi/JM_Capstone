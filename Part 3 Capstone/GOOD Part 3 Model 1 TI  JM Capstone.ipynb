{
 "cells": [
  {
   "cell_type": "code",
   "execution_count": 1,
   "metadata": {
    "collapsed": false
   },
   "outputs": [],
   "source": [
    "import pandas as pd\n",
    "import numpy as np\n",
    "import matplotlib.pyplot as plt\n",
    "%matplotlib inline\n",
    "from sklearn.grid_search import GridSearchCV\n",
    "from sklearn.preprocessing import LabelEncoder\n",
    "from sklearn.cross_validation import train_test_split\n",
    "from sklearn.tree import DecisionTreeRegressor\n",
    "from sklearn.cross_validation import KFold\n",
    "from sklearn.cross_validation import StratifiedKFold\n",
    "from sklearn.cross_validation import cross_val_score, StratifiedKFold\n",
    "from sklearn.tree import DecisionTreeClassifier\n",
    "from sklearn.ensemble import RandomForestClassifier, ExtraTreesClassifier, BaggingClassifier\n",
    "from sklearn.metrics import classification_report, confusion_matrix\n",
    "from sklearn.neighbors import KNeighborsClassifier\n",
    "import sklearn\n",
    "from sklearn.linear_model import LogisticRegression\n",
    "from sklearn.feature_extraction.text import CountVectorizer\n",
    "from sklearn.metrics import confusion_matrix, classification_report\n",
    "import seaborn as sb\n",
    "from sklearn.metrics import roc_curve, auc\n",
    "import matplotlib.pyplot as plt\n",
    "plt.style.use('seaborn-white')\n",
    "from sklearn.grid_search import GridSearchCV\n",
    "from sklearn.cross_validation import train_test_split \n",
    "\n",
    "import numpy as np\n",
    "import pandas as pd \n",
    "import math\n",
    "import matplotlib.pyplot as plt\n",
    "import seaborn as sbn\n",
    "from patsy import dmatrices\n",
    "from sklearn.linear_model import LogisticRegression\n",
    "from sklearn.cross_validation import train_test_split, cross_val_score\n",
    "from sklearn.metrics import confusion_matrix, classification_report\n",
    "from sklearn.linear_model import Ridge, Lasso\n",
    "from sklearn.grid_search import GridSearchCV\n",
    "from sklearn import metrics\n",
    "from sklearn.neighbors import KNeighborsClassifier\n",
    "from sklearn import preprocessing\n",
    "from sklearn.preprocessing import StandardScaler\n",
    "from sklearn.metrics import roc_curve, auc\n",
    "plt.style.use('seaborn-white')"
   ]
  },
  {
   "cell_type": "markdown",
   "metadata": {},
   "source": [
    "## Dataframe construction"
   ]
  },
  {
   "cell_type": "code",
   "execution_count": 2,
   "metadata": {
    "collapsed": true
   },
   "outputs": [],
   "source": [
    "import pandas as pd"
   ]
  },
  {
   "cell_type": "code",
   "execution_count": 3,
   "metadata": {
    "collapsed": false
   },
   "outputs": [],
   "source": [
    "import pandas as pd\n",
    "df1 = pd.read_csv('../Part 2 Capstone/df2.csv', index_col=0)"
   ]
  },
  {
   "cell_type": "code",
   "execution_count": 4,
   "metadata": {
    "collapsed": true
   },
   "outputs": [],
   "source": [
    "df1['MONTH_NAME'] = df1['MONTH_NAME'].apply(lambda x: x.replace(' ', ''))"
   ]
  },
  {
   "cell_type": "code",
   "execution_count": 5,
   "metadata": {
    "collapsed": true
   },
   "outputs": [],
   "source": [
    "event_types = ['Drought' ,'Flood' ,'Winter Storm', 'OTHER', 'High Wind' ,'ThunderStorm',\n",
    " 'Wildfire', 'Rip Current' ,'Tropical Storm' ,'Tornado' ,'Hurricane', 'Tsunami',\n",
    " 'Landslide']\n",
    "for i in event_types:\n",
    "     df1['is_'+i] = df1['EVENT_TYPE'].apply(lambda x: 1 if i in x else 0)"
   ]
  },
  {
   "cell_type": "code",
   "execution_count": 6,
   "metadata": {
    "collapsed": false
   },
   "outputs": [
    {
     "data": {
      "text/plain": [
       "array([nan, 'F1', 'F0', 'F2', 'F3', 'F4', 'EF3', 'EF1', 'EF0', 'EF2',\n",
       "       'EF4', 'EF5'], dtype=object)"
      ]
     },
     "execution_count": 6,
     "metadata": {},
     "output_type": "execute_result"
    }
   ],
   "source": [
    "df1.TOR_F_SCALE.unique()"
   ]
  },
  {
   "cell_type": "code",
   "execution_count": 7,
   "metadata": {
    "collapsed": false
   },
   "outputs": [],
   "source": [
    "tor_all = pd.get_dummies(df1.TOR_F_SCALE, prefix=\"is\", prefix_sep='_', dummy_na=False, columns=None, sparse=False, drop_first=False)\n",
    "# tor_all_1 = pd.get_dummies(df1.STATE, prefix=\"is\", prefix_sep='_', dummy_na=False, columns=None, sparse=False, drop_first=False)"
   ]
  },
  {
   "cell_type": "code",
   "execution_count": 8,
   "metadata": {
    "collapsed": false
   },
   "outputs": [
    {
     "data": {
      "text/html": [
       "<div>\n",
       "<table border=\"1\" class=\"dataframe\">\n",
       "  <thead>\n",
       "    <tr style=\"text-align: right;\">\n",
       "      <th></th>\n",
       "      <th>is_EF0</th>\n",
       "      <th>is_EF1</th>\n",
       "      <th>is_EF2</th>\n",
       "      <th>is_EF3</th>\n",
       "      <th>is_EF4</th>\n",
       "      <th>is_EF5</th>\n",
       "      <th>is_F0</th>\n",
       "      <th>is_F1</th>\n",
       "      <th>is_F2</th>\n",
       "      <th>is_F3</th>\n",
       "      <th>is_F4</th>\n",
       "    </tr>\n",
       "  </thead>\n",
       "  <tbody>\n",
       "    <tr>\n",
       "      <th>0</th>\n",
       "      <td>0.0</td>\n",
       "      <td>0.0</td>\n",
       "      <td>0.0</td>\n",
       "      <td>0.0</td>\n",
       "      <td>0.0</td>\n",
       "      <td>0.0</td>\n",
       "      <td>0.0</td>\n",
       "      <td>0.0</td>\n",
       "      <td>0.0</td>\n",
       "      <td>0.0</td>\n",
       "      <td>0.0</td>\n",
       "    </tr>\n",
       "    <tr>\n",
       "      <th>1</th>\n",
       "      <td>0.0</td>\n",
       "      <td>0.0</td>\n",
       "      <td>0.0</td>\n",
       "      <td>0.0</td>\n",
       "      <td>0.0</td>\n",
       "      <td>0.0</td>\n",
       "      <td>0.0</td>\n",
       "      <td>0.0</td>\n",
       "      <td>0.0</td>\n",
       "      <td>0.0</td>\n",
       "      <td>0.0</td>\n",
       "    </tr>\n",
       "    <tr>\n",
       "      <th>2</th>\n",
       "      <td>0.0</td>\n",
       "      <td>0.0</td>\n",
       "      <td>0.0</td>\n",
       "      <td>0.0</td>\n",
       "      <td>0.0</td>\n",
       "      <td>0.0</td>\n",
       "      <td>0.0</td>\n",
       "      <td>0.0</td>\n",
       "      <td>0.0</td>\n",
       "      <td>0.0</td>\n",
       "      <td>0.0</td>\n",
       "    </tr>\n",
       "    <tr>\n",
       "      <th>3</th>\n",
       "      <td>0.0</td>\n",
       "      <td>0.0</td>\n",
       "      <td>0.0</td>\n",
       "      <td>0.0</td>\n",
       "      <td>0.0</td>\n",
       "      <td>0.0</td>\n",
       "      <td>0.0</td>\n",
       "      <td>0.0</td>\n",
       "      <td>0.0</td>\n",
       "      <td>0.0</td>\n",
       "      <td>0.0</td>\n",
       "    </tr>\n",
       "    <tr>\n",
       "      <th>4</th>\n",
       "      <td>0.0</td>\n",
       "      <td>0.0</td>\n",
       "      <td>0.0</td>\n",
       "      <td>0.0</td>\n",
       "      <td>0.0</td>\n",
       "      <td>0.0</td>\n",
       "      <td>0.0</td>\n",
       "      <td>0.0</td>\n",
       "      <td>0.0</td>\n",
       "      <td>0.0</td>\n",
       "      <td>0.0</td>\n",
       "    </tr>\n",
       "  </tbody>\n",
       "</table>\n",
       "</div>"
      ],
      "text/plain": [
       "   is_EF0  is_EF1  is_EF2  is_EF3  is_EF4  is_EF5  is_F0  is_F1  is_F2  is_F3  \\\n",
       "0     0.0     0.0     0.0     0.0     0.0     0.0    0.0    0.0    0.0    0.0   \n",
       "1     0.0     0.0     0.0     0.0     0.0     0.0    0.0    0.0    0.0    0.0   \n",
       "2     0.0     0.0     0.0     0.0     0.0     0.0    0.0    0.0    0.0    0.0   \n",
       "3     0.0     0.0     0.0     0.0     0.0     0.0    0.0    0.0    0.0    0.0   \n",
       "4     0.0     0.0     0.0     0.0     0.0     0.0    0.0    0.0    0.0    0.0   \n",
       "\n",
       "   is_F4  \n",
       "0    0.0  \n",
       "1    0.0  \n",
       "2    0.0  \n",
       "3    0.0  \n",
       "4    0.0  "
      ]
     },
     "execution_count": 8,
     "metadata": {},
     "output_type": "execute_result"
    }
   ],
   "source": [
    "tor_all.head()\n",
    "# tor_all_1.head()"
   ]
  },
  {
   "cell_type": "code",
   "execution_count": 9,
   "metadata": {
    "collapsed": true
   },
   "outputs": [],
   "source": [
    "df1['TD'] = df1['TOTAL_DEATHS'].apply(lambda x: 1 if x > 0 else 0)"
   ]
  },
  {
   "cell_type": "code",
   "execution_count": 10,
   "metadata": {
    "collapsed": true
   },
   "outputs": [],
   "source": [
    "df1['TI'] = df1['TOTAL_INJURIES'].apply(lambda x: 1 if x > 0 else 0)"
   ]
  },
  {
   "cell_type": "code",
   "execution_count": 11,
   "metadata": {
    "collapsed": false,
    "scrolled": true
   },
   "outputs": [
    {
     "data": {
      "text/plain": [
       "count    654313.000000\n",
       "mean          0.010668\n",
       "std           0.102732\n",
       "min           0.000000\n",
       "25%           0.000000\n",
       "50%           0.000000\n",
       "75%           0.000000\n",
       "max           1.000000\n",
       "Name: TI, dtype: float64"
      ]
     },
     "execution_count": 11,
     "metadata": {},
     "output_type": "execute_result"
    }
   ],
   "source": [
    "df1['TI'].describe()"
   ]
  },
  {
   "cell_type": "code",
   "execution_count": null,
   "metadata": {
    "collapsed": false
   },
   "outputs": [],
   "source": [
    "# is_tornado_model['CASUALTIES'].value_counts()"
   ]
  },
  {
   "cell_type": "code",
   "execution_count": 12,
   "metadata": {
    "collapsed": false
   },
   "outputs": [],
   "source": [
    "df_all = pd.concat([df1, tor_all], axis=1)"
   ]
  },
  {
   "cell_type": "code",
   "execution_count": 13,
   "metadata": {
    "collapsed": false
   },
   "outputs": [
    {
     "data": {
      "text/html": [
       "<div>\n",
       "<table border=\"1\" class=\"dataframe\">\n",
       "  <thead>\n",
       "    <tr style=\"text-align: right;\">\n",
       "      <th></th>\n",
       "      <th>EVENT_ID</th>\n",
       "      <th>EPISODE_ID</th>\n",
       "      <th>INJURIES_DIRECT</th>\n",
       "      <th>INJURIES_INDIRECT</th>\n",
       "      <th>TOTAL_INJURIES</th>\n",
       "      <th>DEATHS_DIRECT</th>\n",
       "      <th>DEATHS_INDIRECT</th>\n",
       "      <th>TOTAL_DEATHS</th>\n",
       "      <th>CASUALTIES</th>\n",
       "      <th>DAMAGE_PROPERTY</th>\n",
       "      <th>...</th>\n",
       "      <th>is_EF1</th>\n",
       "      <th>is_EF2</th>\n",
       "      <th>is_EF3</th>\n",
       "      <th>is_EF4</th>\n",
       "      <th>is_EF5</th>\n",
       "      <th>is_F0</th>\n",
       "      <th>is_F1</th>\n",
       "      <th>is_F2</th>\n",
       "      <th>is_F3</th>\n",
       "      <th>is_F4</th>\n",
       "    </tr>\n",
       "  </thead>\n",
       "  <tbody>\n",
       "    <tr>\n",
       "      <th>count</th>\n",
       "      <td>6.543130e+05</td>\n",
       "      <td>6.543130e+05</td>\n",
       "      <td>654313.000000</td>\n",
       "      <td>654313.000000</td>\n",
       "      <td>654313.000000</td>\n",
       "      <td>654313.000000</td>\n",
       "      <td>654313.000000</td>\n",
       "      <td>654313.000000</td>\n",
       "      <td>654313.000000</td>\n",
       "      <td>6.543130e+05</td>\n",
       "      <td>...</td>\n",
       "      <td>654313.000000</td>\n",
       "      <td>654313.000000</td>\n",
       "      <td>654313.000000</td>\n",
       "      <td>654313.000000</td>\n",
       "      <td>654313.000000</td>\n",
       "      <td>654313.000000</td>\n",
       "      <td>654313.000000</td>\n",
       "      <td>654313.000000</td>\n",
       "      <td>654313.000000</td>\n",
       "      <td>654313.000000</td>\n",
       "    </tr>\n",
       "    <tr>\n",
       "      <th>mean</th>\n",
       "      <td>1.892418e+06</td>\n",
       "      <td>8.729241e+04</td>\n",
       "      <td>0.053577</td>\n",
       "      <td>0.013384</td>\n",
       "      <td>0.066960</td>\n",
       "      <td>0.008861</td>\n",
       "      <td>0.002017</td>\n",
       "      <td>0.010879</td>\n",
       "      <td>0.077839</td>\n",
       "      <td>3.812313e+05</td>\n",
       "      <td>...</td>\n",
       "      <td>0.004771</td>\n",
       "      <td>0.001571</td>\n",
       "      <td>0.000501</td>\n",
       "      <td>0.000124</td>\n",
       "      <td>0.000021</td>\n",
       "      <td>0.005724</td>\n",
       "      <td>0.002458</td>\n",
       "      <td>0.000663</td>\n",
       "      <td>0.000197</td>\n",
       "      <td>0.000037</td>\n",
       "    </tr>\n",
       "    <tr>\n",
       "      <th>std</th>\n",
       "      <td>2.418225e+06</td>\n",
       "      <td>7.913208e+04</td>\n",
       "      <td>2.914238</td>\n",
       "      <td>3.024913</td>\n",
       "      <td>4.203051</td>\n",
       "      <td>0.284431</td>\n",
       "      <td>0.062737</td>\n",
       "      <td>0.297602</td>\n",
       "      <td>4.334101</td>\n",
       "      <td>3.506985e+07</td>\n",
       "      <td>...</td>\n",
       "      <td>0.068911</td>\n",
       "      <td>0.039606</td>\n",
       "      <td>0.022384</td>\n",
       "      <td>0.011126</td>\n",
       "      <td>0.004626</td>\n",
       "      <td>0.075437</td>\n",
       "      <td>0.049513</td>\n",
       "      <td>0.025746</td>\n",
       "      <td>0.014040</td>\n",
       "      <td>0.006056</td>\n",
       "    </tr>\n",
       "    <tr>\n",
       "      <th>min</th>\n",
       "      <td>3.419000e+03</td>\n",
       "      <td>7.650000e+02</td>\n",
       "      <td>0.000000</td>\n",
       "      <td>0.000000</td>\n",
       "      <td>0.000000</td>\n",
       "      <td>0.000000</td>\n",
       "      <td>0.000000</td>\n",
       "      <td>0.000000</td>\n",
       "      <td>0.000000</td>\n",
       "      <td>0.000000e+00</td>\n",
       "      <td>...</td>\n",
       "      <td>0.000000</td>\n",
       "      <td>0.000000</td>\n",
       "      <td>0.000000</td>\n",
       "      <td>0.000000</td>\n",
       "      <td>0.000000</td>\n",
       "      <td>0.000000</td>\n",
       "      <td>0.000000</td>\n",
       "      <td>0.000000</td>\n",
       "      <td>0.000000</td>\n",
       "      <td>0.000000</td>\n",
       "    </tr>\n",
       "    <tr>\n",
       "      <th>25%</th>\n",
       "      <td>1.808540e+05</td>\n",
       "      <td>3.058300e+04</td>\n",
       "      <td>0.000000</td>\n",
       "      <td>0.000000</td>\n",
       "      <td>0.000000</td>\n",
       "      <td>0.000000</td>\n",
       "      <td>0.000000</td>\n",
       "      <td>0.000000</td>\n",
       "      <td>0.000000</td>\n",
       "      <td>0.000000e+00</td>\n",
       "      <td>...</td>\n",
       "      <td>0.000000</td>\n",
       "      <td>0.000000</td>\n",
       "      <td>0.000000</td>\n",
       "      <td>0.000000</td>\n",
       "      <td>0.000000</td>\n",
       "      <td>0.000000</td>\n",
       "      <td>0.000000</td>\n",
       "      <td>0.000000</td>\n",
       "      <td>0.000000</td>\n",
       "      <td>0.000000</td>\n",
       "    </tr>\n",
       "    <tr>\n",
       "      <th>50%</th>\n",
       "      <td>3.533630e+05</td>\n",
       "      <td>5.888900e+04</td>\n",
       "      <td>0.000000</td>\n",
       "      <td>0.000000</td>\n",
       "      <td>0.000000</td>\n",
       "      <td>0.000000</td>\n",
       "      <td>0.000000</td>\n",
       "      <td>0.000000</td>\n",
       "      <td>0.000000</td>\n",
       "      <td>0.000000e+00</td>\n",
       "      <td>...</td>\n",
       "      <td>0.000000</td>\n",
       "      <td>0.000000</td>\n",
       "      <td>0.000000</td>\n",
       "      <td>0.000000</td>\n",
       "      <td>0.000000</td>\n",
       "      <td>0.000000</td>\n",
       "      <td>0.000000</td>\n",
       "      <td>0.000000</td>\n",
       "      <td>0.000000</td>\n",
       "      <td>0.000000</td>\n",
       "    </tr>\n",
       "    <tr>\n",
       "      <th>75%</th>\n",
       "      <td>5.371730e+06</td>\n",
       "      <td>1.625420e+05</td>\n",
       "      <td>0.000000</td>\n",
       "      <td>0.000000</td>\n",
       "      <td>0.000000</td>\n",
       "      <td>0.000000</td>\n",
       "      <td>0.000000</td>\n",
       "      <td>0.000000</td>\n",
       "      <td>0.000000</td>\n",
       "      <td>0.000000e+00</td>\n",
       "      <td>...</td>\n",
       "      <td>0.000000</td>\n",
       "      <td>0.000000</td>\n",
       "      <td>0.000000</td>\n",
       "      <td>0.000000</td>\n",
       "      <td>0.000000</td>\n",
       "      <td>0.000000</td>\n",
       "      <td>0.000000</td>\n",
       "      <td>0.000000</td>\n",
       "      <td>0.000000</td>\n",
       "      <td>0.000000</td>\n",
       "    </tr>\n",
       "    <tr>\n",
       "      <th>max</th>\n",
       "      <td>5.535308e+06</td>\n",
       "      <td>1.152422e+06</td>\n",
       "      <td>1150.000000</td>\n",
       "      <td>2400.000000</td>\n",
       "      <td>2400.000000</td>\n",
       "      <td>158.000000</td>\n",
       "      <td>11.000000</td>\n",
       "      <td>161.000000</td>\n",
       "      <td>2409.000000</td>\n",
       "      <td>1.790000e+10</td>\n",
       "      <td>...</td>\n",
       "      <td>1.000000</td>\n",
       "      <td>1.000000</td>\n",
       "      <td>1.000000</td>\n",
       "      <td>1.000000</td>\n",
       "      <td>1.000000</td>\n",
       "      <td>1.000000</td>\n",
       "      <td>1.000000</td>\n",
       "      <td>1.000000</td>\n",
       "      <td>1.000000</td>\n",
       "      <td>1.000000</td>\n",
       "    </tr>\n",
       "  </tbody>\n",
       "</table>\n",
       "<p>8 rows × 42 columns</p>\n",
       "</div>"
      ],
      "text/plain": [
       "           EVENT_ID    EPISODE_ID  INJURIES_DIRECT  INJURIES_INDIRECT  \\\n",
       "count  6.543130e+05  6.543130e+05    654313.000000      654313.000000   \n",
       "mean   1.892418e+06  8.729241e+04         0.053577           0.013384   \n",
       "std    2.418225e+06  7.913208e+04         2.914238           3.024913   \n",
       "min    3.419000e+03  7.650000e+02         0.000000           0.000000   \n",
       "25%    1.808540e+05  3.058300e+04         0.000000           0.000000   \n",
       "50%    3.533630e+05  5.888900e+04         0.000000           0.000000   \n",
       "75%    5.371730e+06  1.625420e+05         0.000000           0.000000   \n",
       "max    5.535308e+06  1.152422e+06      1150.000000        2400.000000   \n",
       "\n",
       "       TOTAL_INJURIES  DEATHS_DIRECT  DEATHS_INDIRECT   TOTAL_DEATHS  \\\n",
       "count   654313.000000  654313.000000    654313.000000  654313.000000   \n",
       "mean         0.066960       0.008861         0.002017       0.010879   \n",
       "std          4.203051       0.284431         0.062737       0.297602   \n",
       "min          0.000000       0.000000         0.000000       0.000000   \n",
       "25%          0.000000       0.000000         0.000000       0.000000   \n",
       "50%          0.000000       0.000000         0.000000       0.000000   \n",
       "75%          0.000000       0.000000         0.000000       0.000000   \n",
       "max       2400.000000     158.000000        11.000000     161.000000   \n",
       "\n",
       "          CASUALTIES  DAMAGE_PROPERTY      ...               is_EF1  \\\n",
       "count  654313.000000     6.543130e+05      ...        654313.000000   \n",
       "mean        0.077839     3.812313e+05      ...             0.004771   \n",
       "std         4.334101     3.506985e+07      ...             0.068911   \n",
       "min         0.000000     0.000000e+00      ...             0.000000   \n",
       "25%         0.000000     0.000000e+00      ...             0.000000   \n",
       "50%         0.000000     0.000000e+00      ...             0.000000   \n",
       "75%         0.000000     0.000000e+00      ...             0.000000   \n",
       "max      2409.000000     1.790000e+10      ...             1.000000   \n",
       "\n",
       "              is_EF2         is_EF3         is_EF4         is_EF5  \\\n",
       "count  654313.000000  654313.000000  654313.000000  654313.000000   \n",
       "mean        0.001571       0.000501       0.000124       0.000021   \n",
       "std         0.039606       0.022384       0.011126       0.004626   \n",
       "min         0.000000       0.000000       0.000000       0.000000   \n",
       "25%         0.000000       0.000000       0.000000       0.000000   \n",
       "50%         0.000000       0.000000       0.000000       0.000000   \n",
       "75%         0.000000       0.000000       0.000000       0.000000   \n",
       "max         1.000000       1.000000       1.000000       1.000000   \n",
       "\n",
       "               is_F0          is_F1          is_F2          is_F3  \\\n",
       "count  654313.000000  654313.000000  654313.000000  654313.000000   \n",
       "mean        0.005724       0.002458       0.000663       0.000197   \n",
       "std         0.075437       0.049513       0.025746       0.014040   \n",
       "min         0.000000       0.000000       0.000000       0.000000   \n",
       "25%         0.000000       0.000000       0.000000       0.000000   \n",
       "50%         0.000000       0.000000       0.000000       0.000000   \n",
       "75%         0.000000       0.000000       0.000000       0.000000   \n",
       "max         1.000000       1.000000       1.000000       1.000000   \n",
       "\n",
       "               is_F4  \n",
       "count  654313.000000  \n",
       "mean        0.000037  \n",
       "std         0.006056  \n",
       "min         0.000000  \n",
       "25%         0.000000  \n",
       "50%         0.000000  \n",
       "75%         0.000000  \n",
       "max         1.000000  \n",
       "\n",
       "[8 rows x 42 columns]"
      ]
     },
     "execution_count": 13,
     "metadata": {},
     "output_type": "execute_result"
    }
   ],
   "source": [
    "df_all.describe()"
   ]
  },
  {
   "cell_type": "code",
   "execution_count": null,
   "metadata": {
    "collapsed": true
   },
   "outputs": [],
   "source": []
  },
  {
   "cell_type": "code",
   "execution_count": 14,
   "metadata": {
    "collapsed": true
   },
   "outputs": [],
   "source": [
    "is_tornado_model = df_all"
   ]
  },
  {
   "cell_type": "code",
   "execution_count": 15,
   "metadata": {
    "collapsed": false
   },
   "outputs": [
    {
     "data": {
      "text/html": [
       "<div>\n",
       "<table border=\"1\" class=\"dataframe\">\n",
       "  <thead>\n",
       "    <tr style=\"text-align: right;\">\n",
       "      <th></th>\n",
       "      <th>EVENT_ID</th>\n",
       "      <th>EPISODE_ID</th>\n",
       "      <th>INJURIES_DIRECT</th>\n",
       "      <th>INJURIES_INDIRECT</th>\n",
       "      <th>TOTAL_INJURIES</th>\n",
       "      <th>DEATHS_DIRECT</th>\n",
       "      <th>DEATHS_INDIRECT</th>\n",
       "      <th>TOTAL_DEATHS</th>\n",
       "      <th>CASUALTIES</th>\n",
       "      <th>DAMAGE_PROPERTY</th>\n",
       "      <th>...</th>\n",
       "      <th>is_EF1</th>\n",
       "      <th>is_EF2</th>\n",
       "      <th>is_EF3</th>\n",
       "      <th>is_EF4</th>\n",
       "      <th>is_EF5</th>\n",
       "      <th>is_F0</th>\n",
       "      <th>is_F1</th>\n",
       "      <th>is_F2</th>\n",
       "      <th>is_F3</th>\n",
       "      <th>is_F4</th>\n",
       "    </tr>\n",
       "  </thead>\n",
       "  <tbody>\n",
       "    <tr>\n",
       "      <th>count</th>\n",
       "      <td>6.543130e+05</td>\n",
       "      <td>6.543130e+05</td>\n",
       "      <td>654313.000000</td>\n",
       "      <td>654313.000000</td>\n",
       "      <td>654313.000000</td>\n",
       "      <td>654313.000000</td>\n",
       "      <td>654313.000000</td>\n",
       "      <td>654313.000000</td>\n",
       "      <td>654313.000000</td>\n",
       "      <td>6.543130e+05</td>\n",
       "      <td>...</td>\n",
       "      <td>654313.000000</td>\n",
       "      <td>654313.000000</td>\n",
       "      <td>654313.000000</td>\n",
       "      <td>654313.000000</td>\n",
       "      <td>654313.000000</td>\n",
       "      <td>654313.000000</td>\n",
       "      <td>654313.000000</td>\n",
       "      <td>654313.000000</td>\n",
       "      <td>654313.000000</td>\n",
       "      <td>654313.000000</td>\n",
       "    </tr>\n",
       "    <tr>\n",
       "      <th>mean</th>\n",
       "      <td>1.892418e+06</td>\n",
       "      <td>8.729241e+04</td>\n",
       "      <td>0.053577</td>\n",
       "      <td>0.013384</td>\n",
       "      <td>0.066960</td>\n",
       "      <td>0.008861</td>\n",
       "      <td>0.002017</td>\n",
       "      <td>0.010879</td>\n",
       "      <td>0.077839</td>\n",
       "      <td>3.812313e+05</td>\n",
       "      <td>...</td>\n",
       "      <td>0.004771</td>\n",
       "      <td>0.001571</td>\n",
       "      <td>0.000501</td>\n",
       "      <td>0.000124</td>\n",
       "      <td>0.000021</td>\n",
       "      <td>0.005724</td>\n",
       "      <td>0.002458</td>\n",
       "      <td>0.000663</td>\n",
       "      <td>0.000197</td>\n",
       "      <td>0.000037</td>\n",
       "    </tr>\n",
       "    <tr>\n",
       "      <th>std</th>\n",
       "      <td>2.418225e+06</td>\n",
       "      <td>7.913208e+04</td>\n",
       "      <td>2.914238</td>\n",
       "      <td>3.024913</td>\n",
       "      <td>4.203051</td>\n",
       "      <td>0.284431</td>\n",
       "      <td>0.062737</td>\n",
       "      <td>0.297602</td>\n",
       "      <td>4.334101</td>\n",
       "      <td>3.506985e+07</td>\n",
       "      <td>...</td>\n",
       "      <td>0.068911</td>\n",
       "      <td>0.039606</td>\n",
       "      <td>0.022384</td>\n",
       "      <td>0.011126</td>\n",
       "      <td>0.004626</td>\n",
       "      <td>0.075437</td>\n",
       "      <td>0.049513</td>\n",
       "      <td>0.025746</td>\n",
       "      <td>0.014040</td>\n",
       "      <td>0.006056</td>\n",
       "    </tr>\n",
       "    <tr>\n",
       "      <th>min</th>\n",
       "      <td>3.419000e+03</td>\n",
       "      <td>7.650000e+02</td>\n",
       "      <td>0.000000</td>\n",
       "      <td>0.000000</td>\n",
       "      <td>0.000000</td>\n",
       "      <td>0.000000</td>\n",
       "      <td>0.000000</td>\n",
       "      <td>0.000000</td>\n",
       "      <td>0.000000</td>\n",
       "      <td>0.000000e+00</td>\n",
       "      <td>...</td>\n",
       "      <td>0.000000</td>\n",
       "      <td>0.000000</td>\n",
       "      <td>0.000000</td>\n",
       "      <td>0.000000</td>\n",
       "      <td>0.000000</td>\n",
       "      <td>0.000000</td>\n",
       "      <td>0.000000</td>\n",
       "      <td>0.000000</td>\n",
       "      <td>0.000000</td>\n",
       "      <td>0.000000</td>\n",
       "    </tr>\n",
       "    <tr>\n",
       "      <th>25%</th>\n",
       "      <td>1.808540e+05</td>\n",
       "      <td>3.058300e+04</td>\n",
       "      <td>0.000000</td>\n",
       "      <td>0.000000</td>\n",
       "      <td>0.000000</td>\n",
       "      <td>0.000000</td>\n",
       "      <td>0.000000</td>\n",
       "      <td>0.000000</td>\n",
       "      <td>0.000000</td>\n",
       "      <td>0.000000e+00</td>\n",
       "      <td>...</td>\n",
       "      <td>0.000000</td>\n",
       "      <td>0.000000</td>\n",
       "      <td>0.000000</td>\n",
       "      <td>0.000000</td>\n",
       "      <td>0.000000</td>\n",
       "      <td>0.000000</td>\n",
       "      <td>0.000000</td>\n",
       "      <td>0.000000</td>\n",
       "      <td>0.000000</td>\n",
       "      <td>0.000000</td>\n",
       "    </tr>\n",
       "    <tr>\n",
       "      <th>50%</th>\n",
       "      <td>3.533630e+05</td>\n",
       "      <td>5.888900e+04</td>\n",
       "      <td>0.000000</td>\n",
       "      <td>0.000000</td>\n",
       "      <td>0.000000</td>\n",
       "      <td>0.000000</td>\n",
       "      <td>0.000000</td>\n",
       "      <td>0.000000</td>\n",
       "      <td>0.000000</td>\n",
       "      <td>0.000000e+00</td>\n",
       "      <td>...</td>\n",
       "      <td>0.000000</td>\n",
       "      <td>0.000000</td>\n",
       "      <td>0.000000</td>\n",
       "      <td>0.000000</td>\n",
       "      <td>0.000000</td>\n",
       "      <td>0.000000</td>\n",
       "      <td>0.000000</td>\n",
       "      <td>0.000000</td>\n",
       "      <td>0.000000</td>\n",
       "      <td>0.000000</td>\n",
       "    </tr>\n",
       "    <tr>\n",
       "      <th>75%</th>\n",
       "      <td>5.371730e+06</td>\n",
       "      <td>1.625420e+05</td>\n",
       "      <td>0.000000</td>\n",
       "      <td>0.000000</td>\n",
       "      <td>0.000000</td>\n",
       "      <td>0.000000</td>\n",
       "      <td>0.000000</td>\n",
       "      <td>0.000000</td>\n",
       "      <td>0.000000</td>\n",
       "      <td>0.000000e+00</td>\n",
       "      <td>...</td>\n",
       "      <td>0.000000</td>\n",
       "      <td>0.000000</td>\n",
       "      <td>0.000000</td>\n",
       "      <td>0.000000</td>\n",
       "      <td>0.000000</td>\n",
       "      <td>0.000000</td>\n",
       "      <td>0.000000</td>\n",
       "      <td>0.000000</td>\n",
       "      <td>0.000000</td>\n",
       "      <td>0.000000</td>\n",
       "    </tr>\n",
       "    <tr>\n",
       "      <th>max</th>\n",
       "      <td>5.535308e+06</td>\n",
       "      <td>1.152422e+06</td>\n",
       "      <td>1150.000000</td>\n",
       "      <td>2400.000000</td>\n",
       "      <td>2400.000000</td>\n",
       "      <td>158.000000</td>\n",
       "      <td>11.000000</td>\n",
       "      <td>161.000000</td>\n",
       "      <td>2409.000000</td>\n",
       "      <td>1.790000e+10</td>\n",
       "      <td>...</td>\n",
       "      <td>1.000000</td>\n",
       "      <td>1.000000</td>\n",
       "      <td>1.000000</td>\n",
       "      <td>1.000000</td>\n",
       "      <td>1.000000</td>\n",
       "      <td>1.000000</td>\n",
       "      <td>1.000000</td>\n",
       "      <td>1.000000</td>\n",
       "      <td>1.000000</td>\n",
       "      <td>1.000000</td>\n",
       "    </tr>\n",
       "  </tbody>\n",
       "</table>\n",
       "<p>8 rows × 42 columns</p>\n",
       "</div>"
      ],
      "text/plain": [
       "           EVENT_ID    EPISODE_ID  INJURIES_DIRECT  INJURIES_INDIRECT  \\\n",
       "count  6.543130e+05  6.543130e+05    654313.000000      654313.000000   \n",
       "mean   1.892418e+06  8.729241e+04         0.053577           0.013384   \n",
       "std    2.418225e+06  7.913208e+04         2.914238           3.024913   \n",
       "min    3.419000e+03  7.650000e+02         0.000000           0.000000   \n",
       "25%    1.808540e+05  3.058300e+04         0.000000           0.000000   \n",
       "50%    3.533630e+05  5.888900e+04         0.000000           0.000000   \n",
       "75%    5.371730e+06  1.625420e+05         0.000000           0.000000   \n",
       "max    5.535308e+06  1.152422e+06      1150.000000        2400.000000   \n",
       "\n",
       "       TOTAL_INJURIES  DEATHS_DIRECT  DEATHS_INDIRECT   TOTAL_DEATHS  \\\n",
       "count   654313.000000  654313.000000    654313.000000  654313.000000   \n",
       "mean         0.066960       0.008861         0.002017       0.010879   \n",
       "std          4.203051       0.284431         0.062737       0.297602   \n",
       "min          0.000000       0.000000         0.000000       0.000000   \n",
       "25%          0.000000       0.000000         0.000000       0.000000   \n",
       "50%          0.000000       0.000000         0.000000       0.000000   \n",
       "75%          0.000000       0.000000         0.000000       0.000000   \n",
       "max       2400.000000     158.000000        11.000000     161.000000   \n",
       "\n",
       "          CASUALTIES  DAMAGE_PROPERTY      ...               is_EF1  \\\n",
       "count  654313.000000     6.543130e+05      ...        654313.000000   \n",
       "mean        0.077839     3.812313e+05      ...             0.004771   \n",
       "std         4.334101     3.506985e+07      ...             0.068911   \n",
       "min         0.000000     0.000000e+00      ...             0.000000   \n",
       "25%         0.000000     0.000000e+00      ...             0.000000   \n",
       "50%         0.000000     0.000000e+00      ...             0.000000   \n",
       "75%         0.000000     0.000000e+00      ...             0.000000   \n",
       "max      2409.000000     1.790000e+10      ...             1.000000   \n",
       "\n",
       "              is_EF2         is_EF3         is_EF4         is_EF5  \\\n",
       "count  654313.000000  654313.000000  654313.000000  654313.000000   \n",
       "mean        0.001571       0.000501       0.000124       0.000021   \n",
       "std         0.039606       0.022384       0.011126       0.004626   \n",
       "min         0.000000       0.000000       0.000000       0.000000   \n",
       "25%         0.000000       0.000000       0.000000       0.000000   \n",
       "50%         0.000000       0.000000       0.000000       0.000000   \n",
       "75%         0.000000       0.000000       0.000000       0.000000   \n",
       "max         1.000000       1.000000       1.000000       1.000000   \n",
       "\n",
       "               is_F0          is_F1          is_F2          is_F3  \\\n",
       "count  654313.000000  654313.000000  654313.000000  654313.000000   \n",
       "mean        0.005724       0.002458       0.000663       0.000197   \n",
       "std         0.075437       0.049513       0.025746       0.014040   \n",
       "min         0.000000       0.000000       0.000000       0.000000   \n",
       "25%         0.000000       0.000000       0.000000       0.000000   \n",
       "50%         0.000000       0.000000       0.000000       0.000000   \n",
       "75%         0.000000       0.000000       0.000000       0.000000   \n",
       "max         1.000000       1.000000       1.000000       1.000000   \n",
       "\n",
       "               is_F4  \n",
       "count  654313.000000  \n",
       "mean        0.000037  \n",
       "std         0.006056  \n",
       "min         0.000000  \n",
       "25%         0.000000  \n",
       "50%         0.000000  \n",
       "75%         0.000000  \n",
       "max         1.000000  \n",
       "\n",
       "[8 rows x 42 columns]"
      ]
     },
     "execution_count": 15,
     "metadata": {},
     "output_type": "execute_result"
    }
   ],
   "source": [
    "is_tornado_model.describe()"
   ]
  },
  {
   "cell_type": "code",
   "execution_count": 16,
   "metadata": {
    "collapsed": false
   },
   "outputs": [],
   "source": [
    "is_tornado_model.drop([ u'is_Drought', u'is_Flood',\n",
    "       u'is_Winter Storm', u'is_OTHER', u'is_High Wind', u'is_ThunderStorm',\n",
    "       u'is_Wildfire', u'is_Rip Current', u'is_Tropical Storm',\n",
    "       u'is_Hurricane', u'is_Tsunami', u'is_Landslide','YEAR', u'TOTAL_INJURIES', u'DAMAGE_PROPERTY', u'DAMAGE_CROPS',\n",
    "       u'COMBINED_DAMAGE', 'EVENT_ID', u'EPISODE_ID',u'INJURIES_DIRECT', u'CASUALTIES', u'INJURIES_INDIRECT','EVENT_TYPE', 'DATE', u'CZ_NAME', u'CATEGORY', u'STATE',\n",
    "       u'MONTH_NAME', u'TOR_F_SCALE', u'EPISODE_NARRATIVE', u'EVENT_NARRATIVE',u'DEATHS_DIRECT',\n",
    "       u'DEATHS_INDIRECT', u'TOTAL_DEATHS'], axis=1, inplace=True)"
   ]
  },
  {
   "cell_type": "code",
   "execution_count": 17,
   "metadata": {
    "collapsed": false
   },
   "outputs": [
    {
     "data": {
      "text/plain": [
       "Index([u'TOR_LENGTH', u'TOR_WIDTH', u'is_Tornado', u'TD', u'TI', u'is_EF0',\n",
       "       u'is_EF1', u'is_EF2', u'is_EF3', u'is_EF4', u'is_EF5', u'is_F0',\n",
       "       u'is_F1', u'is_F2', u'is_F3', u'is_F4'],\n",
       "      dtype='object')"
      ]
     },
     "execution_count": 17,
     "metadata": {},
     "output_type": "execute_result"
    }
   ],
   "source": [
    "is_tornado_model.columns"
   ]
  },
  {
   "cell_type": "code",
   "execution_count": 18,
   "metadata": {
    "collapsed": false
   },
   "outputs": [
    {
     "data": {
      "text/plain": [
       "0.99057026224452216"
      ]
     },
     "execution_count": 18,
     "metadata": {},
     "output_type": "execute_result"
    }
   ],
   "source": [
    "rf_model = RandomForestClassifier()\n",
    "\n",
    "y1 = LabelEncoder().fit_transform(is_tornado_model['TI'])\n",
    "x1 = is_tornado_model.drop(['TI', 'TD'], axis=1)\n",
    "\n",
    "model1 = rf_model.fit(x1,y1)\n",
    "model1.score(x1,y1)"
   ]
  },
  {
   "cell_type": "code",
   "execution_count": 19,
   "metadata": {
    "collapsed": false
   },
   "outputs": [
    {
     "data": {
      "text/plain": [
       "array([[647283,     50],\n",
       "       [  6120,    860]])"
      ]
     },
     "execution_count": 19,
     "metadata": {},
     "output_type": "execute_result"
    }
   ],
   "source": [
    "predicted_class1 = model1.predict(x1)\n",
    "confusion_matrix(y1, predicted_class1)"
   ]
  },
  {
   "cell_type": "code",
   "execution_count": 20,
   "metadata": {
    "collapsed": false
   },
   "outputs": [
    {
     "name": "stdout",
     "output_type": "stream",
     "text": [
      "             precision    recall  f1-score   support\n",
      "\n",
      "          0       0.99      1.00      1.00    647333\n",
      "          1       0.95      0.12      0.22      6980\n",
      "\n",
      "avg / total       0.99      0.99      0.99    654313\n",
      "\n"
     ]
    }
   ],
   "source": [
    "print classification_report(y1, predicted_class1)"
   ]
  },
  {
   "cell_type": "code",
   "execution_count": 21,
   "metadata": {
    "collapsed": false
   },
   "outputs": [],
   "source": [
    "# plt.figure(figsize=(11,8))\n",
    "# sbn.heatmap(is_tornado_model.corr())"
   ]
  },
  {
   "cell_type": "code",
   "execution_count": 22,
   "metadata": {
    "collapsed": false
   },
   "outputs": [],
   "source": [
    "x_train, x_test, y_train, y_test = train_test_split(x1,y1)"
   ]
  },
  {
   "cell_type": "code",
   "execution_count": 23,
   "metadata": {
    "collapsed": false
   },
   "outputs": [
    {
     "data": {
      "text/plain": [
       "((490734, 14), (163579, 14), (490734,), (163579,))"
      ]
     },
     "execution_count": 23,
     "metadata": {},
     "output_type": "execute_result"
    }
   ],
   "source": [
    "x_train.shape, x_test.shape, y_train.shape, y_test.shape"
   ]
  },
  {
   "cell_type": "code",
   "execution_count": 24,
   "metadata": {
    "collapsed": true
   },
   "outputs": [],
   "source": [
    "rfTTS = RandomForestClassifier()"
   ]
  },
  {
   "cell_type": "code",
   "execution_count": 25,
   "metadata": {
    "collapsed": false
   },
   "outputs": [
    {
     "data": {
      "text/plain": [
       "0.99069557030896571"
      ]
     },
     "execution_count": 25,
     "metadata": {},
     "output_type": "execute_result"
    }
   ],
   "source": [
    "modelTTS = rfTTS.fit(x_train, y_train)\n",
    "\n",
    "modelTTS.score(x_train, y_train)"
   ]
  },
  {
   "cell_type": "code",
   "execution_count": 26,
   "metadata": {
    "collapsed": false
   },
   "outputs": [
    {
     "data": {
      "text/plain": [
       "array([[485498,     55],\n",
       "       [  4511,    670]])"
      ]
     },
     "execution_count": 26,
     "metadata": {},
     "output_type": "execute_result"
    }
   ],
   "source": [
    "predict_train = modelTTS.predict(x_train)\n",
    "confusion_matrix(y_train, predict_train)"
   ]
  },
  {
   "cell_type": "code",
   "execution_count": 27,
   "metadata": {
    "collapsed": false
   },
   "outputs": [
    {
     "data": {
      "text/plain": [
       "0.9888066316580979"
      ]
     },
     "execution_count": 27,
     "metadata": {},
     "output_type": "execute_result"
    }
   ],
   "source": [
    "modelTTS.score(x_test, y_test)"
   ]
  },
  {
   "cell_type": "code",
   "execution_count": 28,
   "metadata": {
    "collapsed": false
   },
   "outputs": [
    {
     "data": {
      "text/plain": [
       "array([[161663,    117],\n",
       "       [  1714,     85]])"
      ]
     },
     "execution_count": 28,
     "metadata": {},
     "output_type": "execute_result"
    }
   ],
   "source": [
    "predict_test = modelTTS.predict(x_test)\n",
    "confusion_matrix(y_test, predict_test)\n"
   ]
  },
  {
   "cell_type": "code",
   "execution_count": null,
   "metadata": {
    "collapsed": false
   },
   "outputs": [],
   "source": [
    "# Y_score = rfTTS.decision_function(x_test)\n",
    "\n",
    "# FPR = dict()\n",
    "# TPR = dict()\n",
    "# ROC_AUC = dict()\n",
    "\n",
    "# print roc_curve(y_test, Y_score)\n",
    "\n",
    "# FPR[1], TPR[1], _ = roc_curve(y_test, Y_score)\n",
    "# ROC_AUC[1] = auc(FPR[1], TPR[1])"
   ]
  },
  {
   "cell_type": "code",
   "execution_count": null,
   "metadata": {
    "collapsed": false
   },
   "outputs": [],
   "source": [
    "# plt.figure(figsize=[11,9])\n",
    "# plt.plot(FPR[1], TPR[1], label='ROC curve (area = %0.2f)' % ROC_AUC[1], linewidth=4)\n",
    "# plt.plot([0, 1], [0, 1], 'k--', linewidth=4)\n",
    "# plt.xlim([0.0, 1.0])\n",
    "# plt.ylim([0.0, 1.05])\n",
    "# plt.xlabel('False Positive Rate', fontsize=18)\n",
    "# plt.ylabel('True Positive Rate', fontsize=18)\n",
    "# plt.title('Tornado Deaths Predictor', fontsize=18)\n",
    "# plt.legend(loc=\"lower right\")\n",
    "# plt.show()"
   ]
  },
  {
   "cell_type": "code",
   "execution_count": null,
   "metadata": {
    "collapsed": true
   },
   "outputs": [],
   "source": [
    "#GRidsearch\n",
    "# rf_parameters = {\n",
    "#     \"n_estimators\" : [10, 25, 50, 100, 500],\n",
    "#     \"max_depth\" : [2,3,5,7,10, None],\n",
    "#     \"max_features\" : [0.25, 0.5, 0.75, 1.0]\n",
    "# }\n",
    "# modelgs = RandomForestClassifier()"
   ]
  },
  {
   "cell_type": "code",
   "execution_count": null,
   "metadata": {
    "collapsed": false
   },
   "outputs": [],
   "source": [
    "# grid_search = GridSearchCV(estimator=modelgs,\n",
    "#                           param_grid=rf_parameters\n",
    "#                            , n_jobs=-1) \n",
    "# grid_search"
   ]
  },
  {
   "cell_type": "code",
   "execution_count": null,
   "metadata": {
    "collapsed": false
   },
   "outputs": [],
   "source": [
    "# ygs = LabelEncoder().fit_transform(y_test)\n",
    "# xgs = x_test"
   ]
  },
  {
   "cell_type": "code",
   "execution_count": null,
   "metadata": {
    "collapsed": false
   },
   "outputs": [],
   "source": [
    "# grid_search.fit(xgs, ygs)"
   ]
  },
  {
   "cell_type": "code",
   "execution_count": null,
   "metadata": {
    "collapsed": false
   },
   "outputs": [],
   "source": [
    "# grid_search.best_score_"
   ]
  },
  {
   "cell_type": "code",
   "execution_count": null,
   "metadata": {
    "collapsed": false
   },
   "outputs": [],
   "source": [
    "# grid_search.best_estimator_"
   ]
  },
  {
   "cell_type": "code",
   "execution_count": null,
   "metadata": {
    "collapsed": false
   },
   "outputs": [],
   "source": [
    "# grid_search.best_estimator_.fit(x1, y1)"
   ]
  },
  {
   "cell_type": "code",
   "execution_count": null,
   "metadata": {
    "collapsed": false
   },
   "outputs": [],
   "source": [
    "# grid_search.best_estimator_.score(x1, y1)"
   ]
  },
  {
   "cell_type": "code",
   "execution_count": null,
   "metadata": {
    "collapsed": false
   },
   "outputs": [],
   "source": [
    "# # Confusion matrix for final grid-search model\n",
    "\n",
    "# gspredict = grid_search.predict(xgs)\n",
    "# confusion_matrix(ygs, gspredict)"
   ]
  },
  {
   "cell_type": "code",
   "execution_count": null,
   "metadata": {
    "collapsed": true
   },
   "outputs": [],
   "source": []
  },
  {
   "cell_type": "markdown",
   "metadata": {
    "collapsed": true
   },
   "source": [
    "## Start Here. Reduce sample size for modelling purposes"
   ]
  },
  {
   "cell_type": "code",
   "execution_count": 29,
   "metadata": {
    "collapsed": true
   },
   "outputs": [],
   "source": [
    "df = is_tornado_model.sample(frac=0.1)\n",
    "df.reset_index(drop=True, inplace=True)"
   ]
  },
  {
   "cell_type": "code",
   "execution_count": 30,
   "metadata": {
    "collapsed": false
   },
   "outputs": [
    {
     "data": {
      "text/html": [
       "<div>\n",
       "<table border=\"1\" class=\"dataframe\">\n",
       "  <thead>\n",
       "    <tr style=\"text-align: right;\">\n",
       "      <th></th>\n",
       "      <th>TOR_LENGTH</th>\n",
       "      <th>TOR_WIDTH</th>\n",
       "      <th>is_Tornado</th>\n",
       "      <th>TD</th>\n",
       "      <th>TI</th>\n",
       "      <th>is_EF0</th>\n",
       "      <th>is_EF1</th>\n",
       "      <th>is_EF2</th>\n",
       "      <th>is_EF3</th>\n",
       "      <th>is_EF4</th>\n",
       "      <th>is_EF5</th>\n",
       "      <th>is_F0</th>\n",
       "      <th>is_F1</th>\n",
       "      <th>is_F2</th>\n",
       "      <th>is_F3</th>\n",
       "      <th>is_F4</th>\n",
       "    </tr>\n",
       "  </thead>\n",
       "  <tbody>\n",
       "    <tr>\n",
       "      <th>count</th>\n",
       "      <td>65431.000000</td>\n",
       "      <td>65431.000000</td>\n",
       "      <td>65431.000000</td>\n",
       "      <td>65431.000000</td>\n",
       "      <td>65431.000000</td>\n",
       "      <td>65431.000000</td>\n",
       "      <td>65431.000000</td>\n",
       "      <td>65431.000000</td>\n",
       "      <td>65431.000000</td>\n",
       "      <td>65431.000000</td>\n",
       "      <td>65431.000000</td>\n",
       "      <td>65431.000000</td>\n",
       "      <td>65431.000000</td>\n",
       "      <td>65431.000000</td>\n",
       "      <td>65431.000000</td>\n",
       "      <td>65431.000000</td>\n",
       "    </tr>\n",
       "    <tr>\n",
       "      <th>mean</th>\n",
       "      <td>0.071726</td>\n",
       "      <td>3.266674</td>\n",
       "      <td>0.030949</td>\n",
       "      <td>0.007015</td>\n",
       "      <td>0.010668</td>\n",
       "      <td>0.008345</td>\n",
       "      <td>0.004356</td>\n",
       "      <td>0.001467</td>\n",
       "      <td>0.000428</td>\n",
       "      <td>0.000061</td>\n",
       "      <td>0.000061</td>\n",
       "      <td>0.006251</td>\n",
       "      <td>0.002522</td>\n",
       "      <td>0.000535</td>\n",
       "      <td>0.000138</td>\n",
       "      <td>0.000061</td>\n",
       "    </tr>\n",
       "    <tr>\n",
       "      <th>std</th>\n",
       "      <td>1.006949</td>\n",
       "      <td>41.135518</td>\n",
       "      <td>0.173180</td>\n",
       "      <td>0.083462</td>\n",
       "      <td>0.102733</td>\n",
       "      <td>0.090968</td>\n",
       "      <td>0.065855</td>\n",
       "      <td>0.038276</td>\n",
       "      <td>0.020682</td>\n",
       "      <td>0.007819</td>\n",
       "      <td>0.007819</td>\n",
       "      <td>0.078815</td>\n",
       "      <td>0.050154</td>\n",
       "      <td>0.023122</td>\n",
       "      <td>0.011727</td>\n",
       "      <td>0.007819</td>\n",
       "    </tr>\n",
       "    <tr>\n",
       "      <th>min</th>\n",
       "      <td>0.000000</td>\n",
       "      <td>0.000000</td>\n",
       "      <td>0.000000</td>\n",
       "      <td>0.000000</td>\n",
       "      <td>0.000000</td>\n",
       "      <td>0.000000</td>\n",
       "      <td>0.000000</td>\n",
       "      <td>0.000000</td>\n",
       "      <td>0.000000</td>\n",
       "      <td>0.000000</td>\n",
       "      <td>0.000000</td>\n",
       "      <td>0.000000</td>\n",
       "      <td>0.000000</td>\n",
       "      <td>0.000000</td>\n",
       "      <td>0.000000</td>\n",
       "      <td>0.000000</td>\n",
       "    </tr>\n",
       "    <tr>\n",
       "      <th>25%</th>\n",
       "      <td>0.000000</td>\n",
       "      <td>0.000000</td>\n",
       "      <td>0.000000</td>\n",
       "      <td>0.000000</td>\n",
       "      <td>0.000000</td>\n",
       "      <td>0.000000</td>\n",
       "      <td>0.000000</td>\n",
       "      <td>0.000000</td>\n",
       "      <td>0.000000</td>\n",
       "      <td>0.000000</td>\n",
       "      <td>0.000000</td>\n",
       "      <td>0.000000</td>\n",
       "      <td>0.000000</td>\n",
       "      <td>0.000000</td>\n",
       "      <td>0.000000</td>\n",
       "      <td>0.000000</td>\n",
       "    </tr>\n",
       "    <tr>\n",
       "      <th>50%</th>\n",
       "      <td>0.000000</td>\n",
       "      <td>0.000000</td>\n",
       "      <td>0.000000</td>\n",
       "      <td>0.000000</td>\n",
       "      <td>0.000000</td>\n",
       "      <td>0.000000</td>\n",
       "      <td>0.000000</td>\n",
       "      <td>0.000000</td>\n",
       "      <td>0.000000</td>\n",
       "      <td>0.000000</td>\n",
       "      <td>0.000000</td>\n",
       "      <td>0.000000</td>\n",
       "      <td>0.000000</td>\n",
       "      <td>0.000000</td>\n",
       "      <td>0.000000</td>\n",
       "      <td>0.000000</td>\n",
       "    </tr>\n",
       "    <tr>\n",
       "      <th>75%</th>\n",
       "      <td>0.000000</td>\n",
       "      <td>0.000000</td>\n",
       "      <td>0.000000</td>\n",
       "      <td>0.000000</td>\n",
       "      <td>0.000000</td>\n",
       "      <td>0.000000</td>\n",
       "      <td>0.000000</td>\n",
       "      <td>0.000000</td>\n",
       "      <td>0.000000</td>\n",
       "      <td>0.000000</td>\n",
       "      <td>0.000000</td>\n",
       "      <td>0.000000</td>\n",
       "      <td>0.000000</td>\n",
       "      <td>0.000000</td>\n",
       "      <td>0.000000</td>\n",
       "      <td>0.000000</td>\n",
       "    </tr>\n",
       "    <tr>\n",
       "      <th>max</th>\n",
       "      <td>100.000000</td>\n",
       "      <td>2640.000000</td>\n",
       "      <td>1.000000</td>\n",
       "      <td>1.000000</td>\n",
       "      <td>1.000000</td>\n",
       "      <td>1.000000</td>\n",
       "      <td>1.000000</td>\n",
       "      <td>1.000000</td>\n",
       "      <td>1.000000</td>\n",
       "      <td>1.000000</td>\n",
       "      <td>1.000000</td>\n",
       "      <td>1.000000</td>\n",
       "      <td>1.000000</td>\n",
       "      <td>1.000000</td>\n",
       "      <td>1.000000</td>\n",
       "      <td>1.000000</td>\n",
       "    </tr>\n",
       "  </tbody>\n",
       "</table>\n",
       "</div>"
      ],
      "text/plain": [
       "         TOR_LENGTH     TOR_WIDTH    is_Tornado            TD            TI  \\\n",
       "count  65431.000000  65431.000000  65431.000000  65431.000000  65431.000000   \n",
       "mean       0.071726      3.266674      0.030949      0.007015      0.010668   \n",
       "std        1.006949     41.135518      0.173180      0.083462      0.102733   \n",
       "min        0.000000      0.000000      0.000000      0.000000      0.000000   \n",
       "25%        0.000000      0.000000      0.000000      0.000000      0.000000   \n",
       "50%        0.000000      0.000000      0.000000      0.000000      0.000000   \n",
       "75%        0.000000      0.000000      0.000000      0.000000      0.000000   \n",
       "max      100.000000   2640.000000      1.000000      1.000000      1.000000   \n",
       "\n",
       "             is_EF0        is_EF1        is_EF2        is_EF3        is_EF4  \\\n",
       "count  65431.000000  65431.000000  65431.000000  65431.000000  65431.000000   \n",
       "mean       0.008345      0.004356      0.001467      0.000428      0.000061   \n",
       "std        0.090968      0.065855      0.038276      0.020682      0.007819   \n",
       "min        0.000000      0.000000      0.000000      0.000000      0.000000   \n",
       "25%        0.000000      0.000000      0.000000      0.000000      0.000000   \n",
       "50%        0.000000      0.000000      0.000000      0.000000      0.000000   \n",
       "75%        0.000000      0.000000      0.000000      0.000000      0.000000   \n",
       "max        1.000000      1.000000      1.000000      1.000000      1.000000   \n",
       "\n",
       "             is_EF5         is_F0         is_F1         is_F2         is_F3  \\\n",
       "count  65431.000000  65431.000000  65431.000000  65431.000000  65431.000000   \n",
       "mean       0.000061      0.006251      0.002522      0.000535      0.000138   \n",
       "std        0.007819      0.078815      0.050154      0.023122      0.011727   \n",
       "min        0.000000      0.000000      0.000000      0.000000      0.000000   \n",
       "25%        0.000000      0.000000      0.000000      0.000000      0.000000   \n",
       "50%        0.000000      0.000000      0.000000      0.000000      0.000000   \n",
       "75%        0.000000      0.000000      0.000000      0.000000      0.000000   \n",
       "max        1.000000      1.000000      1.000000      1.000000      1.000000   \n",
       "\n",
       "              is_F4  \n",
       "count  65431.000000  \n",
       "mean       0.000061  \n",
       "std        0.007819  \n",
       "min        0.000000  \n",
       "25%        0.000000  \n",
       "50%        0.000000  \n",
       "75%        0.000000  \n",
       "max        1.000000  "
      ]
     },
     "execution_count": 30,
     "metadata": {},
     "output_type": "execute_result"
    }
   ],
   "source": [
    "df.describe()"
   ]
  },
  {
   "cell_type": "code",
   "execution_count": 31,
   "metadata": {
    "collapsed": false
   },
   "outputs": [],
   "source": [
    "y1 = LabelEncoder().fit_transform(df['TI'])\n",
    "x1 = df.drop(['TI', 'TD'], axis=1)"
   ]
  },
  {
   "cell_type": "code",
   "execution_count": 32,
   "metadata": {
    "collapsed": false
   },
   "outputs": [
    {
     "name": "stdout",
     "output_type": "stream",
     "text": [
      "(45801, 14) (45801,)\n",
      "(19630, 14) (19630,)\n"
     ]
    }
   ],
   "source": [
    "# setting up train and test data for X and y\n",
    "X_train, X_test, y_train, y_test = train_test_split(x1, y1, test_size=0.3)\n",
    "print X_train.shape, y_train.shape\n",
    "print X_test.shape, y_test.shape"
   ]
  },
  {
   "cell_type": "code",
   "execution_count": null,
   "metadata": {
    "collapsed": false
   },
   "outputs": [],
   "source": [
    "global_models = {\n",
    "   'knn' : KNeighborsClassifier(),\n",
    "   'knn_bag' : BaggingClassifier(KNeighborsClassifier()),\n",
    "   'logreg' : LogisticRegression(),\n",
    "   'logreg_bag' : BaggingClassifier(LogisticRegression()),\n",
    "   'tree' : DecisionTreeClassifier(),\n",
    "   'tree_bag' : BaggingClassifier(DecisionTreeClassifier()),\n",
    "   'forest' : RandomForestClassifier(),\n",
    "   'forest_bag' : BaggingClassifier(RandomForestClassifier()),\n",
    "   'extra_tree' : ExtraTreesClassifier(),\n",
    "   'extra_tree_bag' : BaggingClassifier(ExtraTreesClassifier())\n",
    "}"
   ]
  },
  {
   "cell_type": "code",
   "execution_count": null,
   "metadata": {
    "collapsed": true
   },
   "outputs": [],
   "source": [
    "results = {}\n",
    "\n",
    "def evaluate_model(X_train, X_test, \n",
    "                   y_train, y_test,\n",
    "                  model):\n",
    "    pick_a_model = global_models[model]\n",
    "    pick_a_model.fit(X_train, y_train)\n",
    "    print 'This is the model:', (model)\n",
    "    print 'Train model score:', pick_a_model.score(X_train, y_train)\n",
    "    predictions = pick_a_model.predict(X_test)\n",
    "    print '\\nConfusion matrix: \\n\\n', confusion_matrix(y_test, predictions)\n",
    "    print '\\nClassification report: \\n\\n', classification_report(y_test, predictions)\n",
    "    results.update({model: pick_a_model.score(X_test, y_test)})\n"
   ]
  },
  {
   "cell_type": "code",
   "execution_count": null,
   "metadata": {
    "collapsed": false
   },
   "outputs": [],
   "source": [
    "for key in global_models:\n",
    "    evaluate_model(X_train, X_test, y_train, y_test, key)"
   ]
  },
  {
   "cell_type": "code",
   "execution_count": null,
   "metadata": {
    "collapsed": true
   },
   "outputs": [],
   "source": [
    "# ## plots ROC curve\n",
    "# def plot_roc(x_test, y_test, model):\n",
    "#     fpr, tpr, _ = roc_curve(y_test, model.predict_proba(x_test)[:,1])\n",
    "#     roc_auc = auc(fpr, tpr)\n",
    "#     print 'ROC AUC: %0.2f' % roc_auc\n",
    "#     plt.figure()\n",
    "#     plt.plot(fpr, tpr, label='ROC curve (area = %0.2f)' % roc_auc)\n",
    "#     plt.plot([0, 1], [0, 1], 'k--')\n",
    "#     plt.xlim([0.0, 1.0])\n",
    "#     plt.ylim([0.0, 1.05])\n",
    "#     plt.xlabel('False Positive Rate')\n",
    "#     plt.ylabel('True Positive Rate')\n",
    "#     plt.title('ROC Curve')\n",
    "#     plt.legend(loc=\"lower right\")\n",
    "#     plt.show()"
   ]
  },
  {
   "cell_type": "code",
   "execution_count": null,
   "metadata": {
    "collapsed": true
   },
   "outputs": [],
   "source": []
  },
  {
   "cell_type": "code",
   "execution_count": null,
   "metadata": {
    "collapsed": true
   },
   "outputs": [],
   "source": []
  }
 ],
 "metadata": {
  "anaconda-cloud": {},
  "kernelspec": {
   "display_name": "Python [Root]",
   "language": "python",
   "name": "Python [Root]"
  },
  "language_info": {
   "codemirror_mode": {
    "name": "ipython",
    "version": 2
   },
   "file_extension": ".py",
   "mimetype": "text/x-python",
   "name": "python",
   "nbconvert_exporter": "python",
   "pygments_lexer": "ipython2",
   "version": "2.7.12"
  }
 },
 "nbformat": 4,
 "nbformat_minor": 0
}
